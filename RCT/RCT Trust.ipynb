{
 "cells": [
  {
   "cell_type": "code",
   "execution_count": 30,
   "metadata": {
    "collapsed": false
   },
   "outputs": [
    {
     "data": {
      "text/html": [
       "<div>\n",
       "<table border=\"1\" class=\"dataframe\">\n",
       "  <thead>\n",
       "    <tr style=\"text-align: right;\">\n",
       "      <th></th>\n",
       "      <th>Condition</th>\n",
       "      <th>User_ID</th>\n",
       "      <th>Time</th>\n",
       "      <th>Category</th>\n",
       "      <th>Gender</th>\n",
       "      <th>Age</th>\n",
       "      <th>Geography</th>\n",
       "      <th>Weight</th>\n",
       "      <th>Score</th>\n",
       "      <th>Response_Time</th>\n",
       "    </tr>\n",
       "  </thead>\n",
       "  <tbody>\n",
       "    <tr>\n",
       "      <th>0</th>\n",
       "      <td>Impersonal</td>\n",
       "      <td>1042289417</td>\n",
       "      <td>7/7/17 0:36</td>\n",
       "      <td>Arts &amp; Entertainment</td>\n",
       "      <td>Female</td>\n",
       "      <td>18-24</td>\n",
       "      <td>US-NORTHEAST-NY-New York</td>\n",
       "      <td>NaN</td>\n",
       "      <td>3</td>\n",
       "      <td>18841</td>\n",
       "    </tr>\n",
       "    <tr>\n",
       "      <th>1</th>\n",
       "      <td>Impersonal</td>\n",
       "      <td>1120370143</td>\n",
       "      <td>6/7/17 20:24</td>\n",
       "      <td>News</td>\n",
       "      <td>Male</td>\n",
       "      <td>35-44</td>\n",
       "      <td>US-SOUTH-DC-Washington</td>\n",
       "      <td>NaN</td>\n",
       "      <td>3</td>\n",
       "      <td>11200</td>\n",
       "    </tr>\n",
       "    <tr>\n",
       "      <th>2</th>\n",
       "      <td>Impersonal</td>\n",
       "      <td>1223171463</td>\n",
       "      <td>7/7/17 20:01</td>\n",
       "      <td>News</td>\n",
       "      <td>Female</td>\n",
       "      <td>18-24</td>\n",
       "      <td>US-NORTHEAST-MA-Taunton</td>\n",
       "      <td>NaN</td>\n",
       "      <td>3</td>\n",
       "      <td>58175</td>\n",
       "    </tr>\n",
       "    <tr>\n",
       "      <th>3</th>\n",
       "      <td>Impersonal</td>\n",
       "      <td>1274143080</td>\n",
       "      <td>7/7/17 12:54</td>\n",
       "      <td>News</td>\n",
       "      <td>Female</td>\n",
       "      <td>25-34</td>\n",
       "      <td>US-WEST-CO-Aspen</td>\n",
       "      <td>NaN</td>\n",
       "      <td>2</td>\n",
       "      <td>6311</td>\n",
       "    </tr>\n",
       "    <tr>\n",
       "      <th>4</th>\n",
       "      <td>Impersonal</td>\n",
       "      <td>1313061357</td>\n",
       "      <td>7/7/17 21:32</td>\n",
       "      <td>News</td>\n",
       "      <td>Male</td>\n",
       "      <td>35-44</td>\n",
       "      <td>US-MIDWEST-ND-Bismarck</td>\n",
       "      <td>NaN</td>\n",
       "      <td>3</td>\n",
       "      <td>22570</td>\n",
       "    </tr>\n",
       "  </tbody>\n",
       "</table>\n",
       "</div>"
      ],
      "text/plain": [
       "    Condition     User_ID          Time              Category  Gender    Age  \\\n",
       "0  Impersonal  1042289417   7/7/17 0:36  Arts & Entertainment  Female  18-24   \n",
       "1  Impersonal  1120370143  6/7/17 20:24                  News    Male  35-44   \n",
       "2  Impersonal  1223171463  7/7/17 20:01                  News  Female  18-24   \n",
       "3  Impersonal  1274143080  7/7/17 12:54                  News  Female  25-34   \n",
       "4  Impersonal  1313061357  7/7/17 21:32                  News    Male  35-44   \n",
       "\n",
       "                  Geography  Weight  Score  Response_Time  \n",
       "0  US-NORTHEAST-NY-New York     NaN      3          18841  \n",
       "1    US-SOUTH-DC-Washington     NaN      3          11200  \n",
       "2   US-NORTHEAST-MA-Taunton     NaN      3          58175  \n",
       "3          US-WEST-CO-Aspen     NaN      2           6311  \n",
       "4    US-MIDWEST-ND-Bismarck     NaN      3          22570  "
      ]
     },
     "execution_count": 30,
     "metadata": {},
     "output_type": "execute_result"
    }
   ],
   "source": [
    "import pandas as pd\n",
    "import numpy as np\n",
    "import plotly.plotly as py\n",
    "import plotly.graph_objs as go\n",
    "from plotly.tools import FigureFactory as FF\n",
    "import scipy\n",
    "import scipy.stats\n",
    "from sklearn.linear_model import LinearRegression\n",
    "%matplotlib inline\n",
    "\n",
    "import plotly \n",
    "plotly.tools.set_credentials_file(username='dzldebby', api_key='WgKg4rOcNEdqQqKe3YVw')\n",
    "\n",
    "\n",
    "\n",
    "#Condition 1 == Unpersonalised review, Condition 2 == Personalised Review \n",
    "\n",
    "df = pd.read_csv('RCT_Trust.csv')\n",
    "df.head()"
   ]
  },
  {
   "cell_type": "code",
   "execution_count": 31,
   "metadata": {
    "collapsed": false
   },
   "outputs": [
    {
     "data": {
      "text/plain": [
       "Condition   Gender\n",
       "Impersonal  Female    2.466667\n",
       "            Male      2.800000\n",
       "Personal    Female    2.812500\n",
       "            Male      3.714286\n",
       "Name: Score, dtype: float64"
      ]
     },
     "execution_count": 31,
     "metadata": {},
     "output_type": "execute_result"
    }
   ],
   "source": [
    "table = pd.pivot_table(df, values = 'Score', index = ['Condition', 'Gender'])\n",
    "table"
   ]
  },
  {
   "cell_type": "code",
   "execution_count": 32,
   "metadata": {
    "collapsed": false
   },
   "outputs": [],
   "source": [
    "#df['Gender'].value_counts()\n"
   ]
  },
  {
   "cell_type": "code",
   "execution_count": 70,
   "metadata": {
    "collapsed": false
   },
   "outputs": [],
   "source": [
    "\n",
    "data = df[df['Condition'] == \"Impersonal\"]\n",
    "data1 = data['Score']\n",
    "\n",
    "data3 = df[df['Condition'] == \"Personal\"]\n",
    "data2 = data3['Score']\n",
    "\n",
    "data3 = data3.rename(columns={'Response_Time': 'Response_Personal'})\n",
    "data = data.rename(columns={'Response_Time': 'Response_Impersonal'})\n",
    "\n"
   ]
  },
  {
   "cell_type": "code",
   "execution_count": 72,
   "metadata": {
    "collapsed": false
   },
   "outputs": [
    {
     "data": {
      "text/html": [
       "<div>\n",
       "<table border=\"1\" class=\"dataframe\">\n",
       "  <thead>\n",
       "    <tr style=\"text-align: right;\">\n",
       "      <th></th>\n",
       "      <th>User_ID</th>\n",
       "      <th>Weight</th>\n",
       "      <th>Score</th>\n",
       "      <th>Response_Time</th>\n",
       "    </tr>\n",
       "    <tr>\n",
       "      <th>Condition</th>\n",
       "      <th></th>\n",
       "      <th></th>\n",
       "      <th></th>\n",
       "      <th></th>\n",
       "    </tr>\n",
       "  </thead>\n",
       "  <tbody>\n",
       "    <tr>\n",
       "      <th>Impersonal</th>\n",
       "      <td>2.474463e+09</td>\n",
       "      <td>NaN</td>\n",
       "      <td>2.633333</td>\n",
       "      <td>17161.833333</td>\n",
       "    </tr>\n",
       "    <tr>\n",
       "      <th>Personal</th>\n",
       "      <td>1.069415e+09</td>\n",
       "      <td>NaN</td>\n",
       "      <td>3.233333</td>\n",
       "      <td>54065.400000</td>\n",
       "    </tr>\n",
       "  </tbody>\n",
       "</table>\n",
       "</div>"
      ],
      "text/plain": [
       "                 User_ID  Weight     Score  Response_Time\n",
       "Condition                                                \n",
       "Impersonal  2.474463e+09     NaN  2.633333   17161.833333\n",
       "Personal    1.069415e+09     NaN  3.233333   54065.400000"
      ]
     },
     "execution_count": 72,
     "metadata": {},
     "output_type": "execute_result"
    }
   ],
   "source": [
    "df.groupby('Condition').mean()"
   ]
  },
  {
   "cell_type": "code",
   "execution_count": 64,
   "metadata": {
    "collapsed": false
   },
   "outputs": [
    {
     "data": {
      "text/html": [
       "<iframe id=\"igraph\" scrolling=\"no\" style=\"border:none;\" seamless=\"seamless\" src=\"https://plot.ly/~dzldebby/8.embed\" height=\"525px\" width=\"100%\"></iframe>"
      ],
      "text/plain": [
       "<plotly.tools.PlotlyDisplay object>"
      ]
     },
     "execution_count": 64,
     "metadata": {},
     "output_type": "execute_result"
    }
   ],
   "source": [
    "#histogram\n",
    "\n",
    "x0 = data1\n",
    "x1 = data2\n",
    "\n",
    "trace1 = go.Histogram(\n",
    "    x=x0,\n",
    "    histnorm='count',\n",
    "    name='Impersonal',\n",
    "    marker=dict(\n",
    "        color='#418cf4',\n",
    "    ),\n",
    "    opacity=0.75\n",
    ")\n",
    "trace2 = go.Histogram(\n",
    "    x=x1,\n",
    "    name='Personalised',\n",
    "    marker=dict(\n",
    "        color='#f4c242'\n",
    "    ),\n",
    "    opacity=0.75\n",
    ")\n",
    "data = [trace1, trace2]\n",
    "\n",
    "layout = go.Layout(\n",
    "    title='Sampled Results',\n",
    "    xaxis=dict(\n",
    "        title='Value'\n",
    "    ),\n",
    "    yaxis=dict(\n",
    "        title='Count'\n",
    "    ),\n",
    "    bargap=0.2,\n",
    "    bargroupgap=0.1\n",
    ")\n",
    "fig = go.Figure(data=data, layout=layout)\n",
    "py.iplot(fig, filename='styled histogram')\n",
    "\n"
   ]
  },
  {
   "cell_type": "code",
   "execution_count": 65,
   "metadata": {
    "collapsed": false
   },
   "outputs": [
    {
     "data": {
      "text/html": [
       "<iframe id=\"igraph\" scrolling=\"no\" style=\"border:none;\" seamless=\"seamless\" src=\"https://plot.ly/~dzldebby/25.embed\" height=\"110px\" width=\"100%\"></iframe>"
      ],
      "text/plain": [
       "<plotly.tools.PlotlyDisplay object>"
      ]
     },
     "execution_count": 65,
     "metadata": {},
     "output_type": "execute_result"
    }
   ],
   "source": [
    "#two-sample t-test\n",
    "\n",
    "twosample_results = scipy.stats.ttest_ind(data1, data2)\n",
    "\n",
    "matrix_twosample = [\n",
    "    ['', 'Test Statistic', 'p-value'],\n",
    "    ['Sample Data', twosample_results[0], twosample_results[1]]\n",
    "]\n",
    "\n",
    "twosample_table = FF.create_table(matrix_twosample, index=True)\n",
    "py.iplot(twosample_table, file_id='twosample-table')\n"
   ]
  },
  {
   "cell_type": "code",
   "execution_count": 66,
   "metadata": {
    "collapsed": false
   },
   "outputs": [
    {
     "data": {
      "text/plain": [
       "LinearRegression(copy_X=True, fit_intercept=True, n_jobs=1, normalize=False)"
      ]
     },
     "execution_count": 66,
     "metadata": {},
     "output_type": "execute_result"
    }
   ],
   "source": [
    "feature_cols = ['Response_Time']\n",
    "X = df[feature_cols]\n",
    "y = df['Score']\n",
    "\n",
    "\n",
    "linreg = LinearRegression()\n",
    "linreg.fit(X, y)\n"
   ]
  },
  {
   "cell_type": "code",
   "execution_count": 75,
   "metadata": {
    "collapsed": false
   },
   "outputs": [
    {
     "data": {
      "text/plain": [
       "<matplotlib.axes._subplots.AxesSubplot at 0x1196b9a90>"
      ]
     },
     "execution_count": 75,
     "metadata": {},
     "output_type": "execute_result"
    },
    {
     "data": {
      "image/png": "[encoded data removed]",
      "text/plain": [
       "<matplotlib.figure.Figure at 0x119a55950>"
      ]
     },
     "metadata": {},
     "output_type": "display_data"
    }
   ],
   "source": [
    "#graph of response time against scores. More details make it harder for people to reach a conclusion\n",
    "\n",
    "data.groupby('Score').Response_Impersonal.mean().plot(xlim = (1, 5), xticks=(1,2,3,4,5), legend = \"test\", title = \"Responses Time Against Scores\")\n",
    "data3.groupby('Score').Response_Personal.mean().plot(xlim = (1, 5), xticks=(1,2,3,4,5), legend = \"test\")\n"
   ]
  },
  {
   "cell_type": "code",
   "execution_count": null,
   "metadata": {
    "collapsed": true
   },
   "outputs": [],
   "source": [
    "#time vs social comparison "
   ]
  },
  {
   "cell_type": "code",
   "execution_count": 84,
   "metadata": {
    "collapsed": false
   },
   "outputs": [
    {
     "data": {
      "text/html": [
       "<div>\n",
       "<table border=\"1\" class=\"dataframe\">\n",
       "  <thead>\n",
       "    <tr style=\"text-align: right;\">\n",
       "      <th></th>\n",
       "      <th>Condition</th>\n",
       "      <th>User ID</th>\n",
       "      <th>Time (UTC)</th>\n",
       "      <th>Survey Completion</th>\n",
       "      <th>Publisher Category</th>\n",
       "      <th>Gender</th>\n",
       "      <th>Age</th>\n",
       "      <th>Geography</th>\n",
       "      <th>Weight</th>\n",
       "      <th>Question #1 Synonym Group</th>\n",
       "      <th>Price</th>\n",
       "      <th>Response_Time</th>\n",
       "    </tr>\n",
       "  </thead>\n",
       "  <tbody>\n",
       "    <tr>\n",
       "      <th>0</th>\n",
       "      <td>Time</td>\n",
       "      <td>1125299670</td>\n",
       "      <td>9/7/17 22:45</td>\n",
       "      <td>Complete</td>\n",
       "      <td>News</td>\n",
       "      <td>Male</td>\n",
       "      <td>65+</td>\n",
       "      <td>US-MIDWEST-MO-Florissant</td>\n",
       "      <td>1.129179</td>\n",
       "      <td>39.5</td>\n",
       "      <td>39.5</td>\n",
       "      <td>80679</td>\n",
       "    </tr>\n",
       "    <tr>\n",
       "      <th>1</th>\n",
       "      <td>Time</td>\n",
       "      <td>1238570858</td>\n",
       "      <td>11/7/17 5:01</td>\n",
       "      <td>Complete</td>\n",
       "      <td>Other</td>\n",
       "      <td>Female</td>\n",
       "      <td>45-54</td>\n",
       "      <td>US-MIDWEST-ND-Mayville</td>\n",
       "      <td>1.273988</td>\n",
       "      <td>35.0</td>\n",
       "      <td>35.0</td>\n",
       "      <td>10827</td>\n",
       "    </tr>\n",
       "    <tr>\n",
       "      <th>2</th>\n",
       "      <td>Time</td>\n",
       "      <td>1426530800</td>\n",
       "      <td>9/7/17 20:07</td>\n",
       "      <td>Complete</td>\n",
       "      <td>News</td>\n",
       "      <td>Male</td>\n",
       "      <td>35-44</td>\n",
       "      <td>US-MIDWEST-MI-DeWitt</td>\n",
       "      <td>0.000008</td>\n",
       "      <td>35.0</td>\n",
       "      <td>35.0</td>\n",
       "      <td>32060</td>\n",
       "    </tr>\n",
       "    <tr>\n",
       "      <th>3</th>\n",
       "      <td>Time</td>\n",
       "      <td>472546757</td>\n",
       "      <td>10/7/17 1:02</td>\n",
       "      <td>Complete</td>\n",
       "      <td>News</td>\n",
       "      <td>Male</td>\n",
       "      <td>35-44</td>\n",
       "      <td>US-SOUTH-TN-Nashville</td>\n",
       "      <td>0.019379</td>\n",
       "      <td>30.0</td>\n",
       "      <td>30.0</td>\n",
       "      <td>22244</td>\n",
       "    </tr>\n",
       "    <tr>\n",
       "      <th>4</th>\n",
       "      <td>Time</td>\n",
       "      <td>575305722</td>\n",
       "      <td>9/7/17 4:43</td>\n",
       "      <td>Complete</td>\n",
       "      <td>News</td>\n",
       "      <td>Male</td>\n",
       "      <td>35-44</td>\n",
       "      <td>US-MIDWEST-IA-Jesup</td>\n",
       "      <td>0.000008</td>\n",
       "      <td>20.0</td>\n",
       "      <td>20.0</td>\n",
       "      <td>25568</td>\n",
       "    </tr>\n",
       "  </tbody>\n",
       "</table>\n",
       "</div>"
      ],
      "text/plain": [
       "  Condition     User ID    Time (UTC) Survey Completion Publisher Category  \\\n",
       "0      Time  1125299670  9/7/17 22:45          Complete               News   \n",
       "1      Time  1238570858  11/7/17 5:01          Complete              Other   \n",
       "2      Time  1426530800  9/7/17 20:07          Complete               News   \n",
       "3      Time   472546757  10/7/17 1:02          Complete               News   \n",
       "4      Time   575305722   9/7/17 4:43          Complete               News   \n",
       "\n",
       "   Gender    Age                 Geography    Weight  \\\n",
       "0    Male    65+  US-MIDWEST-MO-Florissant  1.129179   \n",
       "1  Female  45-54    US-MIDWEST-ND-Mayville  1.273988   \n",
       "2    Male  35-44      US-MIDWEST-MI-DeWitt  0.000008   \n",
       "3    Male  35-44     US-SOUTH-TN-Nashville  0.019379   \n",
       "4    Male  35-44       US-MIDWEST-IA-Jesup  0.000008   \n",
       "\n",
       "   Question #1 Synonym Group  Price  Response_Time  \n",
       "0                       39.5   39.5          80679  \n",
       "1                       35.0   35.0          10827  \n",
       "2                       35.0   35.0          32060  \n",
       "3                       30.0   30.0          22244  \n",
       "4                       20.0   20.0          25568  "
      ]
     },
     "execution_count": 84,
     "metadata": {},
     "output_type": "execute_result"
    }
   ],
   "source": [
    "time = pd.read_csv('time_vs_social.csv')\n",
    "\n",
    "time.head()"
   ]
  },
  {
   "cell_type": "code",
   "execution_count": 86,
   "metadata": {
    "collapsed": true
   },
   "outputs": [],
   "source": [
    "time_data = time[time['Condition'] == \"Time\"]\n",
    "time_data1 = time_data['Price']\n",
    "\n",
    "\n",
    "time_data3 = time[time['Condition'] == \"Social\"]\n",
    "time_data2 = time_data3['Price']\n",
    "\n",
    "\n",
    "time_data3 = time_data3.rename(columns={'Response_Time': 'Response_Social'})\n",
    "time_data = time_data.rename(columns={'Response_Time': 'Response_Time'})\n"
   ]
  },
  {
   "cell_type": "code",
   "execution_count": 82,
   "metadata": {
    "collapsed": false
   },
   "outputs": [
    {
     "data": {
      "text/html": [
       "<div>\n",
       "<table border=\"1\" class=\"dataframe\">\n",
       "  <thead>\n",
       "    <tr style=\"text-align: right;\">\n",
       "      <th></th>\n",
       "      <th>User ID</th>\n",
       "      <th>Weight</th>\n",
       "      <th>Question #1 Synonym Group</th>\n",
       "      <th>Price</th>\n",
       "      <th>Response Time #1 (ms)</th>\n",
       "    </tr>\n",
       "    <tr>\n",
       "      <th>Condition</th>\n",
       "      <th></th>\n",
       "      <th></th>\n",
       "      <th></th>\n",
       "      <th></th>\n",
       "      <th></th>\n",
       "    </tr>\n",
       "  </thead>\n",
       "  <tbody>\n",
       "    <tr>\n",
       "      <th>Social</th>\n",
       "      <td>1.378583e+09</td>\n",
       "      <td>0.9</td>\n",
       "      <td>25.849</td>\n",
       "      <td>25.849</td>\n",
       "      <td>33604.9</td>\n",
       "    </tr>\n",
       "    <tr>\n",
       "      <th>Time</th>\n",
       "      <td>7.504359e+08</td>\n",
       "      <td>0.9</td>\n",
       "      <td>32.450</td>\n",
       "      <td>32.450</td>\n",
       "      <td>37253.7</td>\n",
       "    </tr>\n",
       "  </tbody>\n",
       "</table>\n",
       "</div>"
      ],
      "text/plain": [
       "                User ID  Weight  Question #1 Synonym Group   Price  \\\n",
       "Condition                                                            \n",
       "Social     1.378583e+09     0.9                     25.849  25.849   \n",
       "Time       7.504359e+08     0.9                     32.450  32.450   \n",
       "\n",
       "           Response Time #1 (ms)  \n",
       "Condition                         \n",
       "Social                   33604.9  \n",
       "Time                     37253.7  "
      ]
     },
     "execution_count": 82,
     "metadata": {},
     "output_type": "execute_result"
    }
   ],
   "source": [
    "time.groupby('Condition').mean()"
   ]
  },
  {
   "cell_type": "code",
   "execution_count": 83,
   "metadata": {
    "collapsed": false
   },
   "outputs": [
    {
     "data": {
      "text/html": [
       "<iframe id=\"igraph\" scrolling=\"no\" style=\"border:none;\" seamless=\"seamless\" src=\"https://plot.ly/~dzldebby/29.embed\" height=\"110px\" width=\"100%\"></iframe>"
      ],
      "text/plain": [
       "<plotly.tools.PlotlyDisplay object>"
      ]
     },
     "execution_count": 83,
     "metadata": {},
     "output_type": "execute_result"
    }
   ],
   "source": [
    "twosample_results = scipy.stats.ttest_ind(time_data1, time_data2)\n",
    "\n",
    "matrix_twosample = [\n",
    "    ['', 'Test Statistic', 'p-value'],\n",
    "    ['Sample Data', twosample_results[0], twosample_results[1]]\n",
    "]\n",
    "\n",
    "twosample_table = FF.create_table(matrix_twosample, index=True)\n",
    "py.iplot(twosample_table, file_id='twosample-table')\n"
   ]
  },
  {
   "cell_type": "code",
   "execution_count": 91,
   "metadata": {
    "collapsed": false
   },
   "outputs": [
    {
     "data": {
      "text/plain": [
       "<matplotlib.axes._subplots.AxesSubplot at 0x11a178310>"
      ]
     },
     "execution_count": 91,
     "metadata": {},
     "output_type": "execute_result"
    },
    {
     "data": {
      "image/png": "[encoded data removed]",
      "text/plain": [
       "<matplotlib.figure.Figure at 0x119f23d10>"
      ]
     },
     "metadata": {},
     "output_type": "display_data"
    }
   ],
   "source": [
    "time_data.groupby('Price').Response_Time.mean().plot(xlim = (18, 40), legend = \"test\", title = \"Responses Time Against Scores\")\n",
    "time_data3.groupby('Price').Response_Social.mean().plot(xlim = (18, 40), legend = \"test\")\n"
   ]
  },
  {
   "cell_type": "code",
   "execution_count": null,
   "metadata": {
    "collapsed": true
   },
   "outputs": [],
   "source": []
  }
 ],
 "metadata": {
  "anaconda-cloud": {},
  "kernelspec": {
   "display_name": "Python [conda root]",
   "language": "python",
   "name": "conda-root-py"
  },
  "language_info": {
   "codemirror_mode": {
    "name": "ipython",
    "version": 2
   },
   "file_extension": ".py",
   "mimetype": "text/x-python",
   "name": "python",
   "nbconvert_exporter": "python",
   "pygments_lexer": "ipython2",
   "version": "2.7.12"
  }
 },
 "nbformat": 4,
 "nbformat_minor": 1
}
