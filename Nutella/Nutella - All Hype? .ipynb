{
 "cells": [
  {
   "cell_type": "code",
   "execution_count": 1,
   "metadata": {
    "collapsed": false
   },
   "outputs": [
    {
     "name": "stderr",
     "output_type": "stream",
     "text": [
      "//anaconda/lib/python2.7/site-packages/matplotlib/font_manager.py:273: UserWarning: Matplotlib is building the font cache using fc-list. This may take a moment.\n",
      "  warnings.warn('Matplotlib is building the font cache using fc-list. This may take a moment.')\n"
     ]
    }
   ],
   "source": [
    "import json\n",
    "import pandas as pd\n",
    "import numpy as np\n",
    "import matplotlib as plt \n",
    "%matplotlib inline\n",
    " \n",
    "tweet_files = ['nutella2.json']\n",
    "tweets = []\n",
    "for file in tweet_files:\n",
    "    with open(file, 'r') as f:\n",
    "        for line in f.readlines():\n",
    "            tweets.append(json.loads(line))"
   ]
  },
  {
   "cell_type": "code",
   "execution_count": 2,
   "metadata": {
    "collapsed": true
   },
   "outputs": [],
   "source": [
    "def populate_tweet_df(tweets):\n",
    "    df = pd.DataFrame()\n",
    " \n",
    "    df['text'] = list(map(lambda tweet: tweet['text'], tweets))\n",
    " \n",
    "    df['location'] = list(map(lambda tweet: tweet['user']['location'], tweets))\n",
    " \n",
    "    df['country_code'] = list(map(lambda tweet: tweet['place']['country_code']\n",
    "                                  if tweet['place'] != None else '', tweets))\n",
    " \n",
    "    df['long'] = list(map(lambda tweet: tweet['coordinates']['coordinates'][0]\n",
    "                        if tweet['coordinates'] != None else 'NaN', tweets))\n",
    " \n",
    "    df['latt'] = list(map(lambda tweet: tweet['coordinates']['coordinates'][1]\n",
    "                        if tweet['coordinates'] != None else 'NaN', tweets))\n",
    "    \n",
    "    df['date'] = list(map(lambda tweet: tweet['created_at'], tweets))\n",
    " \n",
    "    return df"
   ]
  },
  {
   "cell_type": "code",
   "execution_count": 3,
   "metadata": {
    "collapsed": false
   },
   "outputs": [],
   "source": [
    "df = populate_tweet_df(tweets)"
   ]
  },
  {
   "cell_type": "code",
   "execution_count": 4,
   "metadata": {
    "collapsed": false
   },
   "outputs": [
    {
     "data": {
      "text/plain": [
       "(32500, 6)"
      ]
     },
     "execution_count": 4,
     "metadata": {},
     "output_type": "execute_result"
    }
   ],
   "source": [
    "df.shape"
   ]
  },
  {
   "cell_type": "code",
   "execution_count": 5,
   "metadata": {
    "collapsed": true
   },
   "outputs": [],
   "source": [
    "\n",
    "#merge two dataframes\n",
    "#df_new = pd.concat([df, df2])\n"
   ]
  },
  {
   "cell_type": "code",
   "execution_count": 6,
   "metadata": {
    "collapsed": false
   },
   "outputs": [
    {
     "name": "stdout",
     "output_type": "stream",
     "text": [
      "datetime64[ns]\n"
     ]
    }
   ],
   "source": [
    "df['date'] = pd.to_datetime(df['date'])\n",
    "print (df['date'].dtype)\n"
   ]
  },
  {
   "cell_type": "code",
   "execution_count": 7,
   "metadata": {
    "collapsed": false
   },
   "outputs": [
    {
     "name": "stdout",
     "output_type": "stream",
     "text": [
      "                                                    text  \\\n",
      "32495  Nutella-maker Ferrero seeks to crack Turkish g...   \n",
      "32496  RT @BLAKCEMPIRE: wsh elle a carrément tressé s...   \n",
      "32497  RT @DaBoyBlackP: Combien de twittos se sont ta...   \n",
      "32498  Nutella'dan Türkiye'ye kötü haber - https://t....   \n",
      "32499  RT @kush4heaux: sa carrière non plus https://t...   \n",
      "\n",
      "                           location country_code long latt                date  \n",
      "32495   Republic of the Philippines               NaN  NaN 2017-11-03 07:42:39  \n",
      "32496  Martinique - Fort Lauderdale               NaN  NaN 2017-11-03 07:42:23  \n",
      "32497  Martinique - Fort Lauderdale               NaN  NaN 2017-11-03 07:41:52  \n",
      "32498                                             NaN  NaN 2017-11-03 07:41:32  \n",
      "32499  Martinique - Fort Lauderdale               NaN  NaN 2017-11-03 07:41:08  \n"
     ]
    }
   ],
   "source": [
    "print (df.tail())"
   ]
  },
  {
   "cell_type": "code",
   "execution_count": 8,
   "metadata": {
    "collapsed": true
   },
   "outputs": [],
   "source": [
    "#df_new['day'] = df_new['date'].dt.day\n"
   ]
  },
  {
   "cell_type": "code",
   "execution_count": 9,
   "metadata": {
    "collapsed": false
   },
   "outputs": [],
   "source": [
    "import re\n",
    "import nltk\n",
    "from nltk.corpus import stopwords\n",
    "from nltk.stem.porter import PorterStemmer\n",
    "from textblob import TextBlob\n",
    "corpus = []\n",
    "for i in range(0, 32500):\n",
    "    review = re.sub(\"(@[A-Za-z0-9]+)|([^0-9A-Za-z \\t])|(\\w+:\\/\\/\\S+)\", \" \", df['text'][i])\n",
    "    review = review.lower()\n",
    "    review = review.split()\n",
    "    ps = PorterStemmer()\n",
    "    review = [ps.stem(word) for word in review if not word in stopwords.words('english')]\n",
    "    review = ' '.join(review)\n",
    "    blob = TextBlob(review)\n",
    "    blob_s = blob.sentiment.polarity\n",
    "    corpus.append(blob_s)"
   ]
  },
  {
   "cell_type": "code",
   "execution_count": 10,
   "metadata": {
    "collapsed": false
   },
   "outputs": [
    {
     "name": "stdout",
     "output_type": "stream",
     "text": [
      "[ 0.  0.  0. ...,  0.  0.  0.]\n"
     ]
    }
   ],
   "source": [
    "corpus_sub = np.array(corpus)\n",
    "print corpus_sub\n",
    "\n",
    "polarity1 = pd.DataFrame(corpus_sub)\n"
   ]
  },
  {
   "cell_type": "code",
   "execution_count": 11,
   "metadata": {
    "collapsed": false
   },
   "outputs": [
    {
     "name": "stdout",
     "output_type": "stream",
     "text": [
      "32400    0.000000\n",
      "32401    0.000000\n",
      "32402    0.000000\n",
      "32403    0.000000\n",
      "32404    0.000000\n",
      "32405    0.000000\n",
      "32406    0.000000\n",
      "32407    0.000000\n",
      "32408    0.000000\n",
      "32409    0.000000\n",
      "32410    0.000000\n",
      "32411    0.000000\n",
      "32412    0.000000\n",
      "32413    0.000000\n",
      "32414    0.000000\n",
      "32415    0.000000\n",
      "32416    0.000000\n",
      "32417    0.000000\n",
      "32418    0.000000\n",
      "32419    0.000000\n",
      "32420    0.000000\n",
      "32421    0.000000\n",
      "32422    0.000000\n",
      "32423    0.000000\n",
      "32424    0.000000\n",
      "32425    0.000000\n",
      "32426    0.000000\n",
      "32427   -0.250000\n",
      "32428    0.000000\n",
      "32429    0.000000\n",
      "           ...   \n",
      "32470    0.000000\n",
      "32471    0.000000\n",
      "32472    0.000000\n",
      "32473    0.000000\n",
      "32474    0.333333\n",
      "32475    0.000000\n",
      "32476    0.000000\n",
      "32477    0.000000\n",
      "32478    0.000000\n",
      "32479    0.000000\n",
      "32480    0.000000\n",
      "32481    0.000000\n",
      "32482    0.357143\n",
      "32483    0.000000\n",
      "32484    0.000000\n",
      "32485    0.000000\n",
      "32486    0.000000\n",
      "32487    0.136364\n",
      "32488    0.000000\n",
      "32489    0.000000\n",
      "32490    0.000000\n",
      "32491    0.000000\n",
      "32492    0.000000\n",
      "32493    0.000000\n",
      "32494    0.000000\n",
      "32495    0.000000\n",
      "32496    0.000000\n",
      "32497    0.000000\n",
      "32498    0.000000\n",
      "32499    0.000000\n",
      "Name: polarity, dtype: float64\n"
     ]
    }
   ],
   "source": [
    "df['polarity'] = polarity1\n",
    "\n",
    "print df['polarity'].tail(100)\n",
    "\n"
   ]
  },
  {
   "cell_type": "code",
   "execution_count": 12,
   "metadata": {
    "collapsed": false
   },
   "outputs": [
    {
     "name": "stdout",
     "output_type": "stream",
     "text": [
      "Negative    29681\n",
      "Positive     2198\n",
      "Neutral       621\n",
      "Name: tweets_polarity, dtype: int64\n"
     ]
    }
   ],
   "source": [
    "\n",
    "\n",
    "def days_late_xform(dl):\n",
    "    if dl > 0.2: return 'Positive'\n",
    "    elif 0 < dl <= 0.2: return 'Neutral'\n",
    "    elif dl <= 0: return 'Negative'\n",
    "    \n",
    "df['tweets_polarity'] = df['polarity'].map(days_late_xform)\n",
    "\n",
    "\n",
    "print df.tweets_polarity.value_counts()\n"
   ]
  },
  {
   "cell_type": "code",
   "execution_count": 13,
   "metadata": {
    "collapsed": false
   },
   "outputs": [],
   "source": [
    "# df.index = df['date']\n",
    "\n",
    "# df['polarity'].resample('D').mean().plot()\n"
   ]
  },
  {
   "cell_type": "code",
   "execution_count": 14,
   "metadata": {
    "collapsed": true
   },
   "outputs": [],
   "source": [
    "#create later half dataset"
   ]
  },
  {
   "cell_type": "code",
   "execution_count": 15,
   "metadata": {
    "collapsed": false
   },
   "outputs": [],
   "source": [
    "import json\n",
    "import pandas as pd\n",
    "import numpy as np\n",
    "import matplotlib as plt \n",
    "%matplotlib inline\n",
    " \n",
    "tweet_files = ['nutella.json']\n",
    "tweets2 = []\n",
    "for file in tweet_files:\n",
    "    with open(file, 'r') as f:\n",
    "        for line in f.readlines():\n",
    "            tweets2.append(json.loads(line))"
   ]
  },
  {
   "cell_type": "code",
   "execution_count": 16,
   "metadata": {
    "collapsed": true
   },
   "outputs": [],
   "source": [
    "def populate_tweet_df(tweets):\n",
    "    df = pd.DataFrame()\n",
    " \n",
    "    df['text'] = list(map(lambda tweet: tweet['text'], tweets))\n",
    " \n",
    "    df['location'] = list(map(lambda tweet: tweet['user']['location'], tweets))\n",
    " \n",
    "    df['country_code'] = list(map(lambda tweet: tweet['place']['country_code']\n",
    "                                  if tweet['place'] != None else '', tweets))\n",
    " \n",
    "    df['long'] = list(map(lambda tweet: tweet['coordinates']['coordinates'][0]\n",
    "                        if tweet['coordinates'] != None else 'NaN', tweets))\n",
    " \n",
    "    df['latt'] = list(map(lambda tweet: tweet['coordinates']['coordinates'][1]\n",
    "                        if tweet['coordinates'] != None else 'NaN', tweets))\n",
    "    \n",
    "    df['date'] = list(map(lambda tweet: tweet['created_at'], tweets))\n",
    " \n",
    "    return df"
   ]
  },
  {
   "cell_type": "code",
   "execution_count": 17,
   "metadata": {
    "collapsed": true
   },
   "outputs": [],
   "source": [
    "df2 = populate_tweet_df(tweets2)"
   ]
  },
  {
   "cell_type": "code",
   "execution_count": 18,
   "metadata": {
    "collapsed": false
   },
   "outputs": [
    {
     "data": {
      "text/plain": [
       "(68020, 6)"
      ]
     },
     "execution_count": 18,
     "metadata": {},
     "output_type": "execute_result"
    }
   ],
   "source": [
    "df2.shape"
   ]
  },
  {
   "cell_type": "code",
   "execution_count": 19,
   "metadata": {
    "collapsed": false
   },
   "outputs": [
    {
     "name": "stdout",
     "output_type": "stream",
     "text": [
      "datetime64[ns]\n"
     ]
    }
   ],
   "source": [
    "df2['date'] = pd.to_datetime(df2['date'])\n",
    "print (df2['date'].dtype)\n"
   ]
  },
  {
   "cell_type": "code",
   "execution_count": 20,
   "metadata": {
    "collapsed": false
   },
   "outputs": [
    {
     "name": "stdout",
     "output_type": "stream",
     "text": [
      "                                                text                location  \\\n",
      "0  RT @Samuelalvz: tem gente que o hobbie favorit...  Rio de Janeiro, Brasil   \n",
      "1  Merci à @nodeynguyen et ses invités de marque,...                   Paris   \n",
      "2  RT @MPB_Online: Sinto dizer que amo mesmo, tá ...   moro no país tropical   \n",
      "3  RT @CatrinNye: It’s a paratha nutella morning....                      UK   \n",
      "4  RT @ahmedsamiread: أعلنت شركة Ferrero انه سيتم...                           \n",
      "\n",
      "  country_code long latt                date  \n",
      "0               NaN  NaN 2017-11-11 11:05:06  \n",
      "1               NaN  NaN 2017-11-11 11:05:02  \n",
      "2               NaN  NaN 2017-11-11 11:04:48  \n",
      "3               NaN  NaN 2017-11-11 11:04:21  \n",
      "4               NaN  NaN 2017-11-11 11:04:13  \n",
      "                                                    text          location  \\\n",
      "68015  RT @SkyNews: Nutella has changed, and people a...                     \n",
      "68016  Acordo lendo os juízes do rap falando do q é r...  zona morte - 051   \n",
      "68017  RT @EmrgencyKittens: how to cats even work? ht...                     \n",
      "68018  RT @MagazineCapital: La recette du Nutella a c...     Paris, France   \n",
      "68019  RT @DesconhecidosF: A Nutella foi inventada po...                     \n",
      "\n",
      "      country_code long latt                date  \n",
      "68015               NaN  NaN 2017-11-07 09:27:53  \n",
      "68016           BR  NaN  NaN 2017-11-07 09:27:48  \n",
      "68017               NaN  NaN 2017-11-07 09:27:42  \n",
      "68018               NaN  NaN 2017-11-07 09:27:19  \n",
      "68019               NaN  NaN 2017-11-07 09:27:15  \n"
     ]
    }
   ],
   "source": [
    "print df2.head()\n",
    "\n",
    "print df2.tail()"
   ]
  },
  {
   "cell_type": "code",
   "execution_count": 21,
   "metadata": {
    "collapsed": true
   },
   "outputs": [],
   "source": [
    "import re\n",
    "import nltk\n",
    "from nltk.corpus import stopwords\n",
    "from nltk.stem.porter import PorterStemmer\n",
    "from textblob import TextBlob\n",
    "corpus = []\n",
    "for i in range(0, 68019):\n",
    "    review = re.sub(\"(@[A-Za-z0-9]+)|([^0-9A-Za-z \\t])|(\\w+:\\/\\/\\S+)\", \" \", df2['text'][i])\n",
    "    review = review.lower()\n",
    "    review = review.split()\n",
    "    ps = PorterStemmer()\n",
    "    review = [ps.stem(word) for word in review if not word in stopwords.words('english')]\n",
    "    review = ' '.join(review)\n",
    "    blob = TextBlob(review)\n",
    "    blob_s = blob.sentiment.polarity\n",
    "    corpus.append(blob_s)"
   ]
  },
  {
   "cell_type": "code",
   "execution_count": 22,
   "metadata": {
    "collapsed": false
   },
   "outputs": [
    {
     "name": "stdout",
     "output_type": "stream",
     "text": [
      "[ 0.  0.  0. ...,  0.  0.  0.]\n"
     ]
    }
   ],
   "source": [
    "corpus_sub = np.array(corpus)\n",
    "print corpus_sub\n",
    "\n",
    "polarity2 = pd.DataFrame(corpus_sub)\n"
   ]
  },
  {
   "cell_type": "code",
   "execution_count": 23,
   "metadata": {
    "collapsed": false
   },
   "outputs": [
    {
     "name": "stdout",
     "output_type": "stream",
     "text": [
      "67920    0.000000\n",
      "67921    0.000000\n",
      "67922    0.000000\n",
      "67923    0.000000\n",
      "67924    0.357143\n",
      "67925    0.033333\n",
      "67926   -0.200000\n",
      "67927    0.033333\n",
      "67928    0.033333\n",
      "67929    0.033333\n",
      "67930    0.033333\n",
      "67931    0.000000\n",
      "67932    0.000000\n",
      "67933    0.000000\n",
      "67934   -0.200000\n",
      "67935    0.033333\n",
      "67936    0.000000\n",
      "67937    0.000000\n",
      "67938    0.000000\n",
      "67939    0.033333\n",
      "67940    0.000000\n",
      "67941    0.000000\n",
      "67942    0.000000\n",
      "67943    0.000000\n",
      "67944    0.000000\n",
      "67945    0.033333\n",
      "67946    0.000000\n",
      "67947    0.033333\n",
      "67948    0.033333\n",
      "67949    0.033333\n",
      "           ...   \n",
      "67990    0.000000\n",
      "67991    0.500000\n",
      "67992    0.000000\n",
      "67993    0.000000\n",
      "67994    0.000000\n",
      "67995    0.000000\n",
      "67996    0.000000\n",
      "67997    0.000000\n",
      "67998    0.000000\n",
      "67999    0.000000\n",
      "68000    0.000000\n",
      "68001    0.000000\n",
      "68002    0.000000\n",
      "68003    0.000000\n",
      "68004    0.000000\n",
      "68005    0.000000\n",
      "68006    0.000000\n",
      "68007    0.000000\n",
      "68008    0.000000\n",
      "68009    0.357143\n",
      "68010    0.000000\n",
      "68011    0.000000\n",
      "68012    0.000000\n",
      "68013    0.000000\n",
      "68014    0.000000\n",
      "68015    0.000000\n",
      "68016    0.000000\n",
      "68017    0.000000\n",
      "68018    0.000000\n",
      "68019         NaN\n",
      "Name: polarity, dtype: float64\n"
     ]
    }
   ],
   "source": [
    "df2['polarity'] = polarity2\n",
    "\n",
    "print df2['polarity'].tail(100)\n",
    "\n"
   ]
  },
  {
   "cell_type": "code",
   "execution_count": 24,
   "metadata": {
    "collapsed": false
   },
   "outputs": [
    {
     "name": "stdout",
     "output_type": "stream",
     "text": [
      "Negative    60429\n",
      "Positive     4038\n",
      "Neutral      3552\n",
      "Name: tweets_polarity, dtype: int64\n"
     ]
    }
   ],
   "source": [
    "\n",
    "\n",
    "def days_late_xform(dl):\n",
    "    if dl > 0.2: return 'Positive'\n",
    "    elif 0 < dl <= 0.2: return 'Neutral'\n",
    "    elif dl <= 0: return 'Negative'\n",
    "    \n",
    "df2['tweets_polarity'] = df2['polarity'].map(days_late_xform)\n",
    "\n",
    "\n",
    "print df2.tweets_polarity.value_counts()\n"
   ]
  },
  {
   "cell_type": "code",
   "execution_count": 25,
   "metadata": {
    "collapsed": false
   },
   "outputs": [],
   "source": [
    "# df2.index = df2['date']\n",
    "\n",
    "# df2['polarity'].resample('D').mean().plot()\n"
   ]
  },
  {
   "cell_type": "code",
   "execution_count": 26,
   "metadata": {
    "collapsed": false
   },
   "outputs": [
    {
     "name": "stdout",
     "output_type": "stream",
     "text": [
      "                                                text                location  \\\n",
      "0  RT @Samuelalvz: tem gente que o hobbie favorit...  Rio de Janeiro, Brasil   \n",
      "1  Merci à @nodeynguyen et ses invités de marque,...                   Paris   \n",
      "2  RT @MPB_Online: Sinto dizer que amo mesmo, tá ...   moro no país tropical   \n",
      "3  RT @CatrinNye: It’s a paratha nutella morning....                      UK   \n",
      "4  RT @ahmedsamiread: أعلنت شركة Ferrero انه سيتم...                           \n",
      "\n",
      "  country_code long latt                date  polarity tweets_polarity  \n",
      "0               NaN  NaN 2017-11-11 11:05:06       0.0        Negative  \n",
      "1               NaN  NaN 2017-11-11 11:05:02       0.0        Negative  \n",
      "2               NaN  NaN 2017-11-11 11:04:48       0.0        Negative  \n",
      "3               NaN  NaN 2017-11-11 11:04:21       0.0        Negative  \n",
      "4               NaN  NaN 2017-11-11 11:04:13       0.0        Negative  \n"
     ]
    }
   ],
   "source": [
    "df2 = df2.reset_index(drop=True)\n",
    "print df2.head()"
   ]
  },
  {
   "cell_type": "code",
   "execution_count": 27,
   "metadata": {
    "collapsed": false
   },
   "outputs": [
    {
     "name": "stdout",
     "output_type": "stream",
     "text": [
      "       polarity                date\n",
      "68015       0.0 2017-11-07 09:27:53\n",
      "68016       0.0 2017-11-07 09:27:48\n",
      "68017       0.0 2017-11-07 09:27:42\n",
      "68018       0.0 2017-11-07 09:27:19\n",
      "68019       NaN 2017-11-07 09:27:15\n"
     ]
    }
   ],
   "source": [
    "df2_new = df2[['polarity', 'date']]\n",
    "\n",
    "print df2_new.tail()"
   ]
  },
  {
   "cell_type": "code",
   "execution_count": 28,
   "metadata": {
    "collapsed": false
   },
   "outputs": [
    {
     "name": "stdout",
     "output_type": "stream",
     "text": [
      "       polarity                date\n",
      "32495       0.0 2017-11-03 07:42:39\n",
      "32496       0.0 2017-11-03 07:42:23\n",
      "32497       0.0 2017-11-03 07:41:52\n",
      "32498       0.0 2017-11-03 07:41:32\n",
      "32499       0.0 2017-11-03 07:41:08\n"
     ]
    }
   ],
   "source": [
    "df_new = df[['polarity', 'date']]\n",
    "\n",
    "print df_new.tail()"
   ]
  },
  {
   "cell_type": "code",
   "execution_count": 29,
   "metadata": {
    "collapsed": false
   },
   "outputs": [
    {
     "name": "stdout",
     "output_type": "stream",
     "text": [
      "       polarity                date\n",
      "32495       0.0 2017-11-03 07:42:39\n",
      "32496       0.0 2017-11-03 07:42:23\n",
      "32497       0.0 2017-11-03 07:41:52\n",
      "32498       0.0 2017-11-03 07:41:32\n",
      "32499       0.0 2017-11-03 07:41:08\n"
     ]
    }
   ],
   "source": [
    "df_all_new = pd.concat([df2_new, df_new])\n",
    "\n",
    "print df_all_new.tail()"
   ]
  },
  {
   "cell_type": "code",
   "execution_count": 30,
   "metadata": {
    "collapsed": false
   },
   "outputs": [
    {
     "data": {
      "text/plain": [
       "<matplotlib.axes._subplots.AxesSubplot at 0x10479e190>"
      ]
     },
     "execution_count": 30,
     "metadata": {},
     "output_type": "execute_result"
    },
    {
     "data": {
      "image/png": "[encoded data removed]",
      "text/plain": [
       "<matplotlib.figure.Figure at 0x20aefb350>"
      ]
     },
     "metadata": {},
     "output_type": "display_data"
    }
   ],
   "source": [
    "df_all_new.index = df_all_new['date']\n",
    "\n",
    "df_all_new['polarity'].resample('D').mean().plot()\n"
   ]
  },
  {
   "cell_type": "code",
   "execution_count": 31,
   "metadata": {
    "collapsed": false
   },
   "outputs": [],
   "source": [
    "import json\n",
    "import pandas as pd\n",
    "import numpy as np\n",
    "import matplotlib as plt \n",
    "%matplotlib inline\n",
    " \n",
    "tweet_files = ['nutella6nov.json']\n",
    "tweets3 = []\n",
    "for file in tweet_files:\n",
    "    with open(file, 'r') as f:\n",
    "        for line in f.readlines():\n",
    "            tweets3.append(json.loads(line))"
   ]
  },
  {
   "cell_type": "code",
   "execution_count": 32,
   "metadata": {
    "collapsed": true
   },
   "outputs": [],
   "source": [
    "df3 = populate_tweet_df(tweets3)"
   ]
  },
  {
   "cell_type": "code",
   "execution_count": 33,
   "metadata": {
    "collapsed": false
   },
   "outputs": [
    {
     "data": {
      "text/plain": [
       "(14231, 6)"
      ]
     },
     "execution_count": 33,
     "metadata": {},
     "output_type": "execute_result"
    }
   ],
   "source": [
    "df3.shape"
   ]
  },
  {
   "cell_type": "code",
   "execution_count": 34,
   "metadata": {
    "collapsed": false
   },
   "outputs": [
    {
     "name": "stdout",
     "output_type": "stream",
     "text": [
      "datetime64[ns]\n"
     ]
    }
   ],
   "source": [
    "df2['date'] = pd.to_datetime(df2['date'])\n",
    "print (df2['date'].dtype)\n"
   ]
  },
  {
   "cell_type": "code",
   "execution_count": 35,
   "metadata": {
    "collapsed": false
   },
   "outputs": [
    {
     "data": {
      "text/html": [
       "<div>\n",
       "<table border=\"1\" class=\"dataframe\">\n",
       "  <thead>\n",
       "    <tr style=\"text-align: right;\">\n",
       "      <th></th>\n",
       "      <th>text</th>\n",
       "      <th>location</th>\n",
       "      <th>country_code</th>\n",
       "      <th>long</th>\n",
       "      <th>latt</th>\n",
       "      <th>date</th>\n",
       "    </tr>\n",
       "  </thead>\n",
       "  <tbody>\n",
       "    <tr>\n",
       "      <th>0</th>\n",
       "      <td>RT @sisoytanDulce: Cuando se te antoja una cre...</td>\n",
       "      <td></td>\n",
       "      <td></td>\n",
       "      <td>NaN</td>\n",
       "      <td>NaN</td>\n",
       "      <td>Mon Nov 06 23:59:53 +0000 2017</td>\n",
       "    </tr>\n",
       "    <tr>\n",
       "      <th>1</th>\n",
       "      <td>RT @iahgos: carai parece eu quando resolvo sai...</td>\n",
       "      <td>Paraná, Brasil</td>\n",
       "      <td></td>\n",
       "      <td>NaN</td>\n",
       "      <td>NaN</td>\n",
       "      <td>Mon Nov 06 23:59:53 +0000 2017</td>\n",
       "    </tr>\n",
       "    <tr>\n",
       "      <th>2</th>\n",
       "      <td>RT @SkyNews: Nut for us: Fans' fury as Nutella...</td>\n",
       "      <td>Sussex</td>\n",
       "      <td></td>\n",
       "      <td>NaN</td>\n",
       "      <td>NaN</td>\n",
       "      <td>Mon Nov 06 23:59:48 +0000 2017</td>\n",
       "    </tr>\n",
       "    <tr>\n",
       "      <th>3</th>\n",
       "      <td>Nutella fans go nuts after company secretly ch...</td>\n",
       "      <td></td>\n",
       "      <td></td>\n",
       "      <td>NaN</td>\n",
       "      <td>NaN</td>\n",
       "      <td>Mon Nov 06 23:59:47 +0000 2017</td>\n",
       "    </tr>\n",
       "    <tr>\n",
       "      <th>4</th>\n",
       "      <td>He apagado ya la tele y me he traído un bote d...</td>\n",
       "      <td>Wisteria Lane</td>\n",
       "      <td></td>\n",
       "      <td>NaN</td>\n",
       "      <td>NaN</td>\n",
       "      <td>Mon Nov 06 23:59:41 +0000 2017</td>\n",
       "    </tr>\n",
       "  </tbody>\n",
       "</table>\n",
       "</div>"
      ],
      "text/plain": [
       "                                                text        location  \\\n",
       "0  RT @sisoytanDulce: Cuando se te antoja una cre...                   \n",
       "1  RT @iahgos: carai parece eu quando resolvo sai...  Paraná, Brasil   \n",
       "2  RT @SkyNews: Nut for us: Fans' fury as Nutella...          Sussex   \n",
       "3  Nutella fans go nuts after company secretly ch...                   \n",
       "4  He apagado ya la tele y me he traído un bote d...   Wisteria Lane   \n",
       "\n",
       "  country_code long latt                            date  \n",
       "0               NaN  NaN  Mon Nov 06 23:59:53 +0000 2017  \n",
       "1               NaN  NaN  Mon Nov 06 23:59:53 +0000 2017  \n",
       "2               NaN  NaN  Mon Nov 06 23:59:48 +0000 2017  \n",
       "3               NaN  NaN  Mon Nov 06 23:59:47 +0000 2017  \n",
       "4               NaN  NaN  Mon Nov 06 23:59:41 +0000 2017  "
      ]
     },
     "execution_count": 35,
     "metadata": {},
     "output_type": "execute_result"
    }
   ],
   "source": [
    "df3.head()"
   ]
  },
  {
   "cell_type": "code",
   "execution_count": 43,
   "metadata": {
    "collapsed": false
   },
   "outputs": [],
   "source": [
    "import re\n",
    "import nltk\n",
    "from nltk.corpus import stopwords\n",
    "from nltk.stem.porter import PorterStemmer\n",
    "from textblob import TextBlob\n",
    "corpus = []\n",
    "for i in range(0, 14231):\n",
    "    review = re.sub(\"(@[A-Za-z0-9]+)|([^0-9A-Za-z \\t])|(\\w+:\\/\\/\\S+)\", \" \", df3['text'][i])\n",
    "    review = review.lower()\n",
    "    review = review.split()\n",
    "    ps = PorterStemmer()\n",
    "    review = [ps.stem(word) for word in review if not word in stopwords.words('english')]\n",
    "    review = ' '.join(review)\n",
    "    blob = TextBlob(review)\n",
    "    blob_s = blob.sentiment.polarity\n",
    "    corpus.append(blob_s)"
   ]
  },
  {
   "cell_type": "code",
   "execution_count": 44,
   "metadata": {
    "collapsed": false
   },
   "outputs": [
    {
     "name": "stdout",
     "output_type": "stream",
     "text": [
      "[ 0.  0.  0. ...,  0.  0.  0.]\n"
     ]
    }
   ],
   "source": [
    "corpus_sub = np.array(corpus)\n",
    "print corpus_sub\n",
    "\n",
    "polarity3 = pd.DataFrame(corpus_sub)\n"
   ]
  },
  {
   "cell_type": "code",
   "execution_count": 45,
   "metadata": {
    "collapsed": false
   },
   "outputs": [
    {
     "name": "stdout",
     "output_type": "stream",
     "text": [
      "14131    0.000000\n",
      "14132    0.000000\n",
      "14133    0.000000\n",
      "14134    0.000000\n",
      "14135    0.000000\n",
      "14136    0.000000\n",
      "14137    0.000000\n",
      "14138    0.000000\n",
      "14139    0.000000\n",
      "14140    0.000000\n",
      "14141    0.000000\n",
      "14142    0.000000\n",
      "14143    0.000000\n",
      "14144    0.000000\n",
      "14145    0.000000\n",
      "14146    0.000000\n",
      "14147    0.000000\n",
      "14148    0.578788\n",
      "14149    0.000000\n",
      "14150    0.000000\n",
      "14151    0.136364\n",
      "14152    0.000000\n",
      "14153    0.000000\n",
      "14154    0.000000\n",
      "14155    0.000000\n",
      "14156    0.000000\n",
      "14157    0.000000\n",
      "14158   -0.800000\n",
      "14159    0.000000\n",
      "14160    0.000000\n",
      "           ...   \n",
      "14201    0.000000\n",
      "14202    0.000000\n",
      "14203    0.800000\n",
      "14204    0.000000\n",
      "14205    0.000000\n",
      "14206    0.000000\n",
      "14207    0.000000\n",
      "14208    0.000000\n",
      "14209    0.000000\n",
      "14210    0.000000\n",
      "14211    0.250000\n",
      "14212    0.000000\n",
      "14213    0.000000\n",
      "14214    0.000000\n",
      "14215    0.000000\n",
      "14216    0.000000\n",
      "14217    0.000000\n",
      "14218    0.000000\n",
      "14219    0.578788\n",
      "14220    0.800000\n",
      "14221    0.000000\n",
      "14222    0.000000\n",
      "14223    0.000000\n",
      "14224    0.000000\n",
      "14225    0.000000\n",
      "14226    0.000000\n",
      "14227    0.000000\n",
      "14228    0.000000\n",
      "14229    0.000000\n",
      "14230    0.000000\n",
      "Name: polarity, dtype: float64\n"
     ]
    }
   ],
   "source": [
    "df3['polarity'] = polarity3\n",
    "\n",
    "print df3['polarity'].tail(100)\n",
    "\n"
   ]
  },
  {
   "cell_type": "code",
   "execution_count": 46,
   "metadata": {
    "collapsed": false
   },
   "outputs": [
    {
     "name": "stdout",
     "output_type": "stream",
     "text": [
      "datetime64[ns]\n"
     ]
    }
   ],
   "source": [
    "df3['date'] = pd.to_datetime(df3['date'])\n",
    "print (df3['date'].dtype)\n"
   ]
  },
  {
   "cell_type": "code",
   "execution_count": 70,
   "metadata": {
    "collapsed": false
   },
   "outputs": [
    {
     "name": "stderr",
     "output_type": "stream",
     "text": [
      "/anaconda/lib/python2.7/site-packages/ipykernel/__main__.py:1: FutureWarning: sort(columns=....) is deprecated, use sort_values(by=.....)\n",
      "  if __name__ == '__main__':\n"
     ]
    },
    {
     "data": {
      "text/html": [
       "<div>\n",
       "<table border=\"1\" class=\"dataframe\">\n",
       "  <thead>\n",
       "    <tr style=\"text-align: right;\">\n",
       "      <th></th>\n",
       "      <th>text</th>\n",
       "      <th>location</th>\n",
       "      <th>country_code</th>\n",
       "      <th>long</th>\n",
       "      <th>latt</th>\n",
       "      <th>date</th>\n",
       "      <th>polarity</th>\n",
       "    </tr>\n",
       "  </thead>\n",
       "  <tbody>\n",
       "    <tr>\n",
       "      <th>450</th>\n",
       "      <td>The Best Ways to Use Nutella - https://t.co/oo...</td>\n",
       "      <td></td>\n",
       "      <td></td>\n",
       "      <td>NaN</td>\n",
       "      <td>NaN</td>\n",
       "      <td>2017-11-06 23:16:16</td>\n",
       "      <td>1.0</td>\n",
       "    </tr>\n",
       "    <tr>\n",
       "      <th>531</th>\n",
       "      <td>I swear to god Conor’s gonna pour Nutella into...</td>\n",
       "      <td>Strathaven, Scotland</td>\n",
       "      <td></td>\n",
       "      <td>NaN</td>\n",
       "      <td>NaN</td>\n",
       "      <td>2017-11-06 23:11:21</td>\n",
       "      <td>1.0</td>\n",
       "    </tr>\n",
       "    <tr>\n",
       "      <th>7116</th>\n",
       "      <td>Best personalised Christmas gifts for men, wom...</td>\n",
       "      <td>e-mediagroup@outlook.com</td>\n",
       "      <td></td>\n",
       "      <td>NaN</td>\n",
       "      <td>NaN</td>\n",
       "      <td>2017-11-06 15:16:31</td>\n",
       "      <td>1.0</td>\n",
       "    </tr>\n",
       "    <tr>\n",
       "      <th>1561</th>\n",
       "      <td>The Best Ways to Use Nutella - https://t.co/ug...</td>\n",
       "      <td></td>\n",
       "      <td></td>\n",
       "      <td>NaN</td>\n",
       "      <td>NaN</td>\n",
       "      <td>2017-11-06 21:58:00</td>\n",
       "      <td>1.0</td>\n",
       "    </tr>\n",
       "    <tr>\n",
       "      <th>12324</th>\n",
       "      <td>The best Nutella alternatives you should try i...</td>\n",
       "      <td>London</td>\n",
       "      <td></td>\n",
       "      <td>NaN</td>\n",
       "      <td>NaN</td>\n",
       "      <td>2017-11-06 04:25:04</td>\n",
       "      <td>1.0</td>\n",
       "    </tr>\n",
       "    <tr>\n",
       "      <th>4745</th>\n",
       "      <td>@AlissaViolet I dipped a banana in Nutella and...</td>\n",
       "      <td>Kuwait</td>\n",
       "      <td></td>\n",
       "      <td>NaN</td>\n",
       "      <td>NaN</td>\n",
       "      <td>2017-11-06 18:29:05</td>\n",
       "      <td>1.0</td>\n",
       "    </tr>\n",
       "    <tr>\n",
       "      <th>9772</th>\n",
       "      <td>Toast Necklaces Best Friends  peanut butter to...</td>\n",
       "      <td>Glasgow</td>\n",
       "      <td></td>\n",
       "      <td>NaN</td>\n",
       "      <td>NaN</td>\n",
       "      <td>2017-11-06 10:37:43</td>\n",
       "      <td>1.0</td>\n",
       "    </tr>\n",
       "    <tr>\n",
       "      <th>434</th>\n",
       "      <td>The Best Ways to Use Nutella - https://t.co/8m...</td>\n",
       "      <td></td>\n",
       "      <td></td>\n",
       "      <td>NaN</td>\n",
       "      <td>NaN</td>\n",
       "      <td>2017-11-06 23:17:25</td>\n",
       "      <td>1.0</td>\n",
       "    </tr>\n",
       "    <tr>\n",
       "      <th>9534</th>\n",
       "      <td>The Best Ways to Use Nutella: https://t.co/May...</td>\n",
       "      <td></td>\n",
       "      <td></td>\n",
       "      <td>NaN</td>\n",
       "      <td>NaN</td>\n",
       "      <td>2017-11-06 11:02:00</td>\n",
       "      <td>1.0</td>\n",
       "    </tr>\n",
       "    <tr>\n",
       "      <th>2262</th>\n",
       "      <td>The Best Ways to Use Nutella - https://t.co/wz...</td>\n",
       "      <td>Colorado Springs\\r</td>\n",
       "      <td></td>\n",
       "      <td>NaN</td>\n",
       "      <td>NaN</td>\n",
       "      <td>2017-11-06 21:14:13</td>\n",
       "      <td>1.0</td>\n",
       "    </tr>\n",
       "    <tr>\n",
       "      <th>11712</th>\n",
       "      <td>The Best Ways to Use Nutella - https://t.co/lG...</td>\n",
       "      <td></td>\n",
       "      <td></td>\n",
       "      <td>NaN</td>\n",
       "      <td>NaN</td>\n",
       "      <td>2017-11-06 07:15:05</td>\n",
       "      <td>1.0</td>\n",
       "    </tr>\n",
       "    <tr>\n",
       "      <th>14058</th>\n",
       "      <td>The Best Ways to Use Nutella - https://t.co/yE...</td>\n",
       "      <td>Minneapolis\\r</td>\n",
       "      <td></td>\n",
       "      <td>NaN</td>\n",
       "      <td>NaN</td>\n",
       "      <td>2017-11-06 00:22:01</td>\n",
       "      <td>1.0</td>\n",
       "    </tr>\n",
       "    <tr>\n",
       "      <th>1132</th>\n",
       "      <td>@Outsource2Maja Teaspoon in the Nutella then s...</td>\n",
       "      <td>Bournemouth Dorset U of the K</td>\n",
       "      <td></td>\n",
       "      <td>NaN</td>\n",
       "      <td>NaN</td>\n",
       "      <td>2017-11-06 22:21:24</td>\n",
       "      <td>1.0</td>\n",
       "    </tr>\n",
       "    <tr>\n",
       "      <th>8306</th>\n",
       "      <td>PERFECT 🍩🍩🍩🍩🍩#foooodieee #timhortons #nut...</td>\n",
       "      <td></td>\n",
       "      <td></td>\n",
       "      <td>NaN</td>\n",
       "      <td>NaN</td>\n",
       "      <td>2017-11-06 13:07:47</td>\n",
       "      <td>1.0</td>\n",
       "    </tr>\n",
       "    <tr>\n",
       "      <th>9176</th>\n",
       "      <td>Peanut Butter Nutella cookies are the best. Ju...</td>\n",
       "      <td>Sydney</td>\n",
       "      <td></td>\n",
       "      <td>NaN</td>\n",
       "      <td>NaN</td>\n",
       "      <td>2017-11-06 11:35:59</td>\n",
       "      <td>1.0</td>\n",
       "    </tr>\n",
       "    <tr>\n",
       "      <th>8214</th>\n",
       "      <td>The combination of your voices are so perfect ...</td>\n",
       "      <td>New Hope Club</td>\n",
       "      <td></td>\n",
       "      <td>NaN</td>\n",
       "      <td>NaN</td>\n",
       "      <td>2017-11-06 13:18:53</td>\n",
       "      <td>1.0</td>\n",
       "    </tr>\n",
       "    <tr>\n",
       "      <th>1550</th>\n",
       "      <td>RT @LittleStoryfUs: The Best Ways to Use Nutel...</td>\n",
       "      <td>Rio de Janeiro</td>\n",
       "      <td></td>\n",
       "      <td>NaN</td>\n",
       "      <td>NaN</td>\n",
       "      <td>2017-11-06 21:58:42</td>\n",
       "      <td>1.0</td>\n",
       "    </tr>\n",
       "    <tr>\n",
       "      <th>7404</th>\n",
       "      <td>The Best Ways to Use Nutella: https://t.co/63C...</td>\n",
       "      <td></td>\n",
       "      <td></td>\n",
       "      <td>NaN</td>\n",
       "      <td>NaN</td>\n",
       "      <td>2017-11-06 14:48:12</td>\n",
       "      <td>1.0</td>\n",
       "    </tr>\n",
       "    <tr>\n",
       "      <th>7246</th>\n",
       "      <td>The best way to start off your busy work week ...</td>\n",
       "      <td>75 9th Ave  New York, NY</td>\n",
       "      <td></td>\n",
       "      <td>NaN</td>\n",
       "      <td>NaN</td>\n",
       "      <td>2017-11-06 15:01:21</td>\n",
       "      <td>1.0</td>\n",
       "    </tr>\n",
       "    <tr>\n",
       "      <th>10459</th>\n",
       "      <td>best collab: pandesal &amp;amp; nutella</td>\n",
       "      <td>rome, it</td>\n",
       "      <td></td>\n",
       "      <td>NaN</td>\n",
       "      <td>NaN</td>\n",
       "      <td>2017-11-06 09:28:41</td>\n",
       "      <td>1.0</td>\n",
       "    </tr>\n",
       "    <tr>\n",
       "      <th>5590</th>\n",
       "      <td>@Nutella_Vodka Oh man they are hands down the ...</td>\n",
       "      <td>Melbourne, Australia</td>\n",
       "      <td></td>\n",
       "      <td>NaN</td>\n",
       "      <td>NaN</td>\n",
       "      <td>2017-11-06 17:42:01</td>\n",
       "      <td>1.0</td>\n",
       "    </tr>\n",
       "    <tr>\n",
       "      <th>324</th>\n",
       "      <td>This is what happens to the best Nutella Calzo...</td>\n",
       "      <td>Los Angeles, CA</td>\n",
       "      <td>US</td>\n",
       "      <td>-118.451</td>\n",
       "      <td>34.1512</td>\n",
       "      <td>2017-11-06 23:28:24</td>\n",
       "      <td>1.0</td>\n",
       "    </tr>\n",
       "    <tr>\n",
       "      <th>11882</th>\n",
       "      <td>The Best Ways to Use Nutella - https://t.co/K9...</td>\n",
       "      <td>Mesa\\r</td>\n",
       "      <td></td>\n",
       "      <td>NaN</td>\n",
       "      <td>NaN</td>\n",
       "      <td>2017-11-06 06:42:02</td>\n",
       "      <td>1.0</td>\n",
       "    </tr>\n",
       "    <tr>\n",
       "      <th>11677</th>\n",
       "      <td>The Best Ways to Use Nutella - https://t.co/wi...</td>\n",
       "      <td></td>\n",
       "      <td></td>\n",
       "      <td>NaN</td>\n",
       "      <td>NaN</td>\n",
       "      <td>2017-11-06 07:17:23</td>\n",
       "      <td>1.0</td>\n",
       "    </tr>\n",
       "    <tr>\n",
       "      <th>10421</th>\n",
       "      <td>@iJenNyan Nutella is einfach das Beste. Da kom...</td>\n",
       "      <td></td>\n",
       "      <td></td>\n",
       "      <td>NaN</td>\n",
       "      <td>NaN</td>\n",
       "      <td>2017-11-06 09:34:43</td>\n",
       "      <td>1.0</td>\n",
       "    </tr>\n",
       "    <tr>\n",
       "      <th>8759</th>\n",
       "      <td>#NUTELLA #LAVA #CAKE \\nGooey lava cake—the bes...</td>\n",
       "      <td>Liverpool, England</td>\n",
       "      <td></td>\n",
       "      <td>NaN</td>\n",
       "      <td>NaN</td>\n",
       "      <td>2017-11-06 12:17:34</td>\n",
       "      <td>1.0</td>\n",
       "    </tr>\n",
       "    <tr>\n",
       "      <th>8241</th>\n",
       "      <td>The Best Ways to Use Nutella - https://t.co/SX...</td>\n",
       "      <td>Detroit\\r</td>\n",
       "      <td></td>\n",
       "      <td>NaN</td>\n",
       "      <td>NaN</td>\n",
       "      <td>2017-11-06 13:15:37</td>\n",
       "      <td>1.0</td>\n",
       "    </tr>\n",
       "    <tr>\n",
       "      <th>5073</th>\n",
       "      <td>@AlissaViolet you ever put milk into an almost...</td>\n",
       "      <td>Worldwide</td>\n",
       "      <td></td>\n",
       "      <td>NaN</td>\n",
       "      <td>NaN</td>\n",
       "      <td>2017-11-06 18:11:42</td>\n",
       "      <td>1.0</td>\n",
       "    </tr>\n",
       "    <tr>\n",
       "      <th>4048</th>\n",
       "      <td>Het beste geluid ooit! #Nutella https://t.co/r...</td>\n",
       "      <td>Antwerpen, België</td>\n",
       "      <td></td>\n",
       "      <td>NaN</td>\n",
       "      <td>NaN</td>\n",
       "      <td>2017-11-06 19:13:15</td>\n",
       "      <td>1.0</td>\n",
       "    </tr>\n",
       "    <tr>\n",
       "      <th>6069</th>\n",
       "      <td>RT @AboutLibras: The best thing about #Libra i...</td>\n",
       "      <td></td>\n",
       "      <td></td>\n",
       "      <td>NaN</td>\n",
       "      <td>NaN</td>\n",
       "      <td>2017-11-06 16:52:24</td>\n",
       "      <td>1.0</td>\n",
       "    </tr>\n",
       "    <tr>\n",
       "      <th>...</th>\n",
       "      <td>...</td>\n",
       "      <td>...</td>\n",
       "      <td>...</td>\n",
       "      <td>...</td>\n",
       "      <td>...</td>\n",
       "      <td>...</td>\n",
       "      <td>...</td>\n",
       "    </tr>\n",
       "    <tr>\n",
       "      <th>10972</th>\n",
       "      <td>Stupid me bought a jar of nutella 2 days ago.....</td>\n",
       "      <td>Melbourne, Victoria</td>\n",
       "      <td></td>\n",
       "      <td>NaN</td>\n",
       "      <td>NaN</td>\n",
       "      <td>2017-11-06 08:22:33</td>\n",
       "      <td>-0.8</td>\n",
       "    </tr>\n",
       "    <tr>\n",
       "      <th>7345</th>\n",
       "      <td>I hate gamers https://t.co/dVDTeWSlCc</td>\n",
       "      <td>Toronto, Ontario</td>\n",
       "      <td></td>\n",
       "      <td>NaN</td>\n",
       "      <td>NaN</td>\n",
       "      <td>2017-11-06 14:53:50</td>\n",
       "      <td>-0.8</td>\n",
       "    </tr>\n",
       "    <tr>\n",
       "      <th>8382</th>\n",
       "      <td>@KpHeartbeat @Hala_mxxx @azar_panah @nutella_a...</td>\n",
       "      <td></td>\n",
       "      <td></td>\n",
       "      <td>NaN</td>\n",
       "      <td>NaN</td>\n",
       "      <td>2017-11-06 12:59:37</td>\n",
       "      <td>-0.8</td>\n",
       "    </tr>\n",
       "    <tr>\n",
       "      <th>13556</th>\n",
       "      <td>RT @JoshHelaku: Nutella is garbage and if you ...</td>\n",
       "      <td></td>\n",
       "      <td></td>\n",
       "      <td>NaN</td>\n",
       "      <td>NaN</td>\n",
       "      <td>2017-11-06 01:26:29</td>\n",
       "      <td>-0.8</td>\n",
       "    </tr>\n",
       "    <tr>\n",
       "      <th>13360</th>\n",
       "      <td>atacando meu pote de nutella na meia hora q me...</td>\n",
       "      <td></td>\n",
       "      <td></td>\n",
       "      <td>NaN</td>\n",
       "      <td>NaN</td>\n",
       "      <td>2017-11-06 01:34:58</td>\n",
       "      <td>-0.8</td>\n",
       "    </tr>\n",
       "    <tr>\n",
       "      <th>14158</th>\n",
       "      <td>@Deco_SRN @patrick_1972 @RicardoPF Culpa dessa...</td>\n",
       "      <td>Brasília, Brasil</td>\n",
       "      <td></td>\n",
       "      <td>NaN</td>\n",
       "      <td>NaN</td>\n",
       "      <td>2017-11-06 00:09:36</td>\n",
       "      <td>-0.8</td>\n",
       "    </tr>\n",
       "    <tr>\n",
       "      <th>12720</th>\n",
       "      <td>RT @latttepostrebar: Domingo es el dia del Cho...</td>\n",
       "      <td></td>\n",
       "      <td></td>\n",
       "      <td>NaN</td>\n",
       "      <td>NaN</td>\n",
       "      <td>2017-11-06 02:44:07</td>\n",
       "      <td>-0.8</td>\n",
       "    </tr>\n",
       "    <tr>\n",
       "      <th>12486</th>\n",
       "      <td>RT @osoriginais1010: @NACAOFLAMENGO85 @mauroce...</td>\n",
       "      <td>Feira de Santana</td>\n",
       "      <td></td>\n",
       "      <td>NaN</td>\n",
       "      <td>NaN</td>\n",
       "      <td>2017-11-06 03:36:20</td>\n",
       "      <td>-0.8</td>\n",
       "    </tr>\n",
       "    <tr>\n",
       "      <th>13648</th>\n",
       "      <td>RT @JoshHelaku: Nutella is garbage and if you ...</td>\n",
       "      <td>Westside Rock City</td>\n",
       "      <td></td>\n",
       "      <td>NaN</td>\n",
       "      <td>NaN</td>\n",
       "      <td>2017-11-06 01:17:52</td>\n",
       "      <td>-0.8</td>\n",
       "    </tr>\n",
       "    <tr>\n",
       "      <th>5352</th>\n",
       "      <td>@victorsilva796 @p3s5gt @ManCityPT Realmente.....</td>\n",
       "      <td>São Paulo</td>\n",
       "      <td></td>\n",
       "      <td>NaN</td>\n",
       "      <td>NaN</td>\n",
       "      <td>2017-11-06 18:04:56</td>\n",
       "      <td>-0.8</td>\n",
       "    </tr>\n",
       "    <tr>\n",
       "      <th>3380</th>\n",
       "      <td>#Nutella #Ferrerro #Palmoil #Sugar Who want to...</td>\n",
       "      <td>Glasgow, Scotland</td>\n",
       "      <td></td>\n",
       "      <td>NaN</td>\n",
       "      <td>NaN</td>\n",
       "      <td>2017-11-06 20:02:39</td>\n",
       "      <td>-0.8</td>\n",
       "    </tr>\n",
       "    <tr>\n",
       "      <th>3889</th>\n",
       "      <td>GRANDerz\\nI don't know is any of the GRANDerz ...</td>\n",
       "      <td></td>\n",
       "      <td></td>\n",
       "      <td>NaN</td>\n",
       "      <td>NaN</td>\n",
       "      <td>2017-11-06 19:24:49</td>\n",
       "      <td>-0.8</td>\n",
       "    </tr>\n",
       "    <tr>\n",
       "      <th>13180</th>\n",
       "      <td>RT @Nerdygirl8927: I hate nutella  #DumbConfes...</td>\n",
       "      <td>San Diego, CA</td>\n",
       "      <td></td>\n",
       "      <td>NaN</td>\n",
       "      <td>NaN</td>\n",
       "      <td>2017-11-06 01:47:40</td>\n",
       "      <td>-0.8</td>\n",
       "    </tr>\n",
       "    <tr>\n",
       "      <th>13663</th>\n",
       "      <td>Nutella is garbage and if you eat it I hope yo...</td>\n",
       "      <td>Virgo Supercluster</td>\n",
       "      <td></td>\n",
       "      <td>NaN</td>\n",
       "      <td>NaN</td>\n",
       "      <td>2017-11-06 01:15:49</td>\n",
       "      <td>-0.8</td>\n",
       "    </tr>\n",
       "    <tr>\n",
       "      <th>13203</th>\n",
       "      <td>I hate nutella  #DumbConfessions</td>\n",
       "      <td>Ohio</td>\n",
       "      <td></td>\n",
       "      <td>NaN</td>\n",
       "      <td>NaN</td>\n",
       "      <td>2017-11-06 01:44:54</td>\n",
       "      <td>-0.8</td>\n",
       "    </tr>\n",
       "    <tr>\n",
       "      <th>5695</th>\n",
       "      <td>@Nutella_Vodka I would but I don’t want you to...</td>\n",
       "      <td>Trampa</td>\n",
       "      <td></td>\n",
       "      <td>NaN</td>\n",
       "      <td>NaN</td>\n",
       "      <td>2017-11-06 17:33:22</td>\n",
       "      <td>-0.8</td>\n",
       "    </tr>\n",
       "    <tr>\n",
       "      <th>2906</th>\n",
       "      <td>@InsiderFood @thisisinsider I hate Nutella 🤢</td>\n",
       "      <td></td>\n",
       "      <td></td>\n",
       "      <td>NaN</td>\n",
       "      <td>NaN</td>\n",
       "      <td>2017-11-06 20:25:23</td>\n",
       "      <td>-0.8</td>\n",
       "    </tr>\n",
       "    <tr>\n",
       "      <th>2671</th>\n",
       "      <td>Me estoy acabando la nutella a base de hincar ...</td>\n",
       "      <td></td>\n",
       "      <td></td>\n",
       "      <td>NaN</td>\n",
       "      <td>NaN</td>\n",
       "      <td>2017-11-06 20:42:49</td>\n",
       "      <td>-0.8</td>\n",
       "    </tr>\n",
       "    <tr>\n",
       "      <th>5172</th>\n",
       "      <td>@AlissaViolet No, cuz i hate nutella</td>\n",
       "      <td>London, Ontario</td>\n",
       "      <td></td>\n",
       "      <td>NaN</td>\n",
       "      <td>NaN</td>\n",
       "      <td>2017-11-06 18:09:02</td>\n",
       "      <td>-0.8</td>\n",
       "    </tr>\n",
       "    <tr>\n",
       "      <th>7694</th>\n",
       "      <td>RT @igorgdcj: @julianatenorio_ isso só me faz ...</td>\n",
       "      <td>moro no país tropical</td>\n",
       "      <td></td>\n",
       "      <td>NaN</td>\n",
       "      <td>NaN</td>\n",
       "      <td>2017-11-06 14:14:44</td>\n",
       "      <td>-0.8</td>\n",
       "    </tr>\n",
       "    <tr>\n",
       "      <th>6479</th>\n",
       "      <td>@_m6ly Mais t chelou toi le sucré salé c la ba...</td>\n",
       "      <td>Paris</td>\n",
       "      <td></td>\n",
       "      <td>NaN</td>\n",
       "      <td>NaN</td>\n",
       "      <td>2017-11-06 16:22:49</td>\n",
       "      <td>-0.8</td>\n",
       "    </tr>\n",
       "    <tr>\n",
       "      <th>14175</th>\n",
       "      <td>@NACAOFLAMENGO85 @maurocezar Já disse nessa po...</td>\n",
       "      <td>Brasília, Brasil</td>\n",
       "      <td></td>\n",
       "      <td>NaN</td>\n",
       "      <td>NaN</td>\n",
       "      <td>2017-11-06 00:08:24</td>\n",
       "      <td>-0.8</td>\n",
       "    </tr>\n",
       "    <tr>\n",
       "      <th>9025</th>\n",
       "      <td>Dit-elle la crapé qui me montre son Nutella da...</td>\n",
       "      <td>Marseille, France</td>\n",
       "      <td></td>\n",
       "      <td>NaN</td>\n",
       "      <td>NaN</td>\n",
       "      <td>2017-11-06 11:49:53</td>\n",
       "      <td>-0.8</td>\n",
       "    </tr>\n",
       "    <tr>\n",
       "      <th>7357</th>\n",
       "      <td>RT @_Mea_Culpa: Die Rezeptur von Nutella wurde...</td>\n",
       "      <td>Neuland</td>\n",
       "      <td></td>\n",
       "      <td>NaN</td>\n",
       "      <td>NaN</td>\n",
       "      <td>2017-11-06 14:52:34</td>\n",
       "      <td>-0.8</td>\n",
       "    </tr>\n",
       "    <tr>\n",
       "      <th>13659</th>\n",
       "      <td>Y’all hate ranch and Nutella? https://t.co/yS3...</td>\n",
       "      <td>Detróit</td>\n",
       "      <td></td>\n",
       "      <td>NaN</td>\n",
       "      <td>NaN</td>\n",
       "      <td>2017-11-06 01:16:08</td>\n",
       "      <td>-0.8</td>\n",
       "    </tr>\n",
       "    <tr>\n",
       "      <th>4310</th>\n",
       "      <td>@injy_ali14 Tb hately 😭😭💔 we 3yza nutella �...</td>\n",
       "      <td></td>\n",
       "      <td></td>\n",
       "      <td>NaN</td>\n",
       "      <td>NaN</td>\n",
       "      <td>2017-11-06 18:54:55</td>\n",
       "      <td>-0.8</td>\n",
       "    </tr>\n",
       "    <tr>\n",
       "      <th>1444</th>\n",
       "      <td>@_LAERTO @Vagazoide eu queria entender o pq de...</td>\n",
       "      <td>Godric's Hollow</td>\n",
       "      <td></td>\n",
       "      <td>NaN</td>\n",
       "      <td>NaN</td>\n",
       "      <td>2017-11-06 22:04:37</td>\n",
       "      <td>-0.8</td>\n",
       "    </tr>\n",
       "    <tr>\n",
       "      <th>3960</th>\n",
       "      <td>Prevendo o futuro em que todas as receitas de ...</td>\n",
       "      <td></td>\n",
       "      <td></td>\n",
       "      <td>NaN</td>\n",
       "      <td>NaN</td>\n",
       "      <td>2017-11-06 19:19:09</td>\n",
       "      <td>-0.8</td>\n",
       "    </tr>\n",
       "    <tr>\n",
       "      <th>13645</th>\n",
       "      <td>RT @ChaniThaHippie: Y’all hate ranch and Nutel...</td>\n",
       "      <td>🌴</td>\n",
       "      <td></td>\n",
       "      <td>NaN</td>\n",
       "      <td>NaN</td>\n",
       "      <td>2017-11-06 01:18:11</td>\n",
       "      <td>-0.8</td>\n",
       "    </tr>\n",
       "    <tr>\n",
       "      <th>827</th>\n",
       "      <td>@madeinnile @_LAERTO nossa mas eu qnd era cria...</td>\n",
       "      <td></td>\n",
       "      <td></td>\n",
       "      <td>NaN</td>\n",
       "      <td>NaN</td>\n",
       "      <td>2017-11-06 22:46:04</td>\n",
       "      <td>-0.9</td>\n",
       "    </tr>\n",
       "  </tbody>\n",
       "</table>\n",
       "<p>14231 rows × 7 columns</p>\n",
       "</div>"
      ],
      "text/plain": [
       "                                                    text  \\\n",
       "450    The Best Ways to Use Nutella - https://t.co/oo...   \n",
       "531    I swear to god Conor’s gonna pour Nutella into...   \n",
       "7116   Best personalised Christmas gifts for men, wom...   \n",
       "1561   The Best Ways to Use Nutella - https://t.co/ug...   \n",
       "12324  The best Nutella alternatives you should try i...   \n",
       "4745   @AlissaViolet I dipped a banana in Nutella and...   \n",
       "9772   Toast Necklaces Best Friends  peanut butter to...   \n",
       "434    The Best Ways to Use Nutella - https://t.co/8m...   \n",
       "9534   The Best Ways to Use Nutella: https://t.co/May...   \n",
       "2262   The Best Ways to Use Nutella - https://t.co/wz...   \n",
       "11712  The Best Ways to Use Nutella - https://t.co/lG...   \n",
       "14058  The Best Ways to Use Nutella - https://t.co/yE...   \n",
       "1132   @Outsource2Maja Teaspoon in the Nutella then s...   \n",
       "8306   PERFECT 🍩🍩🍩🍩🍩#foooodieee #timhortons #nut...   \n",
       "9176   Peanut Butter Nutella cookies are the best. Ju...   \n",
       "8214   The combination of your voices are so perfect ...   \n",
       "1550   RT @LittleStoryfUs: The Best Ways to Use Nutel...   \n",
       "7404   The Best Ways to Use Nutella: https://t.co/63C...   \n",
       "7246   The best way to start off your busy work week ...   \n",
       "10459                best collab: pandesal &amp; nutella   \n",
       "5590   @Nutella_Vodka Oh man they are hands down the ...   \n",
       "324    This is what happens to the best Nutella Calzo...   \n",
       "11882  The Best Ways to Use Nutella - https://t.co/K9...   \n",
       "11677  The Best Ways to Use Nutella - https://t.co/wi...   \n",
       "10421  @iJenNyan Nutella is einfach das Beste. Da kom...   \n",
       "8759   #NUTELLA #LAVA #CAKE \\nGooey lava cake—the bes...   \n",
       "8241   The Best Ways to Use Nutella - https://t.co/SX...   \n",
       "5073   @AlissaViolet you ever put milk into an almost...   \n",
       "4048   Het beste geluid ooit! #Nutella https://t.co/r...   \n",
       "6069   RT @AboutLibras: The best thing about #Libra i...   \n",
       "...                                                  ...   \n",
       "10972  Stupid me bought a jar of nutella 2 days ago.....   \n",
       "7345               I hate gamers https://t.co/dVDTeWSlCc   \n",
       "8382   @KpHeartbeat @Hala_mxxx @azar_panah @nutella_a...   \n",
       "13556  RT @JoshHelaku: Nutella is garbage and if you ...   \n",
       "13360  atacando meu pote de nutella na meia hora q me...   \n",
       "14158  @Deco_SRN @patrick_1972 @RicardoPF Culpa dessa...   \n",
       "12720  RT @latttepostrebar: Domingo es el dia del Cho...   \n",
       "12486  RT @osoriginais1010: @NACAOFLAMENGO85 @mauroce...   \n",
       "13648  RT @JoshHelaku: Nutella is garbage and if you ...   \n",
       "5352   @victorsilva796 @p3s5gt @ManCityPT Realmente.....   \n",
       "3380   #Nutella #Ferrerro #Palmoil #Sugar Who want to...   \n",
       "3889   GRANDerz\\nI don't know is any of the GRANDerz ...   \n",
       "13180  RT @Nerdygirl8927: I hate nutella  #DumbConfes...   \n",
       "13663  Nutella is garbage and if you eat it I hope yo...   \n",
       "13203                   I hate nutella  #DumbConfessions   \n",
       "5695   @Nutella_Vodka I would but I don’t want you to...   \n",
       "2906       @InsiderFood @thisisinsider I hate Nutella 🤢   \n",
       "2671   Me estoy acabando la nutella a base de hincar ...   \n",
       "5172                @AlissaViolet No, cuz i hate nutella   \n",
       "7694   RT @igorgdcj: @julianatenorio_ isso só me faz ...   \n",
       "6479   @_m6ly Mais t chelou toi le sucré salé c la ba...   \n",
       "14175  @NACAOFLAMENGO85 @maurocezar Já disse nessa po...   \n",
       "9025   Dit-elle la crapé qui me montre son Nutella da...   \n",
       "7357   RT @_Mea_Culpa: Die Rezeptur von Nutella wurde...   \n",
       "13659  Y’all hate ranch and Nutella? https://t.co/yS3...   \n",
       "4310   @injy_ali14 Tb hately 😭😭💔 we 3yza nutella �...   \n",
       "1444   @_LAERTO @Vagazoide eu queria entender o pq de...   \n",
       "3960   Prevendo o futuro em que todas as receitas de ...   \n",
       "13645  RT @ChaniThaHippie: Y’all hate ranch and Nutel...   \n",
       "827    @madeinnile @_LAERTO nossa mas eu qnd era cria...   \n",
       "\n",
       "                            location country_code     long     latt  \\\n",
       "450                                                    NaN      NaN   \n",
       "531             Strathaven, Scotland                   NaN      NaN   \n",
       "7116        e-mediagroup@outlook.com                   NaN      NaN   \n",
       "1561                                                   NaN      NaN   \n",
       "12324                         London                   NaN      NaN   \n",
       "4745                          Kuwait                   NaN      NaN   \n",
       "9772                         Glasgow                   NaN      NaN   \n",
       "434                                                    NaN      NaN   \n",
       "9534                                                   NaN      NaN   \n",
       "2262              Colorado Springs\\r                   NaN      NaN   \n",
       "11712                                                  NaN      NaN   \n",
       "14058                  Minneapolis\\r                   NaN      NaN   \n",
       "1132   Bournemouth Dorset U of the K                   NaN      NaN   \n",
       "8306                                                   NaN      NaN   \n",
       "9176                          Sydney                   NaN      NaN   \n",
       "8214                   New Hope Club                   NaN      NaN   \n",
       "1550                  Rio de Janeiro                   NaN      NaN   \n",
       "7404                                                   NaN      NaN   \n",
       "7246        75 9th Ave  New York, NY                   NaN      NaN   \n",
       "10459                       rome, it                   NaN      NaN   \n",
       "5590            Melbourne, Australia                   NaN      NaN   \n",
       "324                  Los Angeles, CA           US -118.451  34.1512   \n",
       "11882                         Mesa\\r                   NaN      NaN   \n",
       "11677                                                  NaN      NaN   \n",
       "10421                                                  NaN      NaN   \n",
       "8759              Liverpool, England                   NaN      NaN   \n",
       "8241                       Detroit\\r                   NaN      NaN   \n",
       "5073                       Worldwide                   NaN      NaN   \n",
       "4048               Antwerpen, België                   NaN      NaN   \n",
       "6069                                                   NaN      NaN   \n",
       "...                              ...          ...      ...      ...   \n",
       "10972            Melbourne, Victoria                   NaN      NaN   \n",
       "7345                Toronto, Ontario                   NaN      NaN   \n",
       "8382                                                   NaN      NaN   \n",
       "13556                                                  NaN      NaN   \n",
       "13360                                                  NaN      NaN   \n",
       "14158               Brasília, Brasil                   NaN      NaN   \n",
       "12720                                                  NaN      NaN   \n",
       "12486               Feira de Santana                   NaN      NaN   \n",
       "13648             Westside Rock City                   NaN      NaN   \n",
       "5352                       São Paulo                   NaN      NaN   \n",
       "3380               Glasgow, Scotland                   NaN      NaN   \n",
       "3889                                                   NaN      NaN   \n",
       "13180                  San Diego, CA                   NaN      NaN   \n",
       "13663             Virgo Supercluster                   NaN      NaN   \n",
       "13203                           Ohio                   NaN      NaN   \n",
       "5695                          Trampa                   NaN      NaN   \n",
       "2906                                                   NaN      NaN   \n",
       "2671                                                   NaN      NaN   \n",
       "5172                 London, Ontario                   NaN      NaN   \n",
       "7694           moro no país tropical                   NaN      NaN   \n",
       "6479                          Paris                    NaN      NaN   \n",
       "14175               Brasília, Brasil                   NaN      NaN   \n",
       "9025               Marseille, France                   NaN      NaN   \n",
       "7357                         Neuland                   NaN      NaN   \n",
       "13659                        Detróit                   NaN      NaN   \n",
       "4310                                                   NaN      NaN   \n",
       "1444                 Godric's Hollow                   NaN      NaN   \n",
       "3960                                                   NaN      NaN   \n",
       "13645                             🌴                   NaN      NaN   \n",
       "827                                                    NaN      NaN   \n",
       "\n",
       "                     date  polarity  \n",
       "450   2017-11-06 23:16:16       1.0  \n",
       "531   2017-11-06 23:11:21       1.0  \n",
       "7116  2017-11-06 15:16:31       1.0  \n",
       "1561  2017-11-06 21:58:00       1.0  \n",
       "12324 2017-11-06 04:25:04       1.0  \n",
       "4745  2017-11-06 18:29:05       1.0  \n",
       "9772  2017-11-06 10:37:43       1.0  \n",
       "434   2017-11-06 23:17:25       1.0  \n",
       "9534  2017-11-06 11:02:00       1.0  \n",
       "2262  2017-11-06 21:14:13       1.0  \n",
       "11712 2017-11-06 07:15:05       1.0  \n",
       "14058 2017-11-06 00:22:01       1.0  \n",
       "1132  2017-11-06 22:21:24       1.0  \n",
       "8306  2017-11-06 13:07:47       1.0  \n",
       "9176  2017-11-06 11:35:59       1.0  \n",
       "8214  2017-11-06 13:18:53       1.0  \n",
       "1550  2017-11-06 21:58:42       1.0  \n",
       "7404  2017-11-06 14:48:12       1.0  \n",
       "7246  2017-11-06 15:01:21       1.0  \n",
       "10459 2017-11-06 09:28:41       1.0  \n",
       "5590  2017-11-06 17:42:01       1.0  \n",
       "324   2017-11-06 23:28:24       1.0  \n",
       "11882 2017-11-06 06:42:02       1.0  \n",
       "11677 2017-11-06 07:17:23       1.0  \n",
       "10421 2017-11-06 09:34:43       1.0  \n",
       "8759  2017-11-06 12:17:34       1.0  \n",
       "8241  2017-11-06 13:15:37       1.0  \n",
       "5073  2017-11-06 18:11:42       1.0  \n",
       "4048  2017-11-06 19:13:15       1.0  \n",
       "6069  2017-11-06 16:52:24       1.0  \n",
       "...                   ...       ...  \n",
       "10972 2017-11-06 08:22:33      -0.8  \n",
       "7345  2017-11-06 14:53:50      -0.8  \n",
       "8382  2017-11-06 12:59:37      -0.8  \n",
       "13556 2017-11-06 01:26:29      -0.8  \n",
       "13360 2017-11-06 01:34:58      -0.8  \n",
       "14158 2017-11-06 00:09:36      -0.8  \n",
       "12720 2017-11-06 02:44:07      -0.8  \n",
       "12486 2017-11-06 03:36:20      -0.8  \n",
       "13648 2017-11-06 01:17:52      -0.8  \n",
       "5352  2017-11-06 18:04:56      -0.8  \n",
       "3380  2017-11-06 20:02:39      -0.8  \n",
       "3889  2017-11-06 19:24:49      -0.8  \n",
       "13180 2017-11-06 01:47:40      -0.8  \n",
       "13663 2017-11-06 01:15:49      -0.8  \n",
       "13203 2017-11-06 01:44:54      -0.8  \n",
       "5695  2017-11-06 17:33:22      -0.8  \n",
       "2906  2017-11-06 20:25:23      -0.8  \n",
       "2671  2017-11-06 20:42:49      -0.8  \n",
       "5172  2017-11-06 18:09:02      -0.8  \n",
       "7694  2017-11-06 14:14:44      -0.8  \n",
       "6479  2017-11-06 16:22:49      -0.8  \n",
       "14175 2017-11-06 00:08:24      -0.8  \n",
       "9025  2017-11-06 11:49:53      -0.8  \n",
       "7357  2017-11-06 14:52:34      -0.8  \n",
       "13659 2017-11-06 01:16:08      -0.8  \n",
       "4310  2017-11-06 18:54:55      -0.8  \n",
       "1444  2017-11-06 22:04:37      -0.8  \n",
       "3960  2017-11-06 19:19:09      -0.8  \n",
       "13645 2017-11-06 01:18:11      -0.8  \n",
       "827   2017-11-06 22:46:04      -0.9  \n",
       "\n",
       "[14231 rows x 7 columns]"
      ]
     },
     "execution_count": 70,
     "metadata": {},
     "output_type": "execute_result"
    }
   ],
   "source": [
    "df3.sort(columns='polarity', ascending=False)"
   ]
  },
  {
   "cell_type": "code",
   "execution_count": 69,
   "metadata": {
    "collapsed": false
   },
   "outputs": [
    {
     "name": "stdout",
     "output_type": "stream",
     "text": [
      "text            RT @JoshHelaku: Nutella is garbage and if you ...\n",
      "location                                       Westside Rock City\n",
      "country_code                                                     \n",
      "long                                                          NaN\n",
      "latt                                                          NaN\n",
      "date                                          2017-11-06 01:17:52\n",
      "polarity                                                     -0.8\n",
      "Name: 13648, dtype: object\n"
     ]
    }
   ],
   "source": [
    "#Example of a negative tweet \n",
    "\n",
    "print df3.iloc[13648]\n"
   ]
  },
  {
   "cell_type": "code",
   "execution_count": 71,
   "metadata": {
    "collapsed": false
   },
   "outputs": [
    {
     "name": "stdout",
     "output_type": "stream",
     "text": [
      "text            The Best Ways to Use Nutella - https://t.co/oo...\n",
      "location                                                         \n",
      "country_code                                                     \n",
      "long                                                          NaN\n",
      "latt                                                          NaN\n",
      "date                                          2017-11-06 23:16:16\n",
      "polarity                                                        1\n",
      "Name: 450, dtype: object\n"
     ]
    }
   ],
   "source": [
    "#Example of a positive tweet \n",
    "\n",
    "print df3.iloc[450]\n"
   ]
  },
  {
   "cell_type": "code",
   "execution_count": 47,
   "metadata": {
    "collapsed": false
   },
   "outputs": [
    {
     "name": "stdout",
     "output_type": "stream",
     "text": [
      "       polarity                date\n",
      "14226       0.0 2017-11-06 00:01:01\n",
      "14227       0.0 2017-11-06 00:00:52\n",
      "14228       0.0 2017-11-06 00:00:48\n",
      "14229       0.0 2017-11-06 00:00:06\n",
      "14230       0.0 2017-11-06 00:00:03\n"
     ]
    }
   ],
   "source": [
    "df3_new = df3[['polarity', 'date']]\n",
    "\n",
    "print df3_new.tail()"
   ]
  },
  {
   "cell_type": "code",
   "execution_count": 48,
   "metadata": {
    "collapsed": false
   },
   "outputs": [
    {
     "name": "stdout",
     "output_type": "stream",
     "text": [
      "                     polarity                date\n",
      "2017-11-03 07:42:39       0.0 2017-11-03 07:42:39\n",
      "2017-11-03 07:42:23       0.0 2017-11-03 07:42:23\n",
      "2017-11-03 07:41:52       0.0 2017-11-03 07:41:52\n",
      "2017-11-03 07:41:32       0.0 2017-11-03 07:41:32\n",
      "2017-11-03 07:41:08       0.0 2017-11-03 07:41:08\n"
     ]
    }
   ],
   "source": [
    "df_all_new_all = pd.concat([df3_new, df_all_new])\n",
    "\n",
    "print df_all_new_all.tail()"
   ]
  },
  {
   "cell_type": "code",
   "execution_count": 49,
   "metadata": {
    "collapsed": false
   },
   "outputs": [
    {
     "data": {
      "text/plain": [
       "<matplotlib.axes._subplots.AxesSubplot at 0x20aed1890>"
      ]
     },
     "execution_count": 49,
     "metadata": {},
     "output_type": "execute_result"
    },
    {
     "data": {
      "image/png": "[encoded data removed]",
      "text/plain": [
       "<matplotlib.figure.Figure at 0x223b2a3d0>"
      ]
     },
     "metadata": {},
     "output_type": "display_data"
    }
   ],
   "source": [
    "df_all_new_all.index = df_all_new_all['date']\n",
    "\n",
    "df_all_new_all['polarity'].resample('D').mean().plot()\n"
   ]
  },
  {
   "cell_type": "code",
   "execution_count": null,
   "metadata": {
    "collapsed": true
   },
   "outputs": [],
   "source": []
  }
 ],
 "metadata": {
  "anaconda-cloud": {},
  "kernelspec": {
   "display_name": "Python [conda root]",
   "language": "python",
   "name": "conda-root-py"
  },
  "language_info": {
   "codemirror_mode": {
    "name": "ipython",
    "version": 2
   },
   "file_extension": ".py",
   "mimetype": "text/x-python",
   "name": "python",
   "nbconvert_exporter": "python",
   "pygments_lexer": "ipython2",
   "version": "2.7.12"
  }
 },
 "nbformat": 4,
 "nbformat_minor": 2
}
