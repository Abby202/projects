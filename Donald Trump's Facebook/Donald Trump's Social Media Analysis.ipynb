{
 "cells": [
  {
   "cell_type": "markdown",
   "metadata": {
    "collapsed": false
   },
   "source": [
    "# Donald Trump's Social Media Sentiment Analysis"
   ]
  },
  {
   "cell_type": "markdown",
   "metadata": {},
   "source": [
    "Donald Trump's approval ratings have dropped to a dismal 39.1% in May 2017. As one of the most controversial characters in the spotlight, his social media channels are a treasure trove for sentiment analysis. \n",
    "\n",
    "- What posts or tweets attract the most reactions from his followers? Are there patterns or clusters in the posts?\n",
    "- Are his critics more vicious on [Facebook](https://www.facebook.com/DonaldTrump/) and [Twitter](https://twitter.com/realDonaldTrump)?"
   ]
  },
  {
   "cell_type": "code",
   "execution_count": 1,
   "metadata": {
    "collapsed": false
   },
   "outputs": [
    {
     "name": "stderr",
     "output_type": "stream",
     "text": [
      "//anaconda/lib/python2.7/site-packages/matplotlib/font_manager.py:273: UserWarning: Matplotlib is building the font cache using fc-list. This may take a moment.\n",
      "  warnings.warn('Matplotlib is building the font cache using fc-list. This may take a moment.')\n"
     ]
    }
   ],
   "source": [
    "import pandas as pd\n",
    "import numpy as np \n",
    "import matplotlib.pyplot as plt\n",
    "%matplotlib inline\n",
    "\n",
    "df = pd.read_csv('DonaldTrump_facebook_comments1.csv')"
   ]
  },
  {
   "cell_type": "code",
   "execution_count": 3,
   "metadata": {
    "collapsed": false
   },
   "outputs": [
    {
     "data": {
      "text/html": [
       "<div>\n",
       "<table border=\"1\" class=\"dataframe\">\n",
       "  <thead>\n",
       "    <tr style=\"text-align: right;\">\n",
       "      <th></th>\n",
       "      <th>comment_id</th>\n",
       "      <th>status_id</th>\n",
       "      <th>parent_id</th>\n",
       "      <th>comment_message</th>\n",
       "      <th>comment_author</th>\n",
       "      <th>comment_published</th>\n",
       "      <th>comment_likes</th>\n",
       "    </tr>\n",
       "  </thead>\n",
       "  <tbody>\n",
       "    <tr>\n",
       "      <th>0</th>\n",
       "      <td>10159167535600725_10159167536690725</td>\n",
       "      <td>153080620724_10159167535600725</td>\n",
       "      <td>NaN</td>\n",
       "      <td>\"I just fired the head of the FBI. He was craz...</td>\n",
       "      <td>William Peterson</td>\n",
       "      <td>20/5/17 9:32</td>\n",
       "      <td>56</td>\n",
       "    </tr>\n",
       "    <tr>\n",
       "      <th>1</th>\n",
       "      <td>10159167535600725_10159167539020725</td>\n",
       "      <td>153080620724_10159167535600725</td>\n",
       "      <td>10159167535600725_10159167536690725</td>\n",
       "      <td>Correct....Comey the nut job</td>\n",
       "      <td>CJ Ayers</td>\n",
       "      <td>20/5/17 9:33</td>\n",
       "      <td>18</td>\n",
       "    </tr>\n",
       "    <tr>\n",
       "      <th>2</th>\n",
       "      <td>10159167535600725_10159167541255725</td>\n",
       "      <td>153080620724_10159167535600725</td>\n",
       "      <td>10159167535600725_10159167536690725</td>\n",
       "      <td>Our wonderful President is awesome unlike Huss...</td>\n",
       "      <td>George White</td>\n",
       "      <td>20/5/17 9:33</td>\n",
       "      <td>14</td>\n",
       "    </tr>\n",
       "    <tr>\n",
       "      <th>3</th>\n",
       "      <td>10159167535600725_10159167543000725</td>\n",
       "      <td>153080620724_10159167535600725</td>\n",
       "      <td>10159167535600725_10159167536690725</td>\n",
       "      <td>Correct. I would add destroying evidence.</td>\n",
       "      <td>Ion Marian</td>\n",
       "      <td>20/5/17 9:34</td>\n",
       "      <td>3</td>\n",
       "    </tr>\n",
       "    <tr>\n",
       "      <th>4</th>\n",
       "      <td>10159167535600725_10159167544205725</td>\n",
       "      <td>153080620724_10159167535600725</td>\n",
       "      <td>10159167535600725_10159167536690725</td>\n",
       "      <td>#maga</td>\n",
       "      <td>April Thomas Kimbrell</td>\n",
       "      <td>20/5/17 9:34</td>\n",
       "      <td>7</td>\n",
       "    </tr>\n",
       "  </tbody>\n",
       "</table>\n",
       "</div>"
      ],
      "text/plain": [
       "                            comment_id                       status_id  \\\n",
       "0  10159167535600725_10159167536690725  153080620724_10159167535600725   \n",
       "1  10159167535600725_10159167539020725  153080620724_10159167535600725   \n",
       "2  10159167535600725_10159167541255725  153080620724_10159167535600725   \n",
       "3  10159167535600725_10159167543000725  153080620724_10159167535600725   \n",
       "4  10159167535600725_10159167544205725  153080620724_10159167535600725   \n",
       "\n",
       "                             parent_id  \\\n",
       "0                                  NaN   \n",
       "1  10159167535600725_10159167536690725   \n",
       "2  10159167535600725_10159167536690725   \n",
       "3  10159167535600725_10159167536690725   \n",
       "4  10159167535600725_10159167536690725   \n",
       "\n",
       "                                     comment_message         comment_author  \\\n",
       "0  \"I just fired the head of the FBI. He was craz...       William Peterson   \n",
       "1                       Correct....Comey the nut job               CJ Ayers   \n",
       "2  Our wonderful President is awesome unlike Huss...           George White   \n",
       "3          Correct. I would add destroying evidence.             Ion Marian   \n",
       "4                                              #maga  April Thomas Kimbrell   \n",
       "\n",
       "  comment_published  comment_likes  \n",
       "0      20/5/17 9:32             56  \n",
       "1      20/5/17 9:33             18  \n",
       "2      20/5/17 9:33             14  \n",
       "3      20/5/17 9:34              3  \n",
       "4      20/5/17 9:34              7  "
      ]
     },
     "execution_count": 3,
     "metadata": {},
     "output_type": "execute_result"
    }
   ],
   "source": [
    "#let's take a look at the dataset \n",
    "\n",
    "df.head()"
   ]
  },
  {
   "cell_type": "code",
   "execution_count": 27,
   "metadata": {
    "collapsed": false
   },
   "outputs": [],
   "source": [
    "#creating polarity variable \n",
    "\n",
    "import re\n",
    "import nltk\n",
    "from nltk.corpus import stopwords\n",
    "from nltk.stem.porter import PorterStemmer\n",
    "from textblob import TextBlob\n",
    "corpus = []\n",
    "for i in range(0, 4247):\n",
    "    review = re.sub(\"(@[A-Za-z0-9]+)|([^0-9A-Za-z \\t])|(\\w+:\\/\\/\\S+)\", \" \", df['comment_message'][i])\n",
    "    review = review.lower()\n",
    "    review = review.split()\n",
    "    ps = PorterStemmer()\n",
    "    review = [ps.stem(word) for word in review if not word in stopwords.words('english')]\n",
    "    review = ' '.join(review)\n",
    "    blob = TextBlob(review)\n",
    "    blob_s = blob.sentiment.polarity\n",
    "    corpus.append(blob_s)\n",
    "    \n",
    "corpus_sub = np.array(corpus)\n",
    "\n",
    "polarity = pd.DataFrame(corpus_sub)\n",
    "\n",
    "df['polarity'] = polarity\n"
   ]
  },
  {
   "cell_type": "code",
   "execution_count": 5,
   "metadata": {
    "collapsed": false
   },
   "outputs": [],
   "source": [
    "#creating polarity variable \n",
    "\n",
    "corpus = []\n",
    "for i in range(0, 4247):\n",
    "    review = re.sub(\"(@[A-Za-z0-9]+)|([^0-9A-Za-z \\t])|(\\w+:\\/\\/\\S+)\", \" \", df['comment_message'][i])\n",
    "    review = review.lower()\n",
    "    review = review.split()\n",
    "    ps = PorterStemmer()\n",
    "    review = [ps.stem(word) for word in review if not word in stopwords.words('english')]\n",
    "    review = ' '.join(review)\n",
    "    blob = TextBlob(review)\n",
    "    blob_s1 = blob.sentiment.subjectivity\n",
    "    corpus.append(blob_s1)\n",
    "    \n",
    "corpus_sub1 = np.array(corpus)\n",
    "\n",
    "subjectivity = pd.DataFrame(corpus_sub1)\n",
    "\n",
    "df['subjectivity'] = subjectivity"
   ]
  },
  {
   "cell_type": "code",
   "execution_count": 38,
   "metadata": {
    "collapsed": false
   },
   "outputs": [
    {
     "name": "stdout",
     "output_type": "stream",
     "text": [
      "Neutral     3082\n",
      "Positive    839 \n",
      "Negative    326 \n",
      "Name: fb_polarity, dtype: int64\n"
     ]
    }
   ],
   "source": [
    "#recoding polarity into 3 categories  \n",
    "\n",
    "def days_late_xform(dl):\n",
    "    if dl > 0.3: return 'Positive'\n",
    "    elif -0.3 < dl <= 0.3: return 'Neutral'\n",
    "    elif dl <= -0.3: return 'Negative'\n",
    "    \n",
    "df['fb_polarity'] = df['polarity'].map(days_late_xform)\n",
    "print df['fb_polarity'].value_counts()\n"
   ]
  },
  {
   "cell_type": "code",
   "execution_count": 7,
   "metadata": {
    "collapsed": false
   },
   "outputs": [
    {
     "name": "stdout",
     "output_type": "stream",
     "text": [
      "Negative    2991\n",
      "Positive    1256\n",
      "Name: subjectivity_r, dtype: int64\n"
     ]
    }
   ],
   "source": [
    "#recoding subjectivity into 3 categories  \n",
    "\n",
    "def days_late_xform1(dl):\n",
    "    if dl > 0.5: return 'Positive'\n",
    "    elif dl <= 0.5: return 'Negative'\n",
    "    \n",
    "df['subjectivity_r'] = df['subjectivity'].map(days_late_xform1)\n",
    "\n",
    "\n",
    "print df.subjectivity_r.value_counts()"
   ]
  },
  {
   "cell_type": "code",
   "execution_count": 29,
   "metadata": {
    "collapsed": false
   },
   "outputs": [
    {
     "data": {
      "text/plain": [
       "<matplotlib.text.Text at 0x119333050>"
      ]
     },
     "execution_count": 29,
     "metadata": {},
     "output_type": "execute_result"
    },
    {
     "data": {
      "image/png": "[encoded data removed]",
      "text/plain": [
       "<matplotlib.figure.Figure at 0x11accf4d0>"
      ]
     },
     "metadata": {},
     "output_type": "display_data"
    }
   ],
   "source": [
    "#what percentage of facebook comments on Trump's posts are negative? \n",
    "\n",
    "import seaborn as sns\n",
    "plt.subplot(1, 2, 1)\n",
    "\n",
    "sns.set_style(\"darkgrid\")\n",
    "ax = sns.countplot(x=\"fb_polarity\", data=df)\n",
    "ax.set(xlabel='Rating', ylabel='Number of Comments')\n",
    "sns.plt.title('Sentiment Analysis of Comments on Trump\"s Facebook posts')\n"
   ]
  },
  {
   "cell_type": "code",
   "execution_count": 18,
   "metadata": {
    "collapsed": false
   },
   "outputs": [
    {
     "name": "stdout",
     "output_type": "stream",
     "text": [
      "11      Where's the proof idiot                                                                                                                                                                                                                                                                     \n",
      "13      Childish insults from Trumpsters...just like their Orange hero.....sad but predictable.\\n\\nhttps://www.nytimes.com/interactive/2016/01/28/upshot/donald-trump-twitter-insults.html?_r=0                                                                                                     \n",
      "18      Comey said it never happened on May 3. Why did he change his mind by the 8th and think real hard.                                                                                                                                                                                           \n",
      "37      Look at the people who hate on Trump...they are literally mentally ill. They run with those who normalize grown men identifying as little girls and support born men setting world records in women's weight lifting events.                                                                \n",
      "42      So you were a fly on the wall in the Oval Office and heard this said? More fake news.                                                                                                                                                                                                       \n",
      "50      William Peterson what's the point of this comparison quote? The MSM hates trump, something tells me he's not gonna be suppressing them anytime soon...pretty dumb point there...                                                                                                            \n",
      "59      Craig Woodcock MSM and most of the country and world hate Trump.                                                                                                                                                                                                                            \n",
      "84      Seriously?                                                                                                                                                                                                                                                                                  \n",
      "85      FAKE NEWS!!!!!                                                                                                                                                                                                                                                                              \n",
      "95      I'm not interested in debating.  Sharing factual information is more beneficial.  I've found that debating Trump supporters just leads to being called names (libtard, moron, etc.)                                                                                                         \n",
      "100     comey has already said no Obstruction of Justice you are fake news                                                                                                                                                                                                                          \n",
      "119     fake profile                                                                                                                                                                                                                                                                                \n",
      "121     You know there are more than 1 political party that hates trump, don't offend them by calling them a liberal                                                                                                                                                                                \n",
      "126     Look at the people who hate on Trump...they are literally mentally ill. They run with those who normalize grown men identifying as little girls and support born men setting world records in women's weight lifting events.                                                                \n",
      "146     Putin is sending over his least senior KGB agent to run the oval office while the Dumpf is away.                                                                                                                                                                                            \n",
      "152     I am not a liberal.\\nDt is the White Trash Messiah.\\nYou will be making the same ignorant statements after his impeachment.\\nBillionaire con man draft dodger.\\nThe master of idiots.                                                                                                       \n",
      "158     Don't you mean Maggots?                                                                                                                                                                                                                                                                     \n",
      "164     Mike Bloom yes you did you are a complete idiot and following a criminal and a Russian traitor                                                                                                                                                                                              \n",
      "170     Robert Carlston You are so wrong!                                                                                                                                                                                                                                                           \n",
      "179     Exactly. They celebrate their hate each n everyday!!                                                                                                                                                                                                                                        \n",
      "206     Idiot ^^                                                                                                                                                                                                                                                                                    \n",
      "213     Idiot.                                                                                                                                                                                                                                                                                      \n",
      "226     Very sick liberal                                                                                                                                                                                                                                                                           \n",
      "227     Your what's bad about democrats, Alan.                                                                                                                                                                                                                                                      \n",
      "229     Wow total idiotic childish evil moron! Butt hurt loser!!                                                                                                                                                                                                                                    \n",
      "232     Alan Rogers..Too funny.The conductor is not qualified.Just a corrupt, delusional, IDIOT.                                                                                                                                                                                                    \n",
      "233     That is soooo correct and hilarious. ...you made them mad!                                                                                                                                                                                                                                  \n",
      "238     BREAKING NEWS: Alan just read all the replies to his idiotic comment and realizes that he is a douche!!                                                                                                                                                                                     \n",
      "243     Alan you're sick, and you definitely look like a creepy pedofile!!!_�։_�։_�։_�։_�։_�։                                                                                                                                                                                                       \n",
      "254     Trump looks like a rockstar and you can't handle it.  Please continue to look like an idiot.                                                                                                                                                                                                \n",
      "                                                    ...                                                                                                                                                                                                                                             \n",
      "3459    Stefanie Werner Whatever.. believe your fake news                                                                                                                                                                                                                                           \n",
      "3460    Stefanie Werner at least President Trump isn't bowing in obeisance!                                                                                                                                                                                                                         \n",
      "3496    Haters will hate,,, ignore them                                                                                                                                                                                                                                                             \n",
      "3545    See if you can blow up a couple of their buildings n kill few thousand of them scum bags while your there sir                                                                                                                                                                               \n",
      "3548    At least you won't see Trump, BOWING TO THESE GUYS.....                                                                                                                                                                                                                                     \n",
      "3578    HEY ALL - if you see any of these idiot trump haters just block them-if we all block them they won't be able to spew their crap on our posts- \\n#blockthehaters                                                                                                                             \n",
      "3590    They didn't find 9/11 because Trump never said they funded 9/11 which means they didn't find 9/11. If they did fund 9/11 do you really think Trump would go to their country? No he wouldn't                                                                                                \n",
      "3601    Yeah!!! Who cares about dumb stuff like facts and evidence! No ones got time for that! MAGA!!                                                                                                                                                                                               \n",
      "3618    It's about time.  It's about time that our leaders are not afraid to not bow, to not parade differently than we a r e, US citizens.  Go Mr President ! We have your back.                                                                                                                   \n",
      "3634    They subsidize terrorism.....stop all contact with those jackasses!                                                                                                                                                                                                                         \n",
      "3637    But Saudi Arabia kinda worse... we deserve hate from Iran and they have good cause to hate us. Not so much with SA they just evil                                                                                                                                                           \n",
      "3644    Marianne Zimmerman  so why block people from Muslim countries that didn't do anything?  Using your logic that was stupid and could cause war or tourist attacks.                                                                                                                            \n",
      "3717    I know it's not an alt fact spoon-fed to you by Donny's tweets. It's just the truth Jim Hesch.\\nAmerica needs help. We have a Draft-dodging idiot out to milk everyday Americans out of their hard-earned money.\\nJust the facts Jim _�֊                                                    \n",
      "3741    Cheryl Caesar Perhaps you missed all the fanfare for our President today. Guess you couldn't be bothered to look at the photos on this post. But you are going to believe the opinion of a liberal journalist? Hmmm. There's something wrong with your pussy hat. I think it's too tight.   \n",
      "3743    I hope someone shoots that idiot in the face while he is there!                                                                                                                                                                                                                             \n",
      "3745    some one wants a visit from the fbi and secret service                                                                                                                                                                                                                                      \n",
      "3755    Joe Delgado you poor dummy. It's all coming undone. The soon to be ex-President will go about his affairs after he resigns and you all will be left with a bad Trump taste in your mouth.                                                                                                   \n",
      "3762    You are a blooming idiot as far as I can tell.                                                                                                                                                                                                                                              \n",
      "3773    you and the saudi are stupid dead and killed                                                                                                                                                                                                                                                \n",
      "3797    Michael Anderson Did he say it is the wrong thing to do now?                                                                                                                                                                                                                                \n",
      "3799    And as usual , the  Media here is USA will show very little of a Real President , all you see on the tube is fake backlash from wash post ad, and more of the idiot Comey  who could not make up his mind who's lie to tell his own or Hillary's.                                           \n",
      "3818    Already found 2 disrespectful little shits ^ Joanna and Scott.\\nRespect is both a given, AND earned, depending on your position.\\nTrump is OUR president. Wishing him to fail is to wish the USA will fail. \\nShow some respect.                                                            \n",
      "3855    I thought you didn't support ISIS or anyone who was affiliated with them. I voted for you and you proved me wrong                                                                                                                                                                           \n",
      "3984    I'm wondering who the woman is behind the king and the President????                                                                                                                                                                                                                        \n",
      "4019    We need to stop dealing with these barbarians.                                                                                                                                                                                                                                              \n",
      "4056    Congratulations Trump... you just became another puppet to the demons in Saudi Arabia. Idiot. I voted for you to make a real change not continue the status quo.                                                                                                                            \n",
      "4106    You are now on an official visit to the source of the terrorists in the world ... And you claim that you are fighting terrorism ... Who fools other than your stupid people ...                                                                                                             \n",
      "4112    You forgot to walk next to your wife again. Don't worry, the saudis don't care. They hate women! MAGA                                                                                                                                                                                       \n",
      "4121    seek help before it is too late                                                                                                                                                                                                                                                             \n",
      "4243    Another mindless person! \\nI strongly support Trump but I'm aware of the role of Saudis and Israelis in the meddlesome political chess game! Apparently you are not! Saudis are most likely behind many terrorist attacks - an active promotion - read export of terrorism around the world!\n",
      "Name: comment_message, dtype: object\n"
     ]
    }
   ],
   "source": [
    "#what exactly are these facebook comments that are rated as negative? \n",
    "\n",
    "pd.set_option('display.max_colwidth', -1)\n",
    "\n",
    "s = df.loc[df['polarity_r'] == 'Negative']\n",
    "print s['comment_message']"
   ]
  },
  {
   "cell_type": "markdown",
   "metadata": {},
   "source": [
    "How would this compare against Twitter?"
   ]
  },
  {
   "cell_type": "code",
   "execution_count": 54,
   "metadata": {
    "collapsed": false
   },
   "outputs": [
    {
     "data": {
      "text/html": [
       "<div>\n",
       "<table border=\"1\" class=\"dataframe\">\n",
       "  <thead>\n",
       "    <tr style=\"text-align: right;\">\n",
       "      <th></th>\n",
       "      <th>Created-At</th>\n",
       "      <th>From-User</th>\n",
       "      <th>From-User-Id</th>\n",
       "      <th>To-User</th>\n",
       "      <th>To-User-Id</th>\n",
       "      <th>Language</th>\n",
       "      <th>Source</th>\n",
       "      <th>Text</th>\n",
       "      <th>Geo-Location-Latitude</th>\n",
       "      <th>Geo-Location-Longitude</th>\n",
       "      <th>Retweet-Count</th>\n",
       "      <th>Id</th>\n",
       "    </tr>\n",
       "  </thead>\n",
       "  <tbody>\n",
       "    <tr>\n",
       "      <th>17995</th>\n",
       "      <td>2017-05-17 06:00:32</td>\n",
       "      <td>Vivian Luk</td>\n",
       "      <td>7.278224e+07</td>\n",
       "      <td>NaN</td>\n",
       "      <td>-1.0</td>\n",
       "      <td>en</td>\n",
       "      <td>&lt;a href=\"http://twitter.com\" rel=\"nofollow\"&gt;Twitter Web Client&lt;/a&gt;</td>\n",
       "      <td>Comey Memo Says Trump Asked Him to End Flynn Investigation https://t.co/shxFDTHsz1</td>\n",
       "      <td>NaN</td>\n",
       "      <td>NaN</td>\n",
       "      <td>0.0</td>\n",
       "      <td>8.646015e+17</td>\n",
       "    </tr>\n",
       "    <tr>\n",
       "      <th>17996</th>\n",
       "      <td>2017-05-17 06:00:32</td>\n",
       "      <td>Adam Pash</td>\n",
       "      <td>6.485230e+05</td>\n",
       "      <td>NaN</td>\n",
       "      <td>-1.0</td>\n",
       "      <td>en</td>\n",
       "      <td>&lt;a href=\"http://twitter.com\" rel=\"nofollow\"&gt;Twitter Web Client&lt;/a&gt;</td>\n",
       "      <td>NYT: trump asked comey to back off flynn\\rWH: not true\\rTrump, tmrw: I did the pee tape</td>\n",
       "      <td>NaN</td>\n",
       "      <td>NaN</td>\n",
       "      <td>0.0</td>\n",
       "      <td>8.646015e+17</td>\n",
       "    </tr>\n",
       "    <tr>\n",
       "      <th>17997</th>\n",
       "      <td>2017-05-17 06:00:32</td>\n",
       "      <td>Rejean duBois</td>\n",
       "      <td>1.528585e+08</td>\n",
       "      <td>ANOMALY1</td>\n",
       "      <td>181249422.0</td>\n",
       "      <td>en</td>\n",
       "      <td>&lt;a href=\"http://twitter.com/#!/download/ipad\" rel=\"nofollow\"&gt;Twitter for iPad&lt;/a&gt;</td>\n",
       "      <td>@ANOMALY1 @YouTube We need to remember this video on Trump. We don't believe the left of @SenSchumer making stupid stories to hurt @POTUS</td>\n",
       "      <td>NaN</td>\n",
       "      <td>NaN</td>\n",
       "      <td>0.0</td>\n",
       "      <td>8.646015e+17</td>\n",
       "    </tr>\n",
       "    <tr>\n",
       "      <th>17998</th>\n",
       "      <td>2017-05-17 06:00:32</td>\n",
       "      <td>Darlene</td>\n",
       "      <td>7.816510e+17</td>\n",
       "      <td>foxnewspolitics</td>\n",
       "      <td>16032925.0</td>\n",
       "      <td>en</td>\n",
       "      <td>&lt;a href=\"http://twitter.com/download/iphone\" rel=\"nofollow\"&gt;Twitter for iPhone&lt;/a&gt;</td>\n",
       "      <td>@foxnewspolitics Wow just found out if President Trump and vice President Pence  are both impeached Hillary would b� https://t.co/y2uZe9nvOs</td>\n",
       "      <td>NaN</td>\n",
       "      <td>NaN</td>\n",
       "      <td>0.0</td>\n",
       "      <td>8.646015e+17</td>\n",
       "    </tr>\n",
       "    <tr>\n",
       "      <th>17999</th>\n",
       "      <td>2017-05-17 06:00:32</td>\n",
       "      <td>??Buda??</td>\n",
       "      <td>3.597220e+09</td>\n",
       "      <td>NaN</td>\n",
       "      <td>-1.0</td>\n",
       "      <td>en</td>\n",
       "      <td>&lt;a href=\"http://twitter.com\" rel=\"nofollow\"&gt;Twitter Web Client&lt;/a&gt;</td>\n",
       "      <td>Comey Memo Says Trump Asked Him to End Flynn Investigation https://t.co/USvdctVtsQ</td>\n",
       "      <td>NaN</td>\n",
       "      <td>NaN</td>\n",
       "      <td>0.0</td>\n",
       "      <td>8.646015e+17</td>\n",
       "    </tr>\n",
       "  </tbody>\n",
       "</table>\n",
       "</div>"
      ],
      "text/plain": [
       "                Created-At      From-User  From-User-Id          To-User  \\\n",
       "17995  2017-05-17 06:00:32  Vivian Luk     7.278224e+07  NaN               \n",
       "17996  2017-05-17 06:00:32  Adam Pash      6.485230e+05  NaN               \n",
       "17997  2017-05-17 06:00:32  Rejean duBois  1.528585e+08  ANOMALY1          \n",
       "17998  2017-05-17 06:00:32  Darlene        7.816510e+17  foxnewspolitics   \n",
       "17999  2017-05-17 06:00:32  ??Buda??       3.597220e+09  NaN               \n",
       "\n",
       "        To-User-Id Language  \\\n",
       "17995 -1.0          en        \n",
       "17996 -1.0          en        \n",
       "17997  181249422.0  en        \n",
       "17998  16032925.0   en        \n",
       "17999 -1.0          en        \n",
       "\n",
       "                                                                                   Source  \\\n",
       "17995  <a href=\"http://twitter.com\" rel=\"nofollow\">Twitter Web Client</a>                   \n",
       "17996  <a href=\"http://twitter.com\" rel=\"nofollow\">Twitter Web Client</a>                   \n",
       "17997  <a href=\"http://twitter.com/#!/download/ipad\" rel=\"nofollow\">Twitter for iPad</a>    \n",
       "17998  <a href=\"http://twitter.com/download/iphone\" rel=\"nofollow\">Twitter for iPhone</a>   \n",
       "17999  <a href=\"http://twitter.com\" rel=\"nofollow\">Twitter Web Client</a>                   \n",
       "\n",
       "                                                                                                                                               Text  \\\n",
       "17995  Comey Memo Says Trump Asked Him to End Flynn Investigation https://t.co/shxFDTHsz1                                                             \n",
       "17996  NYT: trump asked comey to back off flynn\\rWH: not true\\rTrump, tmrw: I did the pee tape                                                        \n",
       "17997  @ANOMALY1 @YouTube We need to remember this video on Trump. We don't believe the left of @SenSchumer making stupid stories to hurt @POTUS      \n",
       "17998  @foxnewspolitics Wow just found out if President Trump and vice President Pence  are both impeached Hillary would b� https://t.co/y2uZe9nvOs   \n",
       "17999  Comey Memo Says Trump Asked Him to End Flynn Investigation https://t.co/USvdctVtsQ                                                             \n",
       "\n",
       "       Geo-Location-Latitude  Geo-Location-Longitude  Retweet-Count  \\\n",
       "17995 NaN                    NaN                      0.0             \n",
       "17996 NaN                    NaN                      0.0             \n",
       "17997 NaN                    NaN                      0.0             \n",
       "17998 NaN                    NaN                      0.0             \n",
       "17999 NaN                    NaN                      0.0             \n",
       "\n",
       "                 Id  \n",
       "17995  8.646015e+17  \n",
       "17996  8.646015e+17  \n",
       "17997  8.646015e+17  \n",
       "17998  8.646015e+17  \n",
       "17999  8.646015e+17  "
      ]
     },
     "execution_count": 54,
     "metadata": {},
     "output_type": "execute_result"
    }
   ],
   "source": [
    "#let's load up some twitter data \n",
    "\n",
    "tweets = pd.read_csv('trump18000.csv')\n",
    "tweets.tail()"
   ]
  },
  {
   "cell_type": "code",
   "execution_count": 55,
   "metadata": {
    "collapsed": false
   },
   "outputs": [
    {
     "name": "stdout",
     "output_type": "stream",
     "text": [
      "(18000, 12)\n"
     ]
    }
   ],
   "source": [
    "print tweets.shape"
   ]
  },
  {
   "cell_type": "code",
   "execution_count": 58,
   "metadata": {
    "collapsed": false
   },
   "outputs": [
    {
     "name": "stdout",
     "output_type": "stream",
     "text": [
      "[ 0.   0.   0.  ..., -0.4  0.1  0. ]\n"
     ]
    }
   ],
   "source": [
    "import re\n",
    "import nltk\n",
    "from nltk.corpus import stopwords\n",
    "from nltk.stem.porter import PorterStemmer\n",
    "from textblob import TextBlob\n",
    "corpus1 = []\n",
    "for i in range(0, 18000):\n",
    "    review1 = re.sub(\"(@[A-Za-z0-9]+)|([^0-9A-Za-z \\t])|(\\w+:\\/\\/\\S+)\", \" \", tweets['Text'][i])\n",
    "    review1 = review1.lower()\n",
    "    review1 = review1.split()\n",
    "    ps = PorterStemmer()\n",
    "    review1 = [ps.stem(word) for word in review1 if not word in stopwords.words('english')]\n",
    "    review1 = ' '.join(review1)\n",
    "    blob = TextBlob(review1)\n",
    "    blob_s1 = blob.sentiment.polarity\n",
    "    corpus1.append(blob_s1)\n",
    "    \n",
    "corpus_sub = np.array(corpus1)\n",
    "print corpus_sub\n",
    "\n",
    "polarity = pd.DataFrame(corpus_sub)\n",
    "tweets['polarity'] = polarity"
   ]
  },
  {
   "cell_type": "code",
   "execution_count": 59,
   "metadata": {
    "collapsed": false
   },
   "outputs": [
    {
     "data": {
      "text/plain": [
       "17995    0.000\n",
       "17996    0.175\n",
       "17997   -0.400\n",
       "17998    0.100\n",
       "17999    0.000\n",
       "Name: polarity, dtype: float64"
      ]
     },
     "execution_count": 59,
     "metadata": {},
     "output_type": "execute_result"
    }
   ],
   "source": [
    "tweets['polarity'].tail()"
   ]
  },
  {
   "cell_type": "code",
   "execution_count": 60,
   "metadata": {
    "collapsed": false
   },
   "outputs": [
    {
     "name": "stdout",
     "output_type": "stream",
     "text": [
      "Neutral     14425\n",
      "Positive    1962 \n",
      "Negative    1613 \n",
      "Name: tweets_polarity, dtype: int64\n"
     ]
    }
   ],
   "source": [
    "def days_late_xform(dl):\n",
    "    if dl > 0.: return 'Positive'\n",
    "    elif -0.3 < dl <= 0.3: return 'Neutral'\n",
    "    elif dl <= -0.3: return 'Negative'\n",
    "    \n",
    "tweets['tweets_polarity'] = tweets['polarity'].map(days_late_xform)\n",
    "\n",
    "print tweets['tweets_polarity'].value_counts()"
   ]
  },
  {
   "cell_type": "code",
   "execution_count": 86,
   "metadata": {
    "collapsed": false
   },
   "outputs": [
    {
     "data": {
      "image/png": "[encoded data removed]",
      "text/plain": [
       "<matplotlib.figure.Figure at 0x11decc3d0>"
      ]
     },
     "metadata": {},
     "output_type": "display_data"
    }
   ],
   "source": [
    "plt.subplot(1, 2, 1)\n",
    "\n",
    "total1 = float(len(tweets)) # one person per row \n",
    "\n",
    "sns.set_style(\"darkgrid\")\n",
    "ax = sns.countplot(x=\"tweets_polarity\", data=tweets, order=['Neutral', 'Negative', 'Positive'])\n",
    "ax.set(xlabel='Rating', ylabel='Number of Comments')\n",
    "for p in ax.patches:\n",
    "    height1 = p.get_height()\n",
    "    ax.text(p.get_x()+p.get_width()/2.,\n",
    "            height1 + 3,\n",
    "            '{:1.1f}%'.format((height1/total1)*100),\n",
    "            ha=\"center\") \n",
    "sns.plt.title('Twitter')\n",
    "\n",
    "plt.subplot(1, 2, 2)\n",
    "\n",
    "sns.set_style(\"darkgrid\")\n",
    "total = float(len(df)) # one person per row \n",
    "\n",
    "ax = sns.countplot(x=\"fb_polarity\", data=df, order=['Neutral', 'Negative', 'Positive'])\n",
    "ax.set(xlabel='Rating', ylabel='Number of Comments')\n",
    "for p in ax.patches:\n",
    "    height = p.get_height()\n",
    "    ax.text(p.get_x()+p.get_width()/2.,\n",
    "            height + 3,\n",
    "            '{:1.1f}%'.format((height/total) * 100),\n",
    "            ha=\"center\") \n",
    "\n",
    "sns.plt.title('Facebook comments')\n",
    "\n",
    "\n",
    "plt.tight_layout()\n",
    "\n"
   ]
  },
  {
   "cell_type": "markdown",
   "metadata": {},
   "source": [
    "# Clustering Trump's facebook posts: \n",
    "\n",
    "What kind of facebook posts get the most reactions? Are they the ones that get the most comments too?\n"
   ]
  },
  {
   "cell_type": "code",
   "execution_count": null,
   "metadata": {
    "collapsed": false
   },
   "outputs": [],
   "source": [
    "df2 = pd.read_csv('DonaldTrump_facebook_statuses.csv')\n",
    "\n",
    "df2.head()"
   ]
  },
  {
   "cell_type": "code",
   "execution_count": null,
   "metadata": {
    "collapsed": false
   },
   "outputs": [],
   "source": [
    "feature_cols = ['num_reactions', 'num_comments']\n",
    "X = df2[feature_cols]"
   ]
  },
  {
   "cell_type": "code",
   "execution_count": null,
   "metadata": {
    "collapsed": false
   },
   "outputs": [],
   "source": [
    "from sklearn.preprocessing import StandardScaler\n",
    "sc_X = StandardScaler()\n",
    "X = sc_X.fit_transform(X)\n",
    "\n",
    "# Fitting K-Means to the dataset\n",
    "\n",
    "from sklearn.cluster import KMeans\n",
    "kmeans = KMeans(n_clusters = 3, init = 'k-means++', random_state = 42)\n",
    "km = kmeans.fit_predict(X)\n"
   ]
  },
  {
   "cell_type": "code",
   "execution_count": null,
   "metadata": {
    "collapsed": false
   },
   "outputs": [],
   "source": [
    "df2['cluster'] = kmeans.labels_\n",
    "df2 = df2.sort('cluster')\n",
    "print df2.groupby('cluster').std()\n",
    "\n",
    "\n"
   ]
  },
  {
   "cell_type": "code",
   "execution_count": null,
   "metadata": {
    "collapsed": false
   },
   "outputs": [],
   "source": [
    "# Using the elbow method to find the optimal number of clusters\n",
    "from sklearn.cluster import KMeans\n",
    "wcss = []\n",
    "for i in range(1, 11):\n",
    "    kmeans = KMeans(n_clusters = i, init = 'k-means++', random_state = 42)\n",
    "    kmeans.fit(X)\n",
    "    wcss.append(kmeans.inertia_)\n",
    "plt.plot(range(1, 11), wcss)\n",
    "plt.title('The Elbow Method')\n",
    "plt.xlabel('Number of clusters')\n",
    "plt.ylabel('WCSS')\n",
    "plt.show()\n"
   ]
  },
  {
   "cell_type": "code",
   "execution_count": null,
   "metadata": {
    "collapsed": false
   },
   "outputs": [],
   "source": [
    "centers = df2.groupby('cluster').mean()\n",
    "\n",
    "colors = np.array(['red', 'green', 'blue'])\n",
    "colors = pd.Series(colors)\n",
    "\n",
    "plt.scatter(df2.num_reactions, df2.num_comments, c=colors[df2.cluster], s=50)\n",
    "plt.xlabel('Reactions')\n",
    "plt.ylabel('Comments')\n",
    "\n",
    "# cluster centers, marked by \"+\"\n",
    "plt.scatter(centers.num_reactions, centers.num_comments, linewidths=3, marker='+', s=300, c='black')\n",
    "#plt.show()"
   ]
  },
  {
   "cell_type": "code",
   "execution_count": null,
   "metadata": {
    "collapsed": false
   },
   "outputs": [],
   "source": [
    "#comparatively low number of reactions, but high number of comments?\n",
    "\n",
    "\n",
    "pd.set_option('display.max_colwidth', -1)\n",
    "\n",
    "s = df2.loc[df2['cluster'] == 2]\n",
    "print s['status_message']"
   ]
  },
  {
   "cell_type": "code",
   "execution_count": null,
   "metadata": {
    "collapsed": true
   },
   "outputs": [],
   "source": []
  }
 ],
 "metadata": {
  "anaconda-cloud": {},
  "kernelspec": {
   "display_name": "Python [conda root]",
   "language": "python",
   "name": "conda-root-py"
  },
  "language_info": {
   "codemirror_mode": {
    "name": "ipython",
    "version": 2
   },
   "file_extension": ".py",
   "mimetype": "text/x-python",
   "name": "python",
   "nbconvert_exporter": "python",
   "pygments_lexer": "ipython2",
   "version": "2.7.12"
  }
 },
 "nbformat": 4,
 "nbformat_minor": 1
}
