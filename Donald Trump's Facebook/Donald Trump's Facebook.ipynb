{
 "cells": [
  {
   "cell_type": "code",
   "execution_count": 1,
   "metadata": {
    "collapsed": false
   },
   "outputs": [
    {
     "name": "stderr",
     "output_type": "stream",
     "text": [
      "//anaconda/lib/python2.7/site-packages/matplotlib/font_manager.py:273: UserWarning: Matplotlib is building the font cache using fc-list. This may take a moment.\n",
      "  warnings.warn('Matplotlib is building the font cache using fc-list. This may take a moment.')\n"
     ]
    },
    {
     "data": {
      "text/html": [
       "<div>\n",
       "<table border=\"1\" class=\"dataframe\">\n",
       "  <thead>\n",
       "    <tr style=\"text-align: right;\">\n",
       "      <th></th>\n",
       "      <th>comment_id</th>\n",
       "      <th>status_id</th>\n",
       "      <th>parent_id</th>\n",
       "      <th>comment_message</th>\n",
       "      <th>comment_author</th>\n",
       "      <th>comment_published</th>\n",
       "      <th>comment_likes</th>\n",
       "    </tr>\n",
       "  </thead>\n",
       "  <tbody>\n",
       "    <tr>\n",
       "      <th>0</th>\n",
       "      <td>10159167535600725_10159167536690725</td>\n",
       "      <td>153080620724_10159167535600725</td>\n",
       "      <td>NaN</td>\n",
       "      <td>\"I just fired the head of the FBI. He was craz...</td>\n",
       "      <td>William Peterson</td>\n",
       "      <td>20/5/17 9:32</td>\n",
       "      <td>56</td>\n",
       "    </tr>\n",
       "    <tr>\n",
       "      <th>1</th>\n",
       "      <td>10159167535600725_10159167539020725</td>\n",
       "      <td>153080620724_10159167535600725</td>\n",
       "      <td>10159167535600725_10159167536690725</td>\n",
       "      <td>Correct....Comey the nut job</td>\n",
       "      <td>CJ Ayers</td>\n",
       "      <td>20/5/17 9:33</td>\n",
       "      <td>18</td>\n",
       "    </tr>\n",
       "    <tr>\n",
       "      <th>2</th>\n",
       "      <td>10159167535600725_10159167541255725</td>\n",
       "      <td>153080620724_10159167535600725</td>\n",
       "      <td>10159167535600725_10159167536690725</td>\n",
       "      <td>Our wonderful President is awesome unlike Huss...</td>\n",
       "      <td>George White</td>\n",
       "      <td>20/5/17 9:33</td>\n",
       "      <td>14</td>\n",
       "    </tr>\n",
       "    <tr>\n",
       "      <th>3</th>\n",
       "      <td>10159167535600725_10159167543000725</td>\n",
       "      <td>153080620724_10159167535600725</td>\n",
       "      <td>10159167535600725_10159167536690725</td>\n",
       "      <td>Correct. I would add destroying evidence.</td>\n",
       "      <td>Ion Marian</td>\n",
       "      <td>20/5/17 9:34</td>\n",
       "      <td>3</td>\n",
       "    </tr>\n",
       "    <tr>\n",
       "      <th>4</th>\n",
       "      <td>10159167535600725_10159167544205725</td>\n",
       "      <td>153080620724_10159167535600725</td>\n",
       "      <td>10159167535600725_10159167536690725</td>\n",
       "      <td>#maga</td>\n",
       "      <td>April Thomas Kimbrell</td>\n",
       "      <td>20/5/17 9:34</td>\n",
       "      <td>7</td>\n",
       "    </tr>\n",
       "  </tbody>\n",
       "</table>\n",
       "</div>"
      ],
      "text/plain": [
       "                            comment_id                       status_id  \\\n",
       "0  10159167535600725_10159167536690725  153080620724_10159167535600725   \n",
       "1  10159167535600725_10159167539020725  153080620724_10159167535600725   \n",
       "2  10159167535600725_10159167541255725  153080620724_10159167535600725   \n",
       "3  10159167535600725_10159167543000725  153080620724_10159167535600725   \n",
       "4  10159167535600725_10159167544205725  153080620724_10159167535600725   \n",
       "\n",
       "                             parent_id  \\\n",
       "0                                  NaN   \n",
       "1  10159167535600725_10159167536690725   \n",
       "2  10159167535600725_10159167536690725   \n",
       "3  10159167535600725_10159167536690725   \n",
       "4  10159167535600725_10159167536690725   \n",
       "\n",
       "                                     comment_message         comment_author  \\\n",
       "0  \"I just fired the head of the FBI. He was craz...       William Peterson   \n",
       "1                       Correct....Comey the nut job               CJ Ayers   \n",
       "2  Our wonderful President is awesome unlike Huss...           George White   \n",
       "3          Correct. I would add destroying evidence.             Ion Marian   \n",
       "4                                              #maga  April Thomas Kimbrell   \n",
       "\n",
       "  comment_published  comment_likes  \n",
       "0      20/5/17 9:32             56  \n",
       "1      20/5/17 9:33             18  \n",
       "2      20/5/17 9:33             14  \n",
       "3      20/5/17 9:34              3  \n",
       "4      20/5/17 9:34              7  "
      ]
     },
     "execution_count": 1,
     "metadata": {},
     "output_type": "execute_result"
    }
   ],
   "source": [
    "import pandas as pd\n",
    "import numpy as np \n",
    "import matplotlib.pyplot as plt\n",
    "%matplotlib inline\n",
    "\n",
    "df = pd.read_csv('DonaldTrump_facebook_comments1.csv')\n",
    "df.head()"
   ]
  },
  {
   "cell_type": "code",
   "execution_count": 2,
   "metadata": {
    "collapsed": false
   },
   "outputs": [
    {
     "data": {
      "text/plain": [
       "(4247, 7)"
      ]
     },
     "execution_count": 2,
     "metadata": {},
     "output_type": "execute_result"
    }
   ],
   "source": [
    "df.shape"
   ]
  },
  {
   "cell_type": "code",
   "execution_count": 3,
   "metadata": {
    "collapsed": false
   },
   "outputs": [],
   "source": [
    "#creating polarity variable \n",
    "\n",
    "import re\n",
    "import nltk\n",
    "from nltk.corpus import stopwords\n",
    "from nltk.stem.porter import PorterStemmer\n",
    "from textblob import TextBlob\n",
    "corpus = []\n",
    "for i in range(0, 4247):\n",
    "    review = re.sub(\"(@[A-Za-z0-9]+)|([^0-9A-Za-z \\t])|(\\w+:\\/\\/\\S+)\", \" \", df['comment_message'][i])\n",
    "    review = review.lower()\n",
    "    review = review.split()\n",
    "    ps = PorterStemmer()\n",
    "    review = [ps.stem(word) for word in review if not word in stopwords.words('english')]\n",
    "    review = ' '.join(review)\n",
    "    blob = TextBlob(review)\n",
    "    blob_s = blob.sentiment.polarity\n",
    "    corpus.append(blob_s)\n",
    "    \n",
    "corpus_sub = np.array(corpus)\n",
    "\n",
    "polarity = pd.DataFrame(corpus_sub)\n",
    "\n",
    "df['polarity'] = polarity\n"
   ]
  },
  {
   "cell_type": "code",
   "execution_count": 11,
   "metadata": {
    "collapsed": false
   },
   "outputs": [],
   "source": [
    "#creating polarity variable \n",
    "\n",
    "corpus = []\n",
    "for i in range(0, 4247):\n",
    "    review = re.sub(\"(@[A-Za-z0-9]+)|([^0-9A-Za-z \\t])|(\\w+:\\/\\/\\S+)\", \" \", df['comment_message'][i])\n",
    "    review = review.lower()\n",
    "    review = review.split()\n",
    "    ps = PorterStemmer()\n",
    "    review = [ps.stem(word) for word in review if not word in stopwords.words('english')]\n",
    "    review = ' '.join(review)\n",
    "    blob = TextBlob(review)\n",
    "    blob_s1 = blob.sentiment.subjectivity\n",
    "    corpus.append(blob_s1)\n",
    "    \n",
    "corpus_sub1 = np.array(corpus)\n",
    "\n",
    "subjectivity = pd.DataFrame(corpus_sub1)\n",
    "\n",
    "df['subjectivity'] = subjectivity\n",
    "\n"
   ]
  },
  {
   "cell_type": "code",
   "execution_count": 12,
   "metadata": {
    "collapsed": false
   },
   "outputs": [
    {
     "name": "stdout",
     "output_type": "stream",
     "text": [
      "Neutral     3082\n",
      "Positive     839\n",
      "Negative     326\n",
      "Name: polarity_r, dtype: int64\n"
     ]
    }
   ],
   "source": [
    "#recoding polarity into 3 categories  \n",
    "\n",
    "def days_late_xform(dl):\n",
    "    if dl > 0.3: return 'Positive'\n",
    "    elif -0.3 < dl <= 0.3: return 'Neutral'\n",
    "    elif dl <= -0.3: return 'Negative'\n",
    "    \n",
    "df['polarity_r'] = df['polarity'].map(days_late_xform)\n",
    "\n",
    "\n",
    "print df.polarity_r.value_counts()"
   ]
  },
  {
   "cell_type": "code",
   "execution_count": 14,
   "metadata": {
    "collapsed": false
   },
   "outputs": [
    {
     "name": "stdout",
     "output_type": "stream",
     "text": [
      "Negative    2991\n",
      "Positive    1256\n",
      "Name: subjectivity_r, dtype: int64\n"
     ]
    }
   ],
   "source": [
    "#recoding subjectivity into 3 categories  \n",
    "\n",
    "def days_late_xform1(dl):\n",
    "    if dl > 0.5: return 'Positive'\n",
    "    elif dl <= 0.5: return 'Negative'\n",
    "    \n",
    "df['subjectivity_r'] = df['subjectivity'].map(days_late_xform1)\n",
    "\n",
    "\n",
    "print df.subjectivity_r.value_counts()"
   ]
  },
  {
   "cell_type": "code",
   "execution_count": 15,
   "metadata": {
    "collapsed": false
   },
   "outputs": [
    {
     "name": "stdout",
     "output_type": "stream",
     "text": [
      "11      Where's the proof idiot                                                                                                                                                                                                                                                                     \n",
      "13      Childish insults from Trumpsters...just like their Orange hero.....sad but predictable.\\n\\nhttps://www.nytimes.com/interactive/2016/01/28/upshot/donald-trump-twitter-insults.html?_r=0                                                                                                     \n",
      "18      Comey said it never happened on May 3. Why did he change his mind by the 8th and think real hard.                                                                                                                                                                                           \n",
      "37      Look at the people who hate on Trump...they are literally mentally ill. They run with those who normalize grown men identifying as little girls and support born men setting world records in women's weight lifting events.                                                                \n",
      "42      So you were a fly on the wall in the Oval Office and heard this said? More fake news.                                                                                                                                                                                                       \n",
      "50      William Peterson what's the point of this comparison quote? The MSM hates trump, something tells me he's not gonna be suppressing them anytime soon...pretty dumb point there...                                                                                                            \n",
      "59      Craig Woodcock MSM and most of the country and world hate Trump.                                                                                                                                                                                                                            \n",
      "84      Seriously?                                                                                                                                                                                                                                                                                  \n",
      "85      FAKE NEWS!!!!!                                                                                                                                                                                                                                                                              \n",
      "95      I'm not interested in debating.  Sharing factual information is more beneficial.  I've found that debating Trump supporters just leads to being called names (libtard, moron, etc.)                                                                                                         \n",
      "100     comey has already said no Obstruction of Justice you are fake news                                                                                                                                                                                                                          \n",
      "119     fake profile                                                                                                                                                                                                                                                                                \n",
      "121     You know there are more than 1 political party that hates trump, don't offend them by calling them a liberal                                                                                                                                                                                \n",
      "126     Look at the people who hate on Trump...they are literally mentally ill. They run with those who normalize grown men identifying as little girls and support born men setting world records in women's weight lifting events.                                                                \n",
      "146     Putin is sending over his least senior KGB agent to run the oval office while the Dumpf is away.                                                                                                                                                                                            \n",
      "152     I am not a liberal.\\nDt is the White Trash Messiah.\\nYou will be making the same ignorant statements after his impeachment.\\nBillionaire con man draft dodger.\\nThe master of idiots.                                                                                                       \n",
      "158     Don't you mean Maggots?                                                                                                                                                                                                                                                                     \n",
      "164     Mike Bloom yes you did you are a complete idiot and following a criminal and a Russian traitor                                                                                                                                                                                              \n",
      "170     Robert Carlston You are so wrong!                                                                                                                                                                                                                                                           \n",
      "179     Exactly. They celebrate their hate each n everyday!!                                                                                                                                                                                                                                        \n",
      "206     Idiot ^^                                                                                                                                                                                                                                                                                    \n",
      "213     Idiot.                                                                                                                                                                                                                                                                                      \n",
      "226     Very sick liberal                                                                                                                                                                                                                                                                           \n",
      "227     Your what's bad about democrats, Alan.                                                                                                                                                                                                                                                      \n",
      "229     Wow total idiotic childish evil moron! Butt hurt loser!!                                                                                                                                                                                                                                    \n",
      "232     Alan Rogers..Too funny.The conductor is not qualified.Just a corrupt, delusional, IDIOT.                                                                                                                                                                                                    \n",
      "233     That is soooo correct and hilarious. ...you made them mad!                                                                                                                                                                                                                                  \n",
      "238     BREAKING NEWS: Alan just read all the replies to his idiotic comment and realizes that he is a douche!!                                                                                                                                                                                     \n",
      "243     Alan you're sick, and you definitely look like a creepy pedofile!!!_�։_�։_�։_�։_�։_�։                                                                                                                                                                                                       \n",
      "254     Trump looks like a rockstar and you can't handle it.  Please continue to look like an idiot.                                                                                                                                                                                                \n",
      "                                                    ...                                                                                                                                                                                                                                             \n",
      "3459    Stefanie Werner Whatever.. believe your fake news                                                                                                                                                                                                                                           \n",
      "3460    Stefanie Werner at least President Trump isn't bowing in obeisance!                                                                                                                                                                                                                         \n",
      "3496    Haters will hate,,, ignore them                                                                                                                                                                                                                                                             \n",
      "3545    See if you can blow up a couple of their buildings n kill few thousand of them scum bags while your there sir                                                                                                                                                                               \n",
      "3548    At least you won't see Trump, BOWING TO THESE GUYS.....                                                                                                                                                                                                                                     \n",
      "3578    HEY ALL - if you see any of these idiot trump haters just block them-if we all block them they won't be able to spew their crap on our posts- \\n#blockthehaters                                                                                                                             \n",
      "3590    They didn't find 9/11 because Trump never said they funded 9/11 which means they didn't find 9/11. If they did fund 9/11 do you really think Trump would go to their country? No he wouldn't                                                                                                \n",
      "3601    Yeah!!! Who cares about dumb stuff like facts and evidence! No ones got time for that! MAGA!!                                                                                                                                                                                               \n",
      "3618    It's about time.  It's about time that our leaders are not afraid to not bow, to not parade differently than we a r e, US citizens.  Go Mr President ! We have your back.                                                                                                                   \n",
      "3634    They subsidize terrorism.....stop all contact with those jackasses!                                                                                                                                                                                                                         \n",
      "3637    But Saudi Arabia kinda worse... we deserve hate from Iran and they have good cause to hate us. Not so much with SA they just evil                                                                                                                                                           \n",
      "3644    Marianne Zimmerman  so why block people from Muslim countries that didn't do anything?  Using your logic that was stupid and could cause war or tourist attacks.                                                                                                                            \n",
      "3717    I know it's not an alt fact spoon-fed to you by Donny's tweets. It's just the truth Jim Hesch.\\nAmerica needs help. We have a Draft-dodging idiot out to milk everyday Americans out of their hard-earned money.\\nJust the facts Jim _�֊                                                    \n",
      "3741    Cheryl Caesar Perhaps you missed all the fanfare for our President today. Guess you couldn't be bothered to look at the photos on this post. But you are going to believe the opinion of a liberal journalist? Hmmm. There's something wrong with your pussy hat. I think it's too tight.   \n",
      "3743    I hope someone shoots that idiot in the face while he is there!                                                                                                                                                                                                                             \n",
      "3745    some one wants a visit from the fbi and secret service                                                                                                                                                                                                                                      \n",
      "3755    Joe Delgado you poor dummy. It's all coming undone. The soon to be ex-President will go about his affairs after he resigns and you all will be left with a bad Trump taste in your mouth.                                                                                                   \n",
      "3762    You are a blooming idiot as far as I can tell.                                                                                                                                                                                                                                              \n",
      "3773    you and the saudi are stupid dead and killed                                                                                                                                                                                                                                                \n",
      "3797    Michael Anderson Did he say it is the wrong thing to do now?                                                                                                                                                                                                                                \n",
      "3799    And as usual , the  Media here is USA will show very little of a Real President , all you see on the tube is fake backlash from wash post ad, and more of the idiot Comey  who could not make up his mind who's lie to tell his own or Hillary's.                                           \n",
      "3818    Already found 2 disrespectful little shits ^ Joanna and Scott.\\nRespect is both a given, AND earned, depending on your position.\\nTrump is OUR president. Wishing him to fail is to wish the USA will fail. \\nShow some respect.                                                            \n",
      "3855    I thought you didn't support ISIS or anyone who was affiliated with them. I voted for you and you proved me wrong                                                                                                                                                                           \n",
      "3984    I'm wondering who the woman is behind the king and the President????                                                                                                                                                                                                                        \n",
      "4019    We need to stop dealing with these barbarians.                                                                                                                                                                                                                                              \n",
      "4056    Congratulations Trump... you just became another puppet to the demons in Saudi Arabia. Idiot. I voted for you to make a real change not continue the status quo.                                                                                                                            \n",
      "4106    You are now on an official visit to the source of the terrorists in the world ... And you claim that you are fighting terrorism ... Who fools other than your stupid people ...                                                                                                             \n",
      "4112    You forgot to walk next to your wife again. Don't worry, the saudis don't care. They hate women! MAGA                                                                                                                                                                                       \n",
      "4121    seek help before it is too late                                                                                                                                                                                                                                                             \n",
      "4243    Another mindless person! \\nI strongly support Trump but I'm aware of the role of Saudis and Israelis in the meddlesome political chess game! Apparently you are not! Saudis are most likely behind many terrorist attacks - an active promotion - read export of terrorism around the world!\n",
      "Name: comment_message, dtype: object\n"
     ]
    }
   ],
   "source": [
    "#what tweets are negative? \n",
    "\n",
    "pd.set_option('display.max_colwidth', -1)\n",
    "\n",
    "s = df.loc[df['polarity_r'] == 'Negative']\n",
    "print s['comment_message']"
   ]
  },
  {
   "cell_type": "markdown",
   "metadata": {},
   "source": [
    "Clustering Trump's facebook posts: \n",
    "- What kind of facebook posts get the most reactions? Are they the ones that get the most comments too?\n"
   ]
  },
  {
   "cell_type": "code",
   "execution_count": 42,
   "metadata": {
    "collapsed": false
   },
   "outputs": [
    {
     "data": {
      "text/html": [
       "<div>\n",
       "<table border=\"1\" class=\"dataframe\">\n",
       "  <thead>\n",
       "    <tr style=\"text-align: right;\">\n",
       "      <th></th>\n",
       "      <th>status_id</th>\n",
       "      <th>status_message</th>\n",
       "      <th>link_name</th>\n",
       "      <th>status_type</th>\n",
       "      <th>status_link</th>\n",
       "      <th>permalink_url</th>\n",
       "      <th>status_published</th>\n",
       "      <th>num_reactions</th>\n",
       "      <th>num_comments</th>\n",
       "      <th>num_shares</th>\n",
       "      <th>num_likes</th>\n",
       "      <th>num_loves</th>\n",
       "      <th>num_wows</th>\n",
       "      <th>num_hahas</th>\n",
       "      <th>num_sads</th>\n",
       "      <th>num_angrys</th>\n",
       "    </tr>\n",
       "  </thead>\n",
       "  <tbody>\n",
       "    <tr>\n",
       "      <th>0</th>\n",
       "      <td>153080620724_10159167535600725</td>\n",
       "      <td>Incredible welcome to Riyadh, Saudi Arabia. Great day and looking forward to the evening ahead.</td>\n",
       "      <td>Photos from Donald J. Trump's post</td>\n",
       "      <td>photo</td>\n",
       "      <td>https://www.facebook.com/DonaldTrump/photos/a.488852220724.393301.153080620724/10159167522005725/?type=3</td>\n",
       "      <td>https://www.facebook.com/DonaldTrump/posts/10159167535600725</td>\n",
       "      <td>20/5/17 9:32</td>\n",
       "      <td>62535</td>\n",
       "      <td>4304</td>\n",
       "      <td>4010</td>\n",
       "      <td>56005</td>\n",
       "      <td>5220</td>\n",
       "      <td>359</td>\n",
       "      <td>749</td>\n",
       "      <td>30</td>\n",
       "      <td>174</td>\n",
       "    </tr>\n",
       "    <tr>\n",
       "      <th>1</th>\n",
       "      <td>153080620724_10159164014460725</td>\n",
       "      <td>President Donald J. Trump's schedule for Saturday, May 20th (beginning 10AM AST/3AM EST):\\nPresident Trump and First Lady Melania Trump arrive in Riyadh, Saudi Arabia                       \\nRoyal Court Official Arrival Ceremony\\nCoffee Ceremony and Presentation of the Collar of Abdulaziz Al Saud Medal\\nRoyal Banquet Luncheon\\nUnited States ��� Saudi Arabia bilateral meeting\\nSigning Ceremony\\nBilateral meeting with the Crown Prince of Saudi Arabia\\nBilateral meeting with the Deputy Crown Prince of Saudi Arabia\\nArrive at Murabba Palace and participate in the Welcome Ceremony\\nReception with King Salman and members of the United States and Saudi delegations\\nRoyal Banquet Dinner\\nNational Museum Tour</td>\n",
       "      <td>NaN</td>\n",
       "      <td>status</td>\n",
       "      <td>NaN</td>\n",
       "      <td>https://www.facebook.com/DonaldTrump/posts/10159164014460725</td>\n",
       "      <td>19/5/17 19:00</td>\n",
       "      <td>24298</td>\n",
       "      <td>4130</td>\n",
       "      <td>1400</td>\n",
       "      <td>21340</td>\n",
       "      <td>2353</td>\n",
       "      <td>161</td>\n",
       "      <td>349</td>\n",
       "      <td>17</td>\n",
       "      <td>78</td>\n",
       "    </tr>\n",
       "    <tr>\n",
       "      <th>2</th>\n",
       "      <td>153080620724_10159164604675725</td>\n",
       "      <td>Very exciting trip ahead -- going to show the world that America is back!</td>\n",
       "      <td>Timeline Photos</td>\n",
       "      <td>photo</td>\n",
       "      <td>https://www.facebook.com/DonaldTrump/photos/a.488852220724.393301.153080620724/10159164604675725/?type=3</td>\n",
       "      <td>https://www.facebook.com/DonaldTrump/posts/10159164604675725:0</td>\n",
       "      <td>19/5/17 17:12</td>\n",
       "      <td>76843</td>\n",
       "      <td>8316</td>\n",
       "      <td>3606</td>\n",
       "      <td>66573</td>\n",
       "      <td>8298</td>\n",
       "      <td>240</td>\n",
       "      <td>1541</td>\n",
       "      <td>37</td>\n",
       "      <td>154</td>\n",
       "    </tr>\n",
       "    <tr>\n",
       "      <th>3</th>\n",
       "      <td>153080620724_10159163952740725</td>\n",
       "      <td>This weekend I begin my first trip overseas as president ��� a trip with historic significance for the American people...</td>\n",
       "      <td>The White House</td>\n",
       "      <td>video</td>\n",
       "      <td>https://www.facebook.com/WhiteHouse/videos/1316808265073570/</td>\n",
       "      <td>https://www.facebook.com/DonaldTrump/posts/10159163952740725</td>\n",
       "      <td>19/5/17 14:47</td>\n",
       "      <td>74556</td>\n",
       "      <td>9124</td>\n",
       "      <td>5</td>\n",
       "      <td>63691</td>\n",
       "      <td>9415</td>\n",
       "      <td>143</td>\n",
       "      <td>1075</td>\n",
       "      <td>42</td>\n",
       "      <td>190</td>\n",
       "    </tr>\n",
       "    <tr>\n",
       "      <th>4</th>\n",
       "      <td>153080620724_10159163445280725</td>\n",
       "      <td>Great news! 'ICE Arrests Under Trump Jump 40% as Border Crossings Drop' fxn.ws/2qXuwAH</td>\n",
       "      <td>Timeline Photos</td>\n",
       "      <td>photo</td>\n",
       "      <td>https://www.facebook.com/DonaldTrump/photos/a.488852220724.393301.153080620724/10159163445280725/?type=3</td>\n",
       "      <td>https://www.facebook.com/DonaldTrump/posts/10159163445280725:0</td>\n",
       "      <td>19/5/17 12:56</td>\n",
       "      <td>49275</td>\n",
       "      <td>3961</td>\n",
       "      <td>6061</td>\n",
       "      <td>42425</td>\n",
       "      <td>5815</td>\n",
       "      <td>269</td>\n",
       "      <td>535</td>\n",
       "      <td>39</td>\n",
       "      <td>192</td>\n",
       "    </tr>\n",
       "  </tbody>\n",
       "</table>\n",
       "</div>"
      ],
      "text/plain": [
       "                        status_id  \\\n",
       "0  153080620724_10159167535600725   \n",
       "1  153080620724_10159164014460725   \n",
       "2  153080620724_10159164604675725   \n",
       "3  153080620724_10159163952740725   \n",
       "4  153080620724_10159163445280725   \n",
       "\n",
       "                                                                                                                                                                                                                                                                                                                                                                                                                                                                                                                                                                                                                                                                                                                          status_message  \\\n",
       "0  Incredible welcome to Riyadh, Saudi Arabia. Great day and looking forward to the evening ahead.                                                                                                                                                                                                                                                                                                                                                                                                                                                                                                                                                                                                                                         \n",
       "1  President Donald J. Trump's schedule for Saturday, May 20th (beginning 10AM AST/3AM EST):\\nPresident Trump and First Lady Melania Trump arrive in Riyadh, Saudi Arabia                       \\nRoyal Court Official Arrival Ceremony\\nCoffee Ceremony and Presentation of the Collar of Abdulaziz Al Saud Medal\\nRoyal Banquet Luncheon\\nUnited States ��� Saudi Arabia bilateral meeting\\nSigning Ceremony\\nBilateral meeting with the Crown Prince of Saudi Arabia\\nBilateral meeting with the Deputy Crown Prince of Saudi Arabia\\nArrive at Murabba Palace and participate in the Welcome Ceremony\\nReception with King Salman and members of the United States and Saudi delegations\\nRoyal Banquet Dinner\\nNational Museum Tour   \n",
       "2  Very exciting trip ahead -- going to show the world that America is back!                                                                                                                                                                                                                                                                                                                                                                                                                                                                                                                                                                                                                                                               \n",
       "3  This weekend I begin my first trip overseas as president ��� a trip with historic significance for the American people...                                                                                                                                                                                                                                                                                                                                                                                                                                                                                                                                                                                                               \n",
       "4  Great news! 'ICE Arrests Under Trump Jump 40% as Border Crossings Drop' fxn.ws/2qXuwAH                                                                                                                                                                                                                                                                                                                                                                                                                                                                                                                                                                                                                                                  \n",
       "\n",
       "                            link_name status_type  \\\n",
       "0  Photos from Donald J. Trump's post  photo        \n",
       "1  NaN                                 status       \n",
       "2  Timeline Photos                     photo        \n",
       "3  The White House                     video        \n",
       "4  Timeline Photos                     photo        \n",
       "\n",
       "                                                                                                status_link  \\\n",
       "0  https://www.facebook.com/DonaldTrump/photos/a.488852220724.393301.153080620724/10159167522005725/?type=3   \n",
       "1  NaN                                                                                                        \n",
       "2  https://www.facebook.com/DonaldTrump/photos/a.488852220724.393301.153080620724/10159164604675725/?type=3   \n",
       "3  https://www.facebook.com/WhiteHouse/videos/1316808265073570/                                               \n",
       "4  https://www.facebook.com/DonaldTrump/photos/a.488852220724.393301.153080620724/10159163445280725/?type=3   \n",
       "\n",
       "                                                    permalink_url  \\\n",
       "0  https://www.facebook.com/DonaldTrump/posts/10159167535600725     \n",
       "1  https://www.facebook.com/DonaldTrump/posts/10159164014460725     \n",
       "2  https://www.facebook.com/DonaldTrump/posts/10159164604675725:0   \n",
       "3  https://www.facebook.com/DonaldTrump/posts/10159163952740725     \n",
       "4  https://www.facebook.com/DonaldTrump/posts/10159163445280725:0   \n",
       "\n",
       "  status_published  num_reactions  num_comments  num_shares  num_likes  \\\n",
       "0  20/5/17 9:32     62535          4304          4010        56005       \n",
       "1  19/5/17 19:00    24298          4130          1400        21340       \n",
       "2  19/5/17 17:12    76843          8316          3606        66573       \n",
       "3  19/5/17 14:47    74556          9124          5           63691       \n",
       "4  19/5/17 12:56    49275          3961          6061        42425       \n",
       "\n",
       "   num_loves  num_wows  num_hahas  num_sads  num_angrys  \n",
       "0  5220       359       749        30        174         \n",
       "1  2353       161       349        17        78          \n",
       "2  8298       240       1541       37        154         \n",
       "3  9415       143       1075       42        190         \n",
       "4  5815       269       535        39        192         "
      ]
     },
     "execution_count": 42,
     "metadata": {},
     "output_type": "execute_result"
    }
   ],
   "source": [
    "df2 = pd.read_csv('DonaldTrump_facebook_statuses.csv')\n",
    "\n",
    "df2.head()"
   ]
  },
  {
   "cell_type": "code",
   "execution_count": 43,
   "metadata": {
    "collapsed": false
   },
   "outputs": [],
   "source": [
    "feature_cols = ['num_reactions', 'num_comments']\n",
    "X = df2[feature_cols]"
   ]
  },
  {
   "cell_type": "code",
   "execution_count": 44,
   "metadata": {
    "collapsed": false
   },
   "outputs": [],
   "source": [
    "from sklearn.preprocessing import StandardScaler\n",
    "sc_X = StandardScaler()\n",
    "X = sc_X.fit_transform(X)\n",
    "\n",
    "# Fitting K-Means to the dataset\n",
    "\n",
    "from sklearn.cluster import KMeans\n",
    "kmeans = KMeans(n_clusters = 3, init = 'k-means++', random_state = 42)\n",
    "km = kmeans.fit_predict(X)\n"
   ]
  },
  {
   "cell_type": "code",
   "execution_count": 45,
   "metadata": {
    "collapsed": false
   },
   "outputs": [
    {
     "name": "stdout",
     "output_type": "stream",
     "text": [
      "         num_reactions  num_comments    num_shares     num_likes  \\\n",
      "cluster                                                            \n",
      "0        136170.660665  12281.410261  26875.955927  123445.91327   \n",
      "1        49462.652567   3379.744517   5589.806973   44531.22838    \n",
      "2        46148.092983   39312.235602  9259.018252   26690.79405    \n",
      "\n",
      "            num_loves     num_wows    num_hahas     num_sads   num_angrys  \n",
      "cluster                                                                    \n",
      "0        16732.138746  1568.216822  5269.073163  6971.423814  7985.546193  \n",
      "1        4480.672941   685.868792   1925.802949  1444.185584  1828.706920  \n",
      "2        13633.469478  723.758247   1917.886858  479.717625   3846.871716  \n"
     ]
    },
    {
     "name": "stderr",
     "output_type": "stream",
     "text": [
      "/anaconda/lib/python2.7/site-packages/ipykernel/__main__.py:2: FutureWarning: sort(columns=....) is deprecated, use sort_values(by=.....)\n",
      "  from ipykernel import kernelapp as app\n"
     ]
    }
   ],
   "source": [
    "df2['cluster'] = kmeans.labels_\n",
    "df2 = df2.sort('cluster')\n",
    "print df2.groupby('cluster').std()\n",
    "\n",
    "\n"
   ]
  },
  {
   "cell_type": "code",
   "execution_count": 39,
   "metadata": {
    "collapsed": false
   },
   "outputs": [
    {
     "data": {
      "image/png": "[encoded data removed]",
      "text/plain": [
       "<matplotlib.figure.Figure at 0x1198ef9d0>"
      ]
     },
     "metadata": {},
     "output_type": "display_data"
    }
   ],
   "source": [
    "# Using the elbow method to find the optimal number of clusters\n",
    "from sklearn.cluster import KMeans\n",
    "wcss = []\n",
    "for i in range(1, 11):\n",
    "    kmeans = KMeans(n_clusters = i, init = 'k-means++', random_state = 42)\n",
    "    kmeans.fit(X)\n",
    "    wcss.append(kmeans.inertia_)\n",
    "plt.plot(range(1, 11), wcss)\n",
    "plt.title('The Elbow Method')\n",
    "plt.xlabel('Number of clusters')\n",
    "plt.ylabel('WCSS')\n",
    "plt.show()\n"
   ]
  },
  {
   "cell_type": "code",
   "execution_count": 40,
   "metadata": {
    "collapsed": false
   },
   "outputs": [
    {
     "data": {
      "image/png": "[encoded data removed]",
      "text/plain": [
       "<matplotlib.figure.Figure at 0x1197b3050>"
      ]
     },
     "metadata": {},
     "output_type": "display_data"
    }
   ],
   "source": [
    "centers = df2.groupby('cluster').mean()\n",
    "\n",
    "colors = np.array(['red', 'green', 'blue'])\n",
    "colors = pd.Series(colors)\n",
    "\n",
    "plt.scatter(df2.num_reactions, df2.num_comments, c=colors[df2.cluster], s=50)\n",
    "plt.xlabel('Reactions')\n",
    "plt.ylabel('Comments')\n",
    "\n",
    "# cluster centers, marked by \"+\"\n",
    "plt.scatter(centers.num_reactions, centers.num_comments, linewidths=3, marker='+', s=300, c='black')\n",
    "#plt.show()"
   ]
  },
  {
   "cell_type": "code",
   "execution_count": 46,
   "metadata": {
    "collapsed": false
   },
   "outputs": [
    {
     "name": "stdout",
     "output_type": "stream",
     "text": [
      "872    Join me LIVE in Fayetteville, North Carolina!                                                              \n",
      "901    Join me LIVE in Cincinnati, Ohio!                                                                          \n",
      "698    Join me LIVE from Trump Tower!                                                                             \n",
      "848    Join me LIVE in Grand Rapids, Michigan!                                                                    \n",
      "850    Join me live in Louisiana! Tomorrow, we need you to go to the polls & send John Kennedy to the U.S. Senate.\n",
      "809    Join me LIVE in Orlando, Florida!                                                                          \n",
      "826    Join me LIVE in West Allis, Wisconsin!                                                                     \n",
      "804    Join me LIVE in Mobile, Alabama for my final 2016 THANK YOU TOUR rally!                                    \n",
      "855    Join me LIVE in Des Moines, Iowa!                                                                          \n",
      "295    WATCH LIVE - President Donald J. Trump's rally in Nashville, TN.                                           \n",
      "86     WATCH LIVE - President Donald J. Trump's rally in HARRISBURG, PA.                                          \n",
      "Name: status_message, dtype: object\n"
     ]
    }
   ],
   "source": [
    "#comparatively low number of reactions, but high number of comments?\n",
    "\n",
    "\n",
    "pd.set_option('display.max_colwidth', -1)\n",
    "\n",
    "s = df2.loc[df2['cluster'] == 2]\n",
    "print s['status_message']"
   ]
  },
  {
   "cell_type": "code",
   "execution_count": null,
   "metadata": {
    "collapsed": true
   },
   "outputs": [],
   "source": []
  }
 ],
 "metadata": {
  "anaconda-cloud": {},
  "kernelspec": {
   "display_name": "Python [conda root]",
   "language": "python",
   "name": "conda-root-py"
  },
  "language_info": {
   "codemirror_mode": {
    "name": "ipython",
    "version": 2
   },
   "file_extension": ".py",
   "mimetype": "text/x-python",
   "name": "python",
   "nbconvert_exporter": "python",
   "pygments_lexer": "ipython2",
   "version": "2.7.12"
  }
 },
 "nbformat": 4,
 "nbformat_minor": 1
}
