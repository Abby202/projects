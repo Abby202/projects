{
 "cells": [
  {
   "cell_type": "code",
   "execution_count": 168,
   "metadata": {
    "collapsed": true
   },
   "outputs": [],
   "source": [
    "import pandas as pd \n",
    "import numpy as np "
   ]
  },
  {
   "cell_type": "code",
   "execution_count": 169,
   "metadata": {
    "collapsed": false
   },
   "outputs": [
    {
     "data": {
      "text/html": [
       "<div>\n",
       "<table border=\"1\" class=\"dataframe\">\n",
       "  <thead>\n",
       "    <tr style=\"text-align: right;\">\n",
       "      <th></th>\n",
       "      <th>id</th>\n",
       "      <th>amount_tsh</th>\n",
       "      <th>date_recorded</th>\n",
       "      <th>funder</th>\n",
       "      <th>gps_height</th>\n",
       "      <th>installer</th>\n",
       "      <th>longitude</th>\n",
       "      <th>latitude</th>\n",
       "      <th>wpt_name</th>\n",
       "      <th>num_private</th>\n",
       "      <th>...</th>\n",
       "      <th>water_quality</th>\n",
       "      <th>quality_group</th>\n",
       "      <th>quantity</th>\n",
       "      <th>quantity_group</th>\n",
       "      <th>source</th>\n",
       "      <th>source_type</th>\n",
       "      <th>source_class</th>\n",
       "      <th>waterpoint_type</th>\n",
       "      <th>waterpoint_type_group</th>\n",
       "      <th>status_group</th>\n",
       "    </tr>\n",
       "  </thead>\n",
       "  <tbody>\n",
       "    <tr>\n",
       "      <th>0</th>\n",
       "      <td>69572</td>\n",
       "      <td>6000.0</td>\n",
       "      <td>14/3/11</td>\n",
       "      <td>Roman</td>\n",
       "      <td>1390</td>\n",
       "      <td>Roman</td>\n",
       "      <td>34.938093</td>\n",
       "      <td>-9.856322</td>\n",
       "      <td>none</td>\n",
       "      <td>0</td>\n",
       "      <td>...</td>\n",
       "      <td>soft</td>\n",
       "      <td>good</td>\n",
       "      <td>enough</td>\n",
       "      <td>enough</td>\n",
       "      <td>spring</td>\n",
       "      <td>spring</td>\n",
       "      <td>groundwater</td>\n",
       "      <td>communal standpipe</td>\n",
       "      <td>communal standpipe</td>\n",
       "      <td>functional</td>\n",
       "    </tr>\n",
       "    <tr>\n",
       "      <th>1</th>\n",
       "      <td>8776</td>\n",
       "      <td>0.0</td>\n",
       "      <td>6/3/13</td>\n",
       "      <td>Grumeti</td>\n",
       "      <td>1399</td>\n",
       "      <td>GRUMETI</td>\n",
       "      <td>34.698766</td>\n",
       "      <td>-2.147466</td>\n",
       "      <td>Zahanati</td>\n",
       "      <td>0</td>\n",
       "      <td>...</td>\n",
       "      <td>soft</td>\n",
       "      <td>good</td>\n",
       "      <td>insufficient</td>\n",
       "      <td>insufficient</td>\n",
       "      <td>rainwater harvesting</td>\n",
       "      <td>rainwater harvesting</td>\n",
       "      <td>surface</td>\n",
       "      <td>communal standpipe</td>\n",
       "      <td>communal standpipe</td>\n",
       "      <td>functional</td>\n",
       "    </tr>\n",
       "    <tr>\n",
       "      <th>2</th>\n",
       "      <td>34310</td>\n",
       "      <td>25.0</td>\n",
       "      <td>25/2/13</td>\n",
       "      <td>Lottery Club</td>\n",
       "      <td>686</td>\n",
       "      <td>World vision</td>\n",
       "      <td>37.460664</td>\n",
       "      <td>-3.821329</td>\n",
       "      <td>Kwa Mahundi</td>\n",
       "      <td>0</td>\n",
       "      <td>...</td>\n",
       "      <td>soft</td>\n",
       "      <td>good</td>\n",
       "      <td>enough</td>\n",
       "      <td>enough</td>\n",
       "      <td>dam</td>\n",
       "      <td>dam</td>\n",
       "      <td>surface</td>\n",
       "      <td>communal standpipe multiple</td>\n",
       "      <td>communal standpipe</td>\n",
       "      <td>functional</td>\n",
       "    </tr>\n",
       "    <tr>\n",
       "      <th>3</th>\n",
       "      <td>67743</td>\n",
       "      <td>0.0</td>\n",
       "      <td>28/1/13</td>\n",
       "      <td>Unicef</td>\n",
       "      <td>263</td>\n",
       "      <td>UNICEF</td>\n",
       "      <td>38.486161</td>\n",
       "      <td>-11.155298</td>\n",
       "      <td>Zahanati Ya Nanyumbu</td>\n",
       "      <td>0</td>\n",
       "      <td>...</td>\n",
       "      <td>soft</td>\n",
       "      <td>good</td>\n",
       "      <td>dry</td>\n",
       "      <td>dry</td>\n",
       "      <td>machine dbh</td>\n",
       "      <td>borehole</td>\n",
       "      <td>groundwater</td>\n",
       "      <td>communal standpipe multiple</td>\n",
       "      <td>communal standpipe</td>\n",
       "      <td>non functional</td>\n",
       "    </tr>\n",
       "    <tr>\n",
       "      <th>4</th>\n",
       "      <td>19728</td>\n",
       "      <td>0.0</td>\n",
       "      <td>13/7/11</td>\n",
       "      <td>Action In A</td>\n",
       "      <td>0</td>\n",
       "      <td>Artisan</td>\n",
       "      <td>31.130847</td>\n",
       "      <td>-1.825359</td>\n",
       "      <td>Shuleni</td>\n",
       "      <td>0</td>\n",
       "      <td>...</td>\n",
       "      <td>soft</td>\n",
       "      <td>good</td>\n",
       "      <td>seasonal</td>\n",
       "      <td>seasonal</td>\n",
       "      <td>rainwater harvesting</td>\n",
       "      <td>rainwater harvesting</td>\n",
       "      <td>surface</td>\n",
       "      <td>communal standpipe</td>\n",
       "      <td>communal standpipe</td>\n",
       "      <td>functional</td>\n",
       "    </tr>\n",
       "  </tbody>\n",
       "</table>\n",
       "<p>5 rows × 41 columns</p>\n",
       "</div>"
      ],
      "text/plain": [
       "      id  amount_tsh date_recorded        funder  gps_height     installer  \\\n",
       "0  69572      6000.0       14/3/11         Roman        1390         Roman   \n",
       "1   8776         0.0        6/3/13       Grumeti        1399       GRUMETI   \n",
       "2  34310        25.0       25/2/13  Lottery Club         686  World vision   \n",
       "3  67743         0.0       28/1/13        Unicef         263        UNICEF   \n",
       "4  19728         0.0       13/7/11   Action In A           0       Artisan   \n",
       "\n",
       "   longitude   latitude              wpt_name  num_private       ...        \\\n",
       "0  34.938093  -9.856322                  none            0       ...         \n",
       "1  34.698766  -2.147466              Zahanati            0       ...         \n",
       "2  37.460664  -3.821329           Kwa Mahundi            0       ...         \n",
       "3  38.486161 -11.155298  Zahanati Ya Nanyumbu            0       ...         \n",
       "4  31.130847  -1.825359               Shuleni            0       ...         \n",
       "\n",
       "  water_quality quality_group      quantity  quantity_group  \\\n",
       "0          soft          good        enough          enough   \n",
       "1          soft          good  insufficient    insufficient   \n",
       "2          soft          good        enough          enough   \n",
       "3          soft          good           dry             dry   \n",
       "4          soft          good      seasonal        seasonal   \n",
       "\n",
       "                 source           source_type source_class  \\\n",
       "0                spring                spring  groundwater   \n",
       "1  rainwater harvesting  rainwater harvesting      surface   \n",
       "2                   dam                   dam      surface   \n",
       "3           machine dbh              borehole  groundwater   \n",
       "4  rainwater harvesting  rainwater harvesting      surface   \n",
       "\n",
       "               waterpoint_type waterpoint_type_group    status_group  \n",
       "0           communal standpipe    communal standpipe      functional  \n",
       "1           communal standpipe    communal standpipe      functional  \n",
       "2  communal standpipe multiple    communal standpipe      functional  \n",
       "3  communal standpipe multiple    communal standpipe  non functional  \n",
       "4           communal standpipe    communal standpipe      functional  \n",
       "\n",
       "[5 rows x 41 columns]"
      ]
     },
     "execution_count": 169,
     "metadata": {},
     "output_type": "execute_result"
    }
   ],
   "source": [
    "data = pd.read_csv('training_data.csv')\n",
    "data.head()"
   ]
  },
  {
   "cell_type": "code",
   "execution_count": 170,
   "metadata": {
    "collapsed": false
   },
   "outputs": [],
   "source": [
    "data['gov_funded'] = 0\n",
    "data['gov_funded'][data['funder'] == 'Government Of Tanzania'] = 1\n",
    "\n",
    "pd.options.mode.chained_assignment = None  # default='warn'\n"
   ]
  },
  {
   "cell_type": "code",
   "execution_count": 171,
   "metadata": {
    "collapsed": false
   },
   "outputs": [
    {
     "name": "stdout",
     "output_type": "stream",
     "text": [
      "0    50316\n",
      "1     9084\n",
      "Name: gov_funded, dtype: int64\n"
     ]
    }
   ],
   "source": [
    "print data['gov_funded'].value_counts()"
   ]
  },
  {
   "cell_type": "code",
   "execution_count": 172,
   "metadata": {
    "collapsed": false
   },
   "outputs": [
    {
     "name": "stdout",
     "output_type": "stream",
     "text": [
      "1    50818\n",
      "0     8582\n",
      "Name: good_quality, dtype: int64\n"
     ]
    }
   ],
   "source": [
    "#re-cat waterpoint \n",
    "data_waterpoint = pd.get_dummies(data['waterpoint_type_group'])\n",
    "data_waterpoint.head()\n",
    "\n",
    "#re-cat quality group \n",
    "data_quality = pd.get_dummies(data['quality_group'])\n",
    "data_quality = data_quality.drop('fluoride', 1)\n",
    "data_quality = data_quality.drop('colored', 1)\n",
    "data_quality = data_quality.drop('milky', 1)\n",
    "data_quality = data_quality.drop('salty', 1)\n",
    "data_quality = data_quality.drop('unknown', 1)\n",
    "\n",
    "\n",
    "data_quality=data_quality.rename(columns = {'good':'good_quality'})\n",
    "data_quality.head()\n",
    "\n",
    "print data_quality['good_quality'].value_counts()\n",
    "\n"
   ]
  },
  {
   "cell_type": "code",
   "execution_count": 173,
   "metadata": {
    "collapsed": false
   },
   "outputs": [],
   "source": [
    "#recat status_group \n",
    "\n",
    "vals_to_replace = {'functional': 0, 'functional needs repair': 1, 'non functional': 1}\n",
    "data['status_group'] = data['status_group'].map(vals_to_replace)\n"
   ]
  },
  {
   "cell_type": "code",
   "execution_count": 174,
   "metadata": {
    "collapsed": false
   },
   "outputs": [
    {
     "data": {
      "text/plain": [
       "0        1999\n",
       "1        2010\n",
       "2        2009\n",
       "3        1986\n",
       "4           0\n",
       "5        2009\n",
       "6           0\n",
       "7           0\n",
       "8           0\n",
       "9           0\n",
       "10       2011\n",
       "11       1987\n",
       "12          0\n",
       "13       2009\n",
       "14          0\n",
       "15       1991\n",
       "16       1978\n",
       "17       1978\n",
       "18       1999\n",
       "19       1992\n",
       "20       2008\n",
       "21          0\n",
       "22       1978\n",
       "23       2011\n",
       "24       2009\n",
       "25       1974\n",
       "26       2011\n",
       "27          0\n",
       "28       2000\n",
       "29       2002\n",
       "         ... \n",
       "59370       0\n",
       "59371       0\n",
       "59372       0\n",
       "59373    1988\n",
       "59374       0\n",
       "59375    2005\n",
       "59376    1990\n",
       "59377       0\n",
       "59378    2008\n",
       "59379       0\n",
       "59380    1999\n",
       "59381    1992\n",
       "59382    2008\n",
       "59383    2008\n",
       "59384       0\n",
       "59385    2011\n",
       "59386    2009\n",
       "59387    2000\n",
       "59388    1995\n",
       "59389    2009\n",
       "59390    1991\n",
       "59391    1967\n",
       "59392       0\n",
       "59393       0\n",
       "59394    2007\n",
       "59395    1999\n",
       "59396    1996\n",
       "59397       0\n",
       "59398       0\n",
       "59399    2002\n",
       "Name: construction_year, dtype: int64"
      ]
     },
     "execution_count": 174,
     "metadata": {},
     "output_type": "execute_result"
    }
   ],
   "source": [
    "#drop unused columns\n",
    "cols_to_drop = [['date_recorded'], ['gps_height']]\n",
    "data = data.drop(['date_recorded'], axis=1)\n",
    "data = data.drop(['num_private'], axis=1)\n",
    "\n",
    "data['construction_year']"
   ]
  },
  {
   "cell_type": "code",
   "execution_count": 175,
   "metadata": {
    "collapsed": false
   },
   "outputs": [
    {
     "data": {
      "text/plain": [
       "0         109\n",
       "1         280\n",
       "2         250\n",
       "3          58\n",
       "4           0\n",
       "5           1\n",
       "6           0\n",
       "7           0\n",
       "8           0\n",
       "9           0\n",
       "10        345\n",
       "11        250\n",
       "12          0\n",
       "13          1\n",
       "14          0\n",
       "15        200\n",
       "16         35\n",
       "17         50\n",
       "18       1000\n",
       "19          1\n",
       "20          4\n",
       "21          0\n",
       "22        350\n",
       "23        210\n",
       "24        156\n",
       "25        140\n",
       "26        260\n",
       "27          0\n",
       "28          1\n",
       "29          1\n",
       "         ... \n",
       "59370       1\n",
       "59371       0\n",
       "59372       0\n",
       "59373      96\n",
       "59374       0\n",
       "59375     609\n",
       "59376       1\n",
       "59377       0\n",
       "59378      36\n",
       "59379       0\n",
       "59380      50\n",
       "59381     360\n",
       "59382       1\n",
       "59383     800\n",
       "59384       0\n",
       "59385     200\n",
       "59386    1000\n",
       "59387     100\n",
       "59388     500\n",
       "59389    1500\n",
       "59390     150\n",
       "59391     210\n",
       "59392       0\n",
       "59393       0\n",
       "59394      89\n",
       "59395     125\n",
       "59396      56\n",
       "59397       0\n",
       "59398       0\n",
       "59399     150\n",
       "Name: population, dtype: int64"
      ]
     },
     "execution_count": 175,
     "metadata": {},
     "output_type": "execute_result"
    }
   ],
   "source": [
    "\n",
    "#concat the new datasets \n",
    "df_new = pd.concat([data, data_waterpoint, data_quality], axis=1)\n",
    "\n",
    "\n",
    "df_new['population']"
   ]
  },
  {
   "cell_type": "code",
   "execution_count": 176,
   "metadata": {
    "collapsed": false
   },
   "outputs": [],
   "source": [
    "y = data['status_group']\n",
    "cols_to_use = ['gov_funded', 'population', 'amount_tsh', 'good_quality', 'cattle trough', 'communal standpipe', 'dam', 'hand pump', 'improved spring', 'construction_year', 'population', 'longitude', 'latitude', 'amount_tsh']\n",
    "X = df_new[cols_to_use]\n"
   ]
  },
  {
   "cell_type": "code",
   "execution_count": 177,
   "metadata": {
    "collapsed": false
   },
   "outputs": [],
   "source": [
    "# Splitting the dataset into the Training set and Test set\n",
    "from sklearn.cross_validation import train_test_split\n",
    "X_train, X_test, y_train, y_test = train_test_split(X, y, test_size = 0.2, random_state = 0)\n",
    "\n",
    "# Feature Scaling\n",
    "from sklearn.preprocessing import StandardScaler\n",
    "sc = StandardScaler()\n",
    "X_train = sc.fit_transform(X_train)\n",
    "X_test = sc.transform(X_test)"
   ]
  },
  {
   "cell_type": "code",
   "execution_count": 178,
   "metadata": {
    "collapsed": false
   },
   "outputs": [],
   "source": [
    "# Importing the Keras libraries and packages\n",
    "import keras\n",
    "from keras.models import Sequential\n",
    "from keras.layers import Dense"
   ]
  },
  {
   "cell_type": "code",
   "execution_count": 179,
   "metadata": {
    "collapsed": false
   },
   "outputs": [
    {
     "name": "stderr",
     "output_type": "stream",
     "text": [
      "/anaconda/lib/python2.7/site-packages/ipykernel/__main__.py:5: UserWarning: Update your `Dense` call to the Keras 2 API: `Dense(kernel_initializer=\"uniform\", activation=\"relu\", input_dim=14, units=6)`\n",
      "/anaconda/lib/python2.7/site-packages/ipykernel/__main__.py:8: UserWarning: Update your `Dense` call to the Keras 2 API: `Dense(units=6, activation=\"relu\", kernel_initializer=\"uniform\")`\n",
      "/anaconda/lib/python2.7/site-packages/ipykernel/__main__.py:11: UserWarning: Update your `Dense` call to the Keras 2 API: `Dense(units=1, activation=\"sigmoid\", kernel_initializer=\"uniform\")`\n"
     ]
    },
    {
     "name": "stdout",
     "output_type": "stream",
     "text": [
      "Epoch 1/100\n",
      "47520/47520 [==============================] - 19s - loss: 0.6301 - acc: 0.6377    \n",
      "Epoch 2/100\n",
      "47520/47520 [==============================] - 19s - loss: 0.6183 - acc: 0.6442    \n",
      "Epoch 3/100\n",
      "47520/47520 [==============================] - 17s - loss: 0.6149 - acc: 0.6461    \n",
      "Epoch 4/100\n",
      "47520/47520 [==============================] - 19s - loss: 0.6120 - acc: 0.6519    \n",
      "Epoch 5/100\n",
      "47520/47520 [==============================] - 19s - loss: 0.6098 - acc: 0.6556    \n",
      "Epoch 6/100\n",
      "47520/47520 [==============================] - 19s - loss: 0.6079 - acc: 0.6594    \n",
      "Epoch 7/100\n",
      "47520/47520 [==============================] - 19s - loss: 0.6064 - acc: 0.6613    \n",
      "Epoch 8/100\n",
      "47520/47520 [==============================] - 19s - loss: 0.6057 - acc: 0.6636    \n",
      "Epoch 9/100\n",
      "47520/47520 [==============================] - 19s - loss: 0.6048 - acc: 0.6655    \n",
      "Epoch 10/100\n",
      "47520/47520 [==============================] - 19s - loss: 0.6043 - acc: 0.6661    \n",
      "Epoch 11/100\n",
      "47520/47520 [==============================] - 19s - loss: 0.6037 - acc: 0.6680    \n",
      "Epoch 12/100\n",
      "47520/47520 [==============================] - 19s - loss: 0.6037 - acc: 0.6674    \n",
      "Epoch 13/100\n",
      "47520/47520 [==============================] - 19s - loss: 0.6032 - acc: 0.6673    \n",
      "Epoch 14/100\n",
      "47520/47520 [==============================] - 18s - loss: 0.6029 - acc: 0.6678    \n",
      "Epoch 15/100\n",
      "47520/47520 [==============================] - 18s - loss: 0.6026 - acc: 0.6689    \n",
      "Epoch 16/100\n",
      "47520/47520 [==============================] - 19s - loss: 0.6018 - acc: 0.6695    \n",
      "Epoch 17/100\n",
      "47520/47520 [==============================] - 19s - loss: 0.6017 - acc: 0.6687    \n",
      "Epoch 18/100\n",
      "47520/47520 [==============================] - 19s - loss: 0.6015 - acc: 0.6666    \n",
      "Epoch 19/100\n",
      "47520/47520 [==============================] - 20s - loss: 0.6010 - acc: 0.6684    \n",
      "Epoch 20/100\n",
      "47520/47520 [==============================] - 20s - loss: 0.6005 - acc: 0.6693    \n",
      "Epoch 21/100\n",
      "47520/47520 [==============================] - 20s - loss: 0.6007 - acc: 0.6682    \n",
      "Epoch 22/100\n",
      "47520/47520 [==============================] - 19s - loss: 0.6002 - acc: 0.6697    \n",
      "Epoch 23/100\n",
      "47520/47520 [==============================] - 18s - loss: 0.6001 - acc: 0.6690    \n",
      "Epoch 24/100\n",
      "47520/47520 [==============================] - 18s - loss: 0.6000 - acc: 0.6694    \n",
      "Epoch 25/100\n",
      "47520/47520 [==============================] - 18s - loss: 0.5997 - acc: 0.6686    \n",
      "Epoch 26/100\n",
      "47520/47520 [==============================] - 19s - loss: 0.5993 - acc: 0.6695    \n",
      "Epoch 27/100\n",
      "47520/47520 [==============================] - 19s - loss: 0.5993 - acc: 0.6699    \n",
      "Epoch 28/100\n",
      "47520/47520 [==============================] - 19s - loss: 0.5994 - acc: 0.6703    \n",
      "Epoch 29/100\n",
      "47520/47520 [==============================] - 20s - loss: 0.5987 - acc: 0.6706    \n",
      "Epoch 30/100\n",
      "47520/47520 [==============================] - 20s - loss: 0.5988 - acc: 0.6716    \n",
      "Epoch 31/100\n",
      "47520/47520 [==============================] - 19s - loss: 0.5987 - acc: 0.6716    \n",
      "Epoch 32/100\n",
      "47520/47520 [==============================] - 19s - loss: 0.5984 - acc: 0.6710    \n",
      "Epoch 33/100\n",
      "47520/47520 [==============================] - 19s - loss: 0.5984 - acc: 0.6701    \n",
      "Epoch 34/100\n",
      "47520/47520 [==============================] - 19s - loss: 0.5983 - acc: 0.6703    \n",
      "Epoch 35/100\n",
      "47520/47520 [==============================] - 19s - loss: 0.5980 - acc: 0.6691    \n",
      "Epoch 36/100\n",
      "47520/47520 [==============================] - 19s - loss: 0.5978 - acc: 0.6715    \n",
      "Epoch 37/100\n",
      "47520/47520 [==============================] - 19s - loss: 0.5979 - acc: 0.6703    \n",
      "Epoch 38/100\n",
      "47520/47520 [==============================] - 20s - loss: 0.5978 - acc: 0.6698    \n",
      "Epoch 39/100\n",
      "47520/47520 [==============================] - 19s - loss: 0.5975 - acc: 0.6711    \n",
      "Epoch 40/100\n",
      "47520/47520 [==============================] - 20s - loss: 0.5974 - acc: 0.6704    \n",
      "Epoch 41/100\n",
      "47520/47520 [==============================] - 20s - loss: 0.5974 - acc: 0.6700    \n",
      "Epoch 42/100\n",
      "47520/47520 [==============================] - 20s - loss: 0.5972 - acc: 0.6716    \n",
      "Epoch 43/100\n",
      "47520/47520 [==============================] - 20s - loss: 0.5969 - acc: 0.6720    \n",
      "Epoch 44/100\n",
      "47520/47520 [==============================] - 20s - loss: 0.5970 - acc: 0.6710    \n",
      "Epoch 45/100\n",
      "47520/47520 [==============================] - 20s - loss: 0.5965 - acc: 0.6720    \n",
      "Epoch 46/100\n",
      "47520/47520 [==============================] - 20s - loss: 0.5966 - acc: 0.6728    \n",
      "Epoch 47/100\n",
      "47520/47520 [==============================] - 19s - loss: 0.5968 - acc: 0.6714    \n",
      "Epoch 48/100\n",
      "47520/47520 [==============================] - 20s - loss: 0.5964 - acc: 0.6719    \n",
      "Epoch 49/100\n",
      "47520/47520 [==============================] - 19s - loss: 0.5959 - acc: 0.6731    \n",
      "Epoch 50/100\n",
      "47520/47520 [==============================] - 20s - loss: 0.5957 - acc: 0.6731    \n",
      "Epoch 51/100\n",
      "47520/47520 [==============================] - 21s - loss: 0.5959 - acc: 0.6743    \n",
      "Epoch 52/100\n",
      "47520/47520 [==============================] - 19s - loss: 0.5960 - acc: 0.6725    \n",
      "Epoch 53/100\n",
      "47520/47520 [==============================] - 19s - loss: 0.5955 - acc: 0.6730    \n",
      "Epoch 54/100\n",
      "47520/47520 [==============================] - 19s - loss: 0.5958 - acc: 0.6712    \n",
      "Epoch 55/100\n",
      "47520/47520 [==============================] - 20s - loss: 0.5956 - acc: 0.6732    \n",
      "Epoch 56/100\n",
      "47520/47520 [==============================] - 20s - loss: 0.5956 - acc: 0.6729    \n",
      "Epoch 57/100\n",
      "47520/47520 [==============================] - 18s - loss: 0.5954 - acc: 0.6737    \n",
      "Epoch 58/100\n",
      "47520/47520 [==============================] - 18s - loss: 0.5956 - acc: 0.6715    \n",
      "Epoch 59/100\n",
      "47520/47520 [==============================] - 19s - loss: 0.5953 - acc: 0.6741    \n",
      "Epoch 60/100\n",
      "47520/47520 [==============================] - 18s - loss: 0.5954 - acc: 0.6730    \n",
      "Epoch 61/100\n",
      "47520/47520 [==============================] - 19s - loss: 0.5954 - acc: 0.6735    \n",
      "Epoch 62/100\n",
      "47520/47520 [==============================] - 20s - loss: 0.5950 - acc: 0.6716    \n",
      "Epoch 63/100\n",
      "47520/47520 [==============================] - 20s - loss: 0.5952 - acc: 0.6711    \n",
      "Epoch 64/100\n",
      "47520/47520 [==============================] - 20s - loss: 0.5951 - acc: 0.6745    \n",
      "Epoch 65/100\n",
      "47520/47520 [==============================] - 20s - loss: 0.5950 - acc: 0.6743    \n",
      "Epoch 66/100\n",
      "47520/47520 [==============================] - 20s - loss: 0.5952 - acc: 0.6733    \n",
      "Epoch 67/100\n",
      "47520/47520 [==============================] - 20s - loss: 0.5953 - acc: 0.6730    \n",
      "Epoch 68/100\n",
      "47520/47520 [==============================] - 19s - loss: 0.5950 - acc: 0.6735    \n",
      "Epoch 69/100\n",
      "47520/47520 [==============================] - 21s - loss: 0.5950 - acc: 0.6739    \n",
      "Epoch 70/100\n",
      "47520/47520 [==============================] - 20s - loss: 0.5947 - acc: 0.6725    \n",
      "Epoch 71/100\n",
      "47520/47520 [==============================] - 20s - loss: 0.5951 - acc: 0.6727    \n",
      "Epoch 72/100\n",
      "47520/47520 [==============================] - 20s - loss: 0.5948 - acc: 0.6747    \n",
      "Epoch 73/100\n",
      "47520/47520 [==============================] - 19s - loss: 0.5946 - acc: 0.6747    \n",
      "Epoch 74/100\n",
      "47520/47520 [==============================] - 21s - loss: 0.5947 - acc: 0.6741    \n",
      "Epoch 75/100\n",
      "47520/47520 [==============================] - 20s - loss: 0.5945 - acc: 0.6748    \n",
      "Epoch 76/100\n",
      "47520/47520 [==============================] - 20s - loss: 0.5947 - acc: 0.6759    \n",
      "Epoch 77/100\n",
      "47520/47520 [==============================] - 22s - loss: 0.5949 - acc: 0.6729    \n",
      "Epoch 78/100\n",
      "47520/47520 [==============================] - 21s - loss: 0.5947 - acc: 0.6751    \n",
      "Epoch 79/100\n",
      "47520/47520 [==============================] - 21s - loss: 0.5947 - acc: 0.6730    \n",
      "Epoch 80/100\n",
      "47520/47520 [==============================] - 21s - loss: 0.5946 - acc: 0.6736    \n",
      "Epoch 81/100\n",
      "47520/47520 [==============================] - 21s - loss: 0.5946 - acc: 0.6736    \n",
      "Epoch 82/100\n",
      "47520/47520 [==============================] - 20s - loss: 0.5941 - acc: 0.6747    \n",
      "Epoch 83/100\n",
      "47520/47520 [==============================] - 20s - loss: 0.5944 - acc: 0.6755    \n",
      "Epoch 84/100\n",
      "47520/47520 [==============================] - 20s - loss: 0.5944 - acc: 0.6740    \n",
      "Epoch 85/100\n",
      "47520/47520 [==============================] - 21s - loss: 0.5943 - acc: 0.6740    \n",
      "Epoch 86/100\n",
      "47520/47520 [==============================] - 21s - loss: 0.5944 - acc: 0.6751    \n",
      "Epoch 87/100\n",
      "47520/47520 [==============================] - 21s - loss: 0.5942 - acc: 0.6746    \n",
      "Epoch 88/100\n",
      "47520/47520 [==============================] - 20s - loss: 0.5944 - acc: 0.6744    \n",
      "Epoch 89/100\n",
      "47520/47520 [==============================] - 20s - loss: 0.5942 - acc: 0.6744    \n",
      "Epoch 90/100\n",
      "47520/47520 [==============================] - 19s - loss: 0.5938 - acc: 0.6747    \n",
      "Epoch 91/100\n",
      "47520/47520 [==============================] - 19s - loss: 0.5939 - acc: 0.6744    \n",
      "Epoch 92/100\n",
      "47520/47520 [==============================] - 19s - loss: 0.5941 - acc: 0.6726    \n",
      "Epoch 93/100\n",
      "47520/47520 [==============================] - 19s - loss: 0.5935 - acc: 0.6737    \n",
      "Epoch 94/100\n",
      "47520/47520 [==============================] - 20s - loss: 0.5942 - acc: 0.6744    \n",
      "Epoch 95/100\n",
      "47520/47520 [==============================] - 20s - loss: 0.5943 - acc: 0.6743    \n",
      "Epoch 96/100\n",
      "47520/47520 [==============================] - 20s - loss: 0.5939 - acc: 0.6739    \n",
      "Epoch 97/100\n",
      "47520/47520 [==============================] - 20s - loss: 0.5938 - acc: 0.6741    \n",
      "Epoch 98/100\n",
      "47520/47520 [==============================] - 21s - loss: 0.5941 - acc: 0.6729    \n",
      "Epoch 99/100\n",
      "47520/47520 [==============================] - 19s - loss: 0.5937 - acc: 0.6743    \n",
      "Epoch 100/100\n",
      "47520/47520 [==============================] - 20s - loss: 0.5934 - acc: 0.6749    \n"
     ]
    },
    {
     "data": {
      "text/plain": [
       "<keras.callbacks.History at 0x140996d50>"
      ]
     },
     "execution_count": 179,
     "metadata": {},
     "output_type": "execute_result"
    }
   ],
   "source": [
    "# Initialising the ANN\n",
    "classifier = Sequential()\n",
    "\n",
    "# Adding the input layer and the first hidden layer\n",
    "classifier.add(Dense(output_dim = 6, init = 'uniform', activation = 'relu', input_dim = 14))\n",
    "\n",
    "# Adding the second hidden layer\n",
    "classifier.add(Dense(output_dim = 6, init = 'uniform', activation = 'relu'))\n",
    "\n",
    "# Adding the output layer\n",
    "classifier.add(Dense(output_dim = 1, init = 'uniform', activation = 'sigmoid'))\n",
    "\n",
    "# Compiling the ANN\n",
    "classifier.compile(optimizer = 'adam', loss = 'binary_crossentropy', metrics = ['accuracy'])\n",
    "\n",
    "# Fitting the ANN to the Training set\n",
    "classifier.fit(X_train, y_train, batch_size = 10, nb_epoch = 100)"
   ]
  },
  {
   "cell_type": "code",
   "execution_count": 219,
   "metadata": {
    "collapsed": false
   },
   "outputs": [
    {
     "name": "stdout",
     "output_type": "stream",
     "text": [
      "[[5059 1385]\n",
      " [2587 2849]]\n",
      "0.665656565657\n"
     ]
    }
   ],
   "source": [
    "from __future__ import division\n",
    "\n",
    "# Predicting the Test set results\n",
    "y_pred = classifier.predict(X_test)\n",
    "y_pred = (y_pred > 0.5)\n",
    "\n",
    "# Making the Confusion Matrix\n",
    "from sklearn.metrics import confusion_matrix\n",
    "cm = confusion_matrix(y_test, y_pred)\n",
    "print cm \n",
    "\n",
    "ANN_accuracy = (5059 + 2849) / (5059 + 1385 + 2587 + 2849)\n",
    "print ANN_accuracy "
   ]
  },
  {
   "cell_type": "code",
   "execution_count": 220,
   "metadata": {
    "collapsed": false
   },
   "outputs": [
    {
     "name": "stdout",
     "output_type": "stream",
     "text": [
      "10976/11880 [==========================>...] - ETA: 0s[0.59764978821430137, 0.66565656565656561]\n"
     ]
    }
   ],
   "source": [
    "scores = classifier.evaluate(X_test, y_test)\n",
    "print scores "
   ]
  },
  {
   "cell_type": "code",
   "execution_count": 221,
   "metadata": {
    "collapsed": false
   },
   "outputs": [
    {
     "data": {
      "text/plain": [
       "XGBClassifier(base_score=0.5, colsample_bylevel=1, colsample_bytree=1,\n",
       "       gamma=0, learning_rate=0.1, max_delta_step=0, max_depth=3,\n",
       "       min_child_weight=1, missing=None, n_estimators=100, nthread=-1,\n",
       "       objective='binary:logistic', reg_alpha=0, reg_lambda=1,\n",
       "       scale_pos_weight=1, seed=0, silent=True, subsample=1)"
      ]
     },
     "execution_count": 221,
     "metadata": {},
     "output_type": "execute_result"
    }
   ],
   "source": [
    "from xgboost import XGBClassifier\n",
    "classifier = XGBClassifier()\n",
    "classifier.fit(X_train, y_train)"
   ]
  },
  {
   "cell_type": "code",
   "execution_count": 222,
   "metadata": {
    "collapsed": false
   },
   "outputs": [
    {
     "name": "stdout",
     "output_type": "stream",
     "text": [
      "0.703282974566\n",
      "0.00463340860988\n"
     ]
    }
   ],
   "source": [
    "# Predicting the Test set results\n",
    "y_pred = classifier.predict(X_test)\n",
    "\n",
    "# Making the Confusion Matrix\n",
    "from sklearn.metrics import confusion_matrix\n",
    "cm = confusion_matrix(y_test, y_pred)\n",
    "\n",
    "# Applying k-Fold Cross Validation\n",
    "from sklearn.cross_validation import cross_val_score\n",
    "accuracies = cross_val_score(estimator = classifier, X = X_train, y = y_train, cv = 10, scoring='accuracy')\n",
    "print accuracies.mean()\n",
    "print accuracies.std()\n"
   ]
  },
  {
   "cell_type": "code",
   "execution_count": 223,
   "metadata": {
    "collapsed": false
   },
   "outputs": [
    {
     "name": "stdout",
     "output_type": "stream",
     "text": [
      "XGBoost accuracy: 70.3%\n",
      "ANN accuracy: 66.6%\n"
     ]
    }
   ],
   "source": [
    "print \"XGBoost accuracy: %.1f\" % (accuracies.mean()*100) + \"%\"\n",
    "print \"ANN accuracy: %.1f\" % (ANN_accuracy*100) + \"%\""
   ]
  }
 ],
 "metadata": {
  "anaconda-cloud": {},
  "kernelspec": {
   "display_name": "Python [conda root]",
   "language": "python",
   "name": "conda-root-py"
  },
  "language_info": {
   "codemirror_mode": {
    "name": "ipython",
    "version": 2
   },
   "file_extension": ".py",
   "mimetype": "text/x-python",
   "name": "python",
   "nbconvert_exporter": "python",
   "pygments_lexer": "ipython2",
   "version": "2.7.12"
  }
 },
 "nbformat": 4,
 "nbformat_minor": 1
}
